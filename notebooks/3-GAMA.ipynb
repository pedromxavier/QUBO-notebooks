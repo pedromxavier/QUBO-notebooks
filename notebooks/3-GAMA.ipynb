{
  "cells": [
    {
      "attachments": {},
      "cell_type": "markdown",
      "metadata": {},
      "source": [
        "<a name=\"top\" id=\"top\"></a>\n",
        "\n",
        "<div align=\"center\">\n",
        "    <h1>Graver Augmentation Multiseed Algorithm</h1>\n",
        "    <a href=\"https://github.com/bernalde\">David E. Bernal Neira</a>\n",
        "    <br>\n",
        "    <i>Davidson School of Chemical Engineering, Purdue University</i>\n",
        "    <br>\n",
        "    <i>Universities Space Research Association</i>\n",
        "    <br>\n",
        "    <i>NASA QuAIL</i>\n",
        "    <br>\n",
        "    <br>\n",
        "    <a href=\"https://github.com/pedromxavier\">Pedro Maciel Xavier</a>\n",
        "    <br>\n",
        "    <i>Computer Science &amp; Systems Engineering Program, Federal University of Rio de Janeiro</i>\n",
        "    <br>\n",
        "    <i>PSR Energy Consulting &amp; Analytics</i>\n",
        "    <br>\n",
        "    <br>\n",
        "    <a href=\"https://colab.research.google.com/github/pedromxavier/QUBO-notebooks/blob/main/notebooks/3-GAMA.ipynb\" target=\"_parent\">\n",
        "        <img src=\"https://colab.research.google.com/assets/colab-badge.svg\" alt=\"Open In Colab\"/>\n",
        "    </a>\n",
        "    <a href=\"#installation\">\n",
        "        <img src=\"https://img.shields.io/badge/⚙️-Installation_Instructions-blue\" alt=\"Installation Instructions\"/>\n",
        "    </a>\n",
        "    <a href=\"https://bernalde.github.io/\">\n",
        "        <img src=\"https://img.shields.io/badge/⚗️-Bernal_Lab-blue\" alt=\"Bernal Lab\"/>\n",
        "    </a>\n",
        "</div>"
      ]
    },
    {
      "attachments": {},
      "cell_type": "markdown",
      "metadata": {},
      "source": [
        "### Activate Environment"
      ]
    },
    {
      "cell_type": "code",
      "execution_count": null,
      "metadata": {},
      "outputs": [],
      "source": [
        "import Pkg; Pkg.activate(@__DIR__) # Here we go!"
      ]
    },
    {
      "attachments": {},
      "cell_type": "markdown",
      "metadata": {},
      "source": [
        "## About this notebook\n",
        "\n",
        "This notebook makes simple computations of Graver basis.\n",
        "Because of the complexity of these computation, we suggest that for more complicated problems you install the excellent **[4ti2](https://4ti2.github.io/)** software, an open-source implementation of several routines useful for the study of integer programming through algebraic geometry.\n",
        "It can be used as a stand-alone library and call it from C++ or directly from Julia.\n",
        "In Julia, a binding is provided by **[lib4ti2_jll](https://github.com/JuliaBinaryWrappers/lib4ti2_jll.jl)**.\n",
        "\n",
        "## Introduction to GAMA\n",
        "\n",
        "The Graver Augmentation Multiseed Algorithm (GAMA) was proposed by [two](https://arxiv.org/abs/1902.04215) [papers](https://arxiv.org/abs/1907.10930) by Alghassi, Dridi, and Tayur from the CMU Quantum Computing group.\n",
        "The three main ingredients of this algorithm, designed to solve integer programs with linear constraints and nonlinear objective, are:\n",
        "\n",
        "- Computing the Graver basis (or a subset of it) of an integer program.\n",
        "- Performing an augmentation.\n",
        "- Given that only for certain objective functions, the Graver augmentation is guaranteed to find a globally optimal solution, the algorithm is initialized in several points.\n",
        "\n",
        "This algorithm can be adapted to take advantage of Quantum Computers by leveraging them as black-box Ising/QUBO problem solvers.\n",
        "In particular, obtaining several feasible solution points for the augmentation and computing the Kernel of the constraint matrix can be posed as QUBO problems.\n",
        "After obtaining these solutions, other routines implemented in classical computers are used to solve the optimization problems, making this a hybrid quantum-classical algorithm.\n",
        "\n",
        "### Introduction to Graver basis computation\n",
        "\n",
        "A Graver basis is defined as\n",
        "\n",
        "$$\n",
        "\\mathcal{G}(\\mathbf{A}) = \\bigcup_{j} \\mathcal{H}_{j}(\\mathbf{A})\n",
        "$$\n",
        "\n",
        "where $\\mathcal{H}_{j}(\\mathbf{A})$ are the minimal Hilbert basis of $\\mathbf{A}$ in each orthant.\n",
        "\n",
        "Equivalently we can define the Graver basis as the $\\sqsubseteq$-minimal set of a lattice\n",
        "\n",
        "$$\n",
        "\\mathcal{L}(\\mathbf{A}) = \\left\\lbrace{}{\\mathbf{x} : \\mathbf{A} \\mathbf{x} = 0, \\mathbf{x} \\in \\mathbb{Z}^{n}}\\right\\rbrace{} \\setminus \\left\\lbrace{}{0}\\right\\rbrace{}\n",
        "$$\n",
        "\n",
        "Here we won't interact with the Quantum Computer.\n",
        "However, we will obtain the Graver basis of a problem using package 4ti2.\n",
        "This notebook studies the behavior of the search algorithm in the case that we only have available a subset of the Graver basis."
      ]
    },
    {
      "attachments": {},
      "cell_type": "markdown",
      "metadata": {},
      "source": [
        "## Problem statement\n",
        "\n",
        "We will be solving EXAMPLE 4 in the code, which corresponds to Case 2 in the original GAMA paper.\n",
        "The problem is derived from finance and deals with the maximization of expected returns on investments and the minimization of the variance.\n",
        "\n",
        "$$\n",
        "\\begin{array}{rll}\n",
        "    \\displaystyle \\min & \\displaystyle -\\sum_{i = 1}^{n} \\mu_{i} x_{i} + \\sqrt{\\frac{1 - \\varepsilon}{\\varepsilon} \\sum_{i = 1}^{n} \\sigma_{i}^2 x_{i}^2 } \\\\\n",
        "    \\textrm{s.t.}      & A \\mathbf{x} = \\mathbf{b} \\\\\n",
        "    ~                  & \\mathbf{x} \\in \\left\\lbrace{}{-2, -1, 0, 1, 2}\\right\\rbrace{}^{n}\n",
        "\\end{array}\n",
        "$$"
      ]
    },
    {
      "attachments": {},
      "cell_type": "markdown",
      "metadata": {},
      "source": [
        "### Example\n",
        "\n",
        "Let\n",
        "\n",
        "$$\n",
        "A = \\begin{bmatrix}\n",
        "1 & 1 & 1 & 1 & 1 & 1 & 1 & 1 & 1 & 1 & 0 & 1 & 0 & 1 & 0 & 1 & 0 & 1 & 1 & 1 & 0 & 1 & 0 & 1 & 0 \\\\\n",
        "1 & 1 & 1 & 1 & 0 & 1 & 0 & 1 & 0 & 0 & 1 & 0 & 0 & 0 & 1 & 0 & 0 & 1 & 0 & 1 & 1 & 1 & 1 & 1 & 1 \\\\\n",
        "0 & 1 & 0 & 0 & 0 & 1 & 0 & 1 & 0 & 1 & 1 & 0 & 1 & 1 & 0 & 1 & 1 & 0 & 0 & 1 & 0 & 0 & 1 & 1 & 1 \\\\\n",
        "0 & 0 & 0 & 0 & 0 & 0 & 0 & 1 & 0 & 1 & 1 & 1 & 0 & 1 & 1 & 1 & 1 & 0 & 0 & 1 & 0 & 0 & 0 & 0 & 0 \\\\\n",
        "0 & 1 & 1 & 1 & 1 & 1 & 0 & 0 & 0 & 1 & 0 & 0 & 0 & 1 & 0 & 0 & 0 & 0 & 0 & 1 & 0 & 1 & 0 & 1 & 0 \\\\\n",
        "\\end{bmatrix}\n",
        "$$\n",
        "\n",
        "This particular instance of convex INLP has $m = 5$, $n = 25$, $\\varepsilon = 0.01$, $\\mu_{i} = \\textrm{rand}[0, 1]$, $\\sigma_{i} = \\textrm{rand}[0, \\mu_{i}]$.\n",
        "$A \\in \\mathbb{B}^{m \\times n}$ and each $b_{j}$ is half the sum of the $j$-th row of $A$.\n",
        "In this example, $\\mathbf{b} = \\left({9, 8, 7, 5, 5}\\right)'$."
      ]
    },
    {
      "attachments": {},
      "cell_type": "markdown",
      "metadata": {},
      "source": [
        "First we would write this problem as a an unconstrained one by penalizing the linear constraints as quadratics in the objective.\n",
        "Let's first define the problem parameters."
      ]
    },
    {
      "cell_type": "code",
      "execution_count": 5,
      "metadata": {},
      "outputs": [
        {
          "data": {
            "text/plain": [
              "5×1 Matrix{Int64}:\n",
              " 9\n",
              " 8\n",
              " 7\n",
              " 5\n",
              " 5"
            ]
          },
          "metadata": {},
          "output_type": "display_data"
        }
      ],
      "source": [
        "A = [\n",
        "    1 1 1 1 1 1 1 1 1 1 0 1 0 1 0 1 0 1 1 1 0 1 0 1 0\n",
        "    1 1 1 1 0 1 0 1 0 0 1 0 0 0 1 0 0 1 0 1 1 1 1 1 1\n",
        "    0 1 0 0 0 1 0 1 0 1 1 0 1 1 0 1 1 0 0 1 0 0 1 1 1\n",
        "    0 0 0 0 0 0 0 1 0 1 1 1 0 1 1 1 1 0 0 1 0 0 0 0 0\n",
        "    0 1 1 1 1 1 0 0 0 1 0 0 0 1 0 0 0 0 0 1 0 1 0 1 0\n",
        "]\n",
        "\n",
        "m, n = size(A)\n",
        "\n",
        "b = ceil.(Int, sum(A; dims = 2) / 2)"
      ]
    },
    {
      "cell_type": "code",
      "execution_count": 6,
      "metadata": {},
      "outputs": [],
      "source": [
        "x0 = [1, 1, 1, 1, -1, 1, 1, 1, 1, 1, 1, 1, -2, 1, 0, -1, 0, 1, -1, 1, -2, -2, 1, 1, 1]\n",
        "\n",
        "xl = fill(-2, n)\n",
        "xu = fill(2, n);"
      ]
    },
    {
      "cell_type": "code",
      "execution_count": 11,
      "metadata": {},
      "outputs": [
        {
          "data": {
            "text/plain": [
              "25-element Vector{Float64}:\n",
              " 0.005557116751233621\n",
              " 0.17653683032560488\n",
              " 0.006393592028502544\n",
              " 0.8611321959286385\n",
              " 0.26543188380689614\n",
              " 0.07001148481489934\n",
              " 0.4935925888076086\n",
              " 0.16746461972487978\n",
              " 0.4256054954439059\n",
              " 0.0700846103504365\n",
              " ⋮\n",
              " 0.5279803514158558\n",
              " 0.06949578764730337\n",
              " 0.07434998696622722\n",
              " 0.23868494434363138\n",
              " 0.5054747201950235\n",
              " 0.20099362608668975\n",
              " 0.31717194219795364\n",
              " 0.39041844978408696\n",
              " 0.02378749193752114"
            ]
          },
          "metadata": {},
          "output_type": "display_data"
        }
      ],
      "source": [
        "ε = 0.01\n",
        "μ = rand(n)      # ~ [0, 1]\n",
        "σ = rand(n) .* μ # ~ [0, μ]"
      ]
    },
    {
      "cell_type": "code",
      "execution_count": 2,
      "metadata": {},
      "outputs": [],
      "source": [
        "using lib4ti2_jll, BinaryWrappers\n",
        "const lib4ti2_bin = @generate_wrappers(lib4ti2_jll);"
      ]
    },
    {
      "cell_type": "code",
      "execution_count": 9,
      "metadata": {},
      "outputs": [
        {
          "data": {
            "text/plain": [
              "graver_basis (generic function with 1 method)"
            ]
          },
          "metadata": {},
          "output_type": "display_data"
        }
      ],
      "source": [
        "function write_mat(path::AbstractString, A)\n",
        "    m, n = size(A)\n",
        "\n",
        "    open(path, \"w\") do io\n",
        "        println(io, \"$m $n\")\n",
        "\n",
        "        join(io, (join(@view(A[i, :]), \" \") for i = 1:m), \"\\n\")\n",
        "    end\n",
        "\n",
        "    return nothing\n",
        "end\n",
        "\n",
        "function read_mat(path::AbstractString, type = Int)\n",
        "    m, n = parse.(Int, split(readline(path)))\n",
        "\n",
        "    A = Matrix{type}(undef, m, n)\n",
        "\n",
        "    open(path, \"r\") do io\n",
        "        readline(io)\n",
        "\n",
        "        for (i, line) in enumerate(eachline(io))\n",
        "            A[i, :] .= parse.(Int, split(line))\n",
        "        end\n",
        "    end\n",
        "\n",
        "    return A\n",
        "end\n",
        "\n",
        "function graver_basis(A, xl, xu)\n",
        "    G = nothing\n",
        "\n",
        "    mktempdir() do path\n",
        "        proj_path = joinpath(path, \"proj\")\n",
        "\n",
        "        write_mat(\"$(proj_path).mat\", A)\n",
        "        write_mat(\"$(proj_path).lb\", xl)\n",
        "        write_mat(\"$(proj_path).ub\", xu)\n",
        "\n",
        "        run(`$(lib4ti2_bin)/graver -q $(proj_path)`)\n",
        "\n",
        "        G = read_mat(\"$(proj_path).gra\")\n",
        "    end\n",
        "\n",
        "    return G\n",
        "end"
      ]
    },
    {
      "cell_type": "code",
      "execution_count": 7,
      "metadata": {},
      "outputs": [
        {
          "data": {
            "text/plain": [
              "26292×25 Matrix{Int64}:\n",
              " 0   0   0   0   0   0  1  0  0   0   0  …   0  0  0  -1  0   0  0  0   0  0\n",
              " 1   0   0   0   0   0  0  0  0   0   0      0  0  0  -1  0  -1  0  0   0  0\n",
              " 0   0   0   0   0   0  0  0  1   0   0      0  0  0  -1  0   0  0  0   0  0\n",
              " 0   0   0   0   0   0  0  0  0   0   0      0  0  1  -1  0  -1  0  0   0  0\n",
              " 0   1  -1   0   0   0  0  0  0   0   0      0  0  0   0  0   0  0  0   0  0\n",
              " 0   1   0  -1   0   0  0  0  0   0   0  …   0  0  0   0  0   0  0  0   0  0\n",
              " 0   1   0   0  -1   0  0  0  0   0   0      0  0  0   0  0  -1  0  0   0  0\n",
              " 0   1   0   0   0  -1  0  0  0   0   0      0  0  0   0  0   0  0  0   0  0\n",
              " 0   1   0   0   0   0  0  1  0  -1   0      0  0  0  -1  0  -2  0  0   0  0\n",
              " 0   0   0   0   0   0  0  1  0   0  -1      0  0  0  -1  0   0  0  0   0  0\n",
              " ⋮                   ⋮                ⋮  ⋱   ⋮                ⋮            \n",
              " 2  -2   0   0   0   0  0  0  0   2   0     -2  0  0   0  0   0  0  0  -1  2\n",
              " 2  -2   0   0   0  -1  0  0  0   2   0     -2  0  0   0  0   0  0  0   0  2\n",
              " 2  -1   0   0   0  -1  0  0  0   2   0  …  -2  0  0   0  0   0  0  0  -1  2\n",
              " 2  -1   0   0   0  -2  0  0  0   2   0     -2  0  0   0  0   0  0  0   0  2\n",
              " 2  -1   0   0   0   0  0  0  0   2   0     -2  0  0   0  0   0  0  0  -2  2\n",
              " 2  -2   0   0   0   0  0  0  0   1   0     -2  0  0   0  0   0  0  0  -1  2\n",
              " 2  -2   0   0   0  -1  0  0  0   1   0     -2  0  0   0  0   0  0  0   0  2\n",
              " 2  -1   0   0   0  -1  0  0  0   1   0  …  -2  0  0   0  0   0  0  0  -1  2\n",
              " 2  -1   0   0   0  -2  0  0  0   1   0     -2  0  0   0  0   0  0  0   0  2"
            ]
          },
          "metadata": {},
          "output_type": "display_data"
        }
      ],
      "source": [
        "G = graver_basis(A, xl', xu')"
      ]
    },
    {
      "cell_type": "code",
      "execution_count": 10,
      "metadata": {},
      "outputs": [
        {
          "name": "stdout",
          "output_type": "stream",
          "text": [
            "0 4\n"
          ]
        },
        {
          "data": {
            "text/plain": [
              "0×4 Matrix{Int64}"
            ]
          },
          "metadata": {},
          "output_type": "display_data"
        }
      ],
      "source": [
        "graver_basis([1 1 1 1; 1 5 10 25], [0 0 0 0], [15 15 15 15])"
      ]
    },
    {
      "attachments": {},
      "cell_type": "markdown",
      "metadata": {},
      "source": [
        "# References\n",
        "\n",
        "- [Julia Colab Notebook Template](https://colab.research.google.com/github/ageron/julia_notebooks/blob/master/Julia_Colab_Notebook_Template.ipynb)\n",
        "- [QuIPML22](https://github.com/bernalde/QuIPML22/blob/main/notebooks/Notebook%201%20-%20LP%20and%20IP.ipynb)"
      ]
    },
    {
      "attachments": {},
      "cell_type": "markdown",
      "metadata": {},
      "source": [
        "<a name=\"installation\" id=\"installation\"></a>\n",
        "\n",
        "# Installation\n",
        "\n",
        "## Colab Instructions\n",
        "\n",
        "If not in a Colab notebook, continue to the next section.\n",
        "\n",
        "1. Work on a copy of this notebook: _File_ > _Save a copy in Drive_ (you will need a Google account). Alternatively, you can download the notebook using _File_ > _Download .ipynb_, then upload it to [Colab](https://colab.research.google.com/).\n",
        "2. Execute the following cell (click on it and press Ctrl+Enter) to install Julia, IJulia and other required packages. This can take a couple of minutes.\n",
        "3. Reload this page (press Ctrl+R, or ⌘+R, or the F5 key) and continue to the next section.\n",
        "\n",
        "If your Colab Runtime gets reset (e.g., due to inactivity), repeat steps 2 and 3."
      ]
    },
    {
      "cell_type": "code",
      "execution_count": null,
      "metadata": {},
      "outputs": [],
      "source": [
        "%%shell\n",
        "\n",
        "bash <(curl -s \"https://raw.githubusercontent.com/pedromxavier/QUBO-notebooks/main/scripts/install-colab-julia.sh\")"
      ]
    },
    {
      "attachments": {},
      "cell_type": "markdown",
      "metadata": {},
      "source": [
        "## Validate Installation"
      ]
    },
    {
      "cell_type": "code",
      "execution_count": null,
      "metadata": {},
      "outputs": [],
      "source": [
        "versioninfo()"
      ]
    },
    {
      "attachments": {},
      "cell_type": "markdown",
      "metadata": {},
      "source": [
        "## Local Installation Instructions\n",
        "\n",
        "If you don't have a Julia installation yet, consider using [juliaup](https://github.com/JuliaLang/juliaup).\n",
        "Otherwise, run the next cell to install the necessary packages.\n",
        "\n",
        "### Install Julia Packages"
      ]
    },
    {
      "cell_type": "code",
      "execution_count": null,
      "metadata": {},
      "outputs": [],
      "source": [
        "import Pkg\n",
        "\n",
        "Pkg.activate(@__DIR__)\n",
        "Pkg.instantiate(;io = devnull) # Suppress Output"
      ]
    },
    {
      "attachments": {},
      "cell_type": "markdown",
      "metadata": {},
      "source": [
        "<div align=\"center\">\n",
        "    <a href=\"#top\">🔝 Go back to the top 🔝</a>\n",
        "</div>"
      ]
    }
  ],
  "metadata": {
    "colab": {
      "include_colab_link": true,
      "provenance": []
    },
    "gpuClass": "standard",
    "kernelspec": {
      "display_name": "Julia 1.9.1",
      "language": "julia",
      "name": "julia-1.9"
    },
    "language_info": {
      "file_extension": ".jl",
      "mimetype": "application/julia",
      "name": "julia",
      "version": "1.9.1"
    }
  },
  "nbformat": 4,
  "nbformat_minor": 0
}
