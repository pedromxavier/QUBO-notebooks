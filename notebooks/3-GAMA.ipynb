{
  "cells": [
    {
      "attachments": {},
      "cell_type": "markdown",
      "metadata": {},
      "source": [
        "<a name=\"top\" id=\"top\"></a>\n",
        "\n",
        "<div align=\"center\">\n",
        "    <h1>Graver Augmentation Multiseed Algorithm</h1>\n",
        "    <a href=\"https://github.com/bernalde\">David E. Bernal Neira</a>\n",
        "    <br>\n",
        "    <i>Davidson School of Chemical Engineering, Purdue University</i>\n",
        "    <br>\n",
        "    <i>Universities Space Research Association</i>\n",
        "    <br>\n",
        "    <i>NASA QuAIL</i>\n",
        "    <br>\n",
        "    <br>\n",
        "    <a href=\"https://github.com/pedromxavier\">Pedro Maciel Xavier</a>\n",
        "    <br>\n",
        "    <i>Computer Science &amp; Systems Engineering Program, Federal University of Rio de Janeiro</i>\n",
        "    <br>\n",
        "    <i>PSR Energy Consulting &amp; Analytics</i>\n",
        "    <br>\n",
        "    <br>\n",
        "    <a href=\"https://colab.research.google.com/github/pedromxavier/QUBO-notebooks/blob/main/notebooks/3-GAMA.ipynb\" target=\"_parent\">\n",
        "        <img src=\"https://colab.research.google.com/assets/colab-badge.svg\" alt=\"Open In Colab\"/>\n",
        "    </a>\n",
        "    <a href=\"#installation\">\n",
        "        <img src=\"https://img.shields.io/badge/⚙️-Installation_Instructions-blue\" alt=\"Installation Instructions\"/>\n",
        "    </a>\n",
        "    <a href=\"https://bernalde.github.io/\">\n",
        "        <img src=\"https://img.shields.io/badge/⚗️-Bernal_Lab-blue\" alt=\"Bernal Lab\"/>\n",
        "    </a>\n",
        "</div>"
      ]
    },
    {
      "attachments": {},
      "cell_type": "markdown",
      "metadata": {},
      "source": [
        "### Activate Environment"
      ]
    },
    {
      "cell_type": "code",
      "execution_count": 1,
      "metadata": {},
      "outputs": [
        {
          "name": "stderr",
          "output_type": "stream",
          "text": [
            "\u001b[32m\u001b[1m  Activating\u001b[22m\u001b[39m project at `/mnt/c/Users/Pedro/gits/QUBO-notebooks/notebooks`\n"
          ]
        }
      ],
      "source": [
        "import Pkg; Pkg.activate(@__DIR__) # Here we go!"
      ]
    },
    {
      "attachments": {},
      "cell_type": "markdown",
      "metadata": {},
      "source": [
        "## About this notebook\n",
        "\n",
        "This notebook makes simple computations of Graver basis.\n",
        "Because of the complexity of these computation, we suggest that for more complicated problems you install the excellent **[4ti2](https://4ti2.github.io/)** software, an open-source implementation of several routines useful for the study of integer programming through algebraic geometry.\n",
        "It can be used as a stand-alone library and call it from C++ or directly from Julia.\n",
        "In Julia, a binding is provided by **[lib4ti2_jll](https://github.com/JuliaBinaryWrappers/lib4ti2_jll.jl)**.\n",
        "\n",
        "## Introduction to GAMA\n",
        "\n",
        "The Graver Augmentation Multiseed Algorithm (GAMA) was proposed by [two](https://arxiv.org/abs/1902.04215) [papers](https://arxiv.org/abs/1907.10930) by Alghassi, Dridi, and Tayur from the CMU Quantum Computing group.\n",
        "The three main ingredients of this algorithm, designed to solve integer programs with linear constraints and nonlinear objective, are:\n",
        "\n",
        "- Computing the Graver basis (or a subset of it) of an integer program.\n",
        "- Performing an augmentation.\n",
        "- Given that only for certain objective functions, the Graver augmentation is guaranteed to find a globally optimal solution, the algorithm is initialized in several points.\n",
        "\n",
        "This algorithm can be adapted to take advantage of Quantum Computers by leveraging them as black-box Ising/QUBO problem solvers.\n",
        "In particular, obtaining several feasible solution points for the augmentation and computing the Kernel of the constraint matrix can be posed as QUBO problems.\n",
        "After obtaining these solutions, other routines implemented in classical computers are used to solve the optimization problems, making this a hybrid quantum-classical algorithm.\n",
        "\n",
        "### Introduction to Graver basis computation\n",
        "\n",
        "A Graver basis is defined as\n",
        "\n",
        "$$\n",
        "\\mathcal{G}(\\mathbf{A}) = \\bigcup_{j} \\mathcal{H}_{j}(\\mathbf{A})\n",
        "$$\n",
        "\n",
        "where $\\mathcal{H}_{j}(\\mathbf{A})$ are the minimal Hilbert basis of $\\mathbf{A}$ in each orthant.\n",
        "\n",
        "Equivalently we can define the Graver basis as the $\\sqsubseteq$-minimal set of a lattice\n",
        "\n",
        "$$\n",
        "\\mathcal{L}(\\mathbf{A}) = \\left\\lbrace{}{\\mathbf{x} : \\mathbf{A} \\mathbf{x} = 0, \\mathbf{x} \\in \\mathbb{Z}^{n}}\\right\\rbrace{} \\setminus \\left\\lbrace{}{0}\\right\\rbrace{}\n",
        "$$\n",
        "\n",
        "Here we won't interact with the Quantum Computer.\n",
        "However, we will obtain the Graver basis of a problem using package 4ti2.\n",
        "This notebook studies the behavior of the search algorithm in the case that we only have available a subset of the Graver basis."
      ]
    },
    {
      "attachments": {},
      "cell_type": "markdown",
      "metadata": {},
      "source": [
        "## Problem statement\n",
        "\n",
        "We will be solving EXAMPLE 4 in the code, which corresponds to Case 2 in the original GAMA paper.\n",
        "The problem is derived from finance and deals with the maximization of expected returns on investments and the minimization of the variance.\n",
        "\n",
        "$$\n",
        "\\begin{array}{rll}\n",
        "    \\displaystyle \\min & \\displaystyle -\\sum_{i = 1}^{n} \\mu_{i} x_{i} + \\sqrt{\\frac{1 - \\varepsilon}{\\varepsilon} \\sum_{i = 1}^{n} \\sigma_{i}^2 x_{i}^2 } \\\\\n",
        "    \\textrm{s.t.}      & A \\mathbf{x} = \\mathbf{b} \\\\\n",
        "    ~                  & \\mathbf{x} \\in \\left\\lbrace{}{-2, -1, 0, 1, 2}\\right\\rbrace{}^{n}\n",
        "\\end{array}\n",
        "$$"
      ]
    },
    {
      "cell_type": "code",
      "execution_count": 2,
      "metadata": {},
      "outputs": [
        {
          "data": {
            "text/plain": [
              "f (generic function with 1 method)"
            ]
          },
          "metadata": {},
          "output_type": "display_data"
        }
      ],
      "source": [
        "f(x) = μ'x + sqrt(((1-ε)/ε) * (σ .^ 2)' * (x .^ 2))"
      ]
    },
    {
      "attachments": {},
      "cell_type": "markdown",
      "metadata": {},
      "source": [
        "### Example\n",
        "\n",
        "Let\n",
        "\n",
        "$$\n",
        "A = \\begin{bmatrix}\n",
        "1 & 1 & 1 & 1 & 1 & 1 & 1 & 1 & 1 & 1 & 0 & 1 & 0 & 1 & 0 & 1 & 0 & 1 & 1 & 1 & 0 & 1 & 0 & 1 & 0 \\\\\n",
        "1 & 1 & 1 & 1 & 0 & 1 & 0 & 1 & 0 & 0 & 1 & 0 & 0 & 0 & 1 & 0 & 0 & 1 & 0 & 1 & 1 & 1 & 1 & 1 & 1 \\\\\n",
        "0 & 1 & 0 & 0 & 0 & 1 & 0 & 1 & 0 & 1 & 1 & 0 & 1 & 1 & 0 & 1 & 1 & 0 & 0 & 1 & 0 & 0 & 1 & 1 & 1 \\\\\n",
        "0 & 0 & 0 & 0 & 0 & 0 & 0 & 1 & 0 & 1 & 1 & 1 & 0 & 1 & 1 & 1 & 1 & 0 & 0 & 1 & 0 & 0 & 0 & 0 & 0 \\\\\n",
        "0 & 1 & 1 & 1 & 1 & 1 & 0 & 0 & 0 & 1 & 0 & 0 & 0 & 1 & 0 & 0 & 0 & 0 & 0 & 1 & 0 & 1 & 0 & 1 & 0 \\\\\n",
        "\\end{bmatrix}\n",
        "$$\n",
        "\n",
        "This particular instance of convex INLP has $m = 5$, $n = 25$, $\\varepsilon = 0.01$, $\\mu_{i} = \\textrm{rand}[0, 1]$, $\\sigma_{i} = \\textrm{rand}[0, \\mu_{i}]$.\n",
        "$A \\in \\mathbb{B}^{m \\times n}$ and each $b_{j}$ is half the sum of the $j$-th row of $A$.\n",
        "In this example, $\\mathbf{b} = \\left({9, 8, 7, 5, 5}\\right)'$."
      ]
    },
    {
      "attachments": {},
      "cell_type": "markdown",
      "metadata": {},
      "source": [
        "First we would write this problem as a an unconstrained one by penalizing the linear constraints as quadratics in the objective.\n",
        "Let's first define the problem parameters."
      ]
    },
    {
      "cell_type": "code",
      "execution_count": 22,
      "metadata": {},
      "outputs": [],
      "source": [
        "A = [\n",
        "    1 1 1 1 1 1 1 1 1 1 0 1 0 1 0 1 0 1 1 1 0 1 0 1 0\n",
        "    1 1 1 1 0 1 0 1 0 0 1 0 0 0 1 0 0 1 0 1 1 1 1 1 1\n",
        "    0 1 0 0 0 1 0 1 0 1 1 0 1 1 0 1 1 0 0 1 0 0 1 1 1\n",
        "    0 0 0 0 0 0 0 1 0 1 1 1 0 1 1 1 1 0 0 1 0 0 0 0 0\n",
        "    0 1 1 1 1 1 0 0 0 1 0 0 0 1 0 0 0 0 0 1 0 1 0 1 0\n",
        "]\n",
        "\n",
        "m, n = size(A)\n",
        "\n",
        "b = vec(ceil.(Int, sum(A; dims = 2) / 2));"
      ]
    },
    {
      "cell_type": "code",
      "execution_count": 4,
      "metadata": {},
      "outputs": [],
      "source": [
        "x0 = [1, 1, 1, 1, -1, 1, 1, 1, 1, 1, 1, 1, -2, 1, 0, -1, 0, 1, -1, 1, -2, -2, 1, 1, 1]\n",
        "\n",
        "xl = fill(-2, n)\n",
        "xu = fill( 2, n);"
      ]
    },
    {
      "cell_type": "code",
      "execution_count": 5,
      "metadata": {},
      "outputs": [],
      "source": [
        "ε = 0.01\n",
        "μ = rand(n)       # ~ [0, 1]\n",
        "σ = rand(n) .* μ; # ~ [0, μ]"
      ]
    },
    {
      "cell_type": "code",
      "execution_count": 6,
      "metadata": {},
      "outputs": [
        {
          "data": {
            "text/plain": [
              "graver_basis (generic function with 1 method)"
            ]
          },
          "metadata": {},
          "output_type": "display_data"
        }
      ],
      "source": [
        "import lib4ti2_jll, BinaryWrappers\n",
        "\n",
        "const lib4ti2_bin = BinaryWrappers.@generate_wrappers(lib4ti2_jll);\n",
        "\n",
        "function graver()\n",
        "    run(`$(lib4ti2_bin)/graver --help`)\n",
        "\n",
        "    return nothing\n",
        "end\n",
        "\n",
        "function graver(proj_path::AbstractString; silent::Bool = true)\n",
        "    if silent\n",
        "        run(`$(lib4ti2_bin)/graver -q $(proj_path)`)\n",
        "    else\n",
        "        run(`$(lib4ti2_bin)/graver $(proj_path)`)\n",
        "    end\n",
        "\n",
        "    return nothing\n",
        "end\n",
        "\n",
        "function write_mat(path::AbstractString, A)\n",
        "    m, n = size(A)\n",
        "\n",
        "    open(path, \"w\") do io\n",
        "        println(io, \"$m $n\")\n",
        "\n",
        "        join(io, (join(@view(A[i, :]), \" \") for i = 1:m), \"\\n\")\n",
        "    end\n",
        "\n",
        "    return nothing\n",
        "end\n",
        "\n",
        "function read_mat(path::AbstractString, type = Int)\n",
        "    m, n = parse.(Int, split(readline(path)))\n",
        "\n",
        "    A = Matrix{type}(undef, m, n)\n",
        "\n",
        "    open(path, \"r\") do io\n",
        "        readline(io)\n",
        "\n",
        "        for (i, line) in enumerate(eachline(io))\n",
        "            A[i, :] .= parse.(Int, split(line))\n",
        "        end\n",
        "    end\n",
        "\n",
        "    return A\n",
        "end\n",
        "\n",
        "function graver_basis(A, xl, xu)\n",
        "    G = nothing\n",
        "\n",
        "    mktempdir() do path\n",
        "        proj_path = joinpath(path, \"proj\")\n",
        "\n",
        "        write_mat(\"$(proj_path).mat\", A)\n",
        "        write_mat(\"$(proj_path).lb\", xl)\n",
        "        write_mat(\"$(proj_path).ub\", xu)\n",
        "\n",
        "        graver(proj_path)\n",
        "\n",
        "        G = read_mat(\"$(proj_path).gra\")\n",
        "    end\n",
        "\n",
        "    return G\n",
        "end"
      ]
    },
    {
      "cell_type": "code",
      "execution_count": 7,
      "metadata": {},
      "outputs": [
        {
          "data": {
            "text/plain": [
              "26292×25 Matrix{Int64}:\n",
              " 0   0   0   0   0   0  1  0  0   0   0  …   0  0  0  -1  0   0  0  0   0  0\n",
              " 1   0   0   0   0   0  0  0  0   0   0      0  0  0  -1  0  -1  0  0   0  0\n",
              " 0   0   0   0   0   0  0  0  1   0   0      0  0  0  -1  0   0  0  0   0  0\n",
              " 0   0   0   0   0   0  0  0  0   0   0      0  0  1  -1  0  -1  0  0   0  0\n",
              " 0   1  -1   0   0   0  0  0  0   0   0      0  0  0   0  0   0  0  0   0  0\n",
              " 0   1   0  -1   0   0  0  0  0   0   0  …   0  0  0   0  0   0  0  0   0  0\n",
              " 0   1   0   0  -1   0  0  0  0   0   0      0  0  0   0  0  -1  0  0   0  0\n",
              " 0   1   0   0   0  -1  0  0  0   0   0      0  0  0   0  0   0  0  0   0  0\n",
              " 0   1   0   0   0   0  0  1  0  -1   0      0  0  0  -1  0  -2  0  0   0  0\n",
              " 0   0   0   0   0   0  0  1  0   0  -1      0  0  0  -1  0   0  0  0   0  0\n",
              " ⋮                   ⋮                ⋮  ⋱   ⋮                ⋮            \n",
              " 2  -2   0   0   0   0  0  0  0   2   0     -2  0  0   0  0   0  0  0  -1  2\n",
              " 2  -2   0   0   0  -1  0  0  0   2   0     -2  0  0   0  0   0  0  0   0  2\n",
              " 2  -1   0   0   0  -1  0  0  0   2   0  …  -2  0  0   0  0   0  0  0  -1  2\n",
              " 2  -1   0   0   0  -2  0  0  0   2   0     -2  0  0   0  0   0  0  0   0  2\n",
              " 2  -1   0   0   0   0  0  0  0   2   0     -2  0  0   0  0   0  0  0  -2  2\n",
              " 2  -2   0   0   0   0  0  0  0   1   0     -2  0  0   0  0   0  0  0  -1  2\n",
              " 2  -2   0   0   0  -1  0  0  0   1   0     -2  0  0   0  0   0  0  0   0  2\n",
              " 2  -1   0   0   0  -1  0  0  0   1   0  …  -2  0  0   0  0   0  0  0  -1  2\n",
              " 2  -1   0   0   0  -2  0  0  0   1   0     -2  0  0   0  0   0  0  0   0  2"
            ]
          },
          "metadata": {},
          "output_type": "display_data"
        }
      ],
      "source": [
        "G = graver_basis(A, xl', xu')"
      ]
    },
    {
      "cell_type": "code",
      "execution_count": 8,
      "metadata": {},
      "outputs": [
        {
          "data": {
            "text/plain": [
              "greedy_rule (generic function with 1 method)"
            ]
          },
          "metadata": {},
          "output_type": "display_data"
        }
      ],
      "source": [
        "# Define rules to choose augmentation element, either the best one (argmin) or the first one that is found\n",
        "function argmin_rule(a)\n",
        "    i = argmin(first.(a))\n",
        "\n",
        "    return (i, a[i])\n",
        "end\n",
        "\n",
        "function greedy_rule(a)\n",
        "    i = findfirst(x -> !(last(x) ≈ 0), a)\n",
        "\n",
        "    if i === nothing\n",
        "        return (lastindex(a), last(a))\n",
        "    else\n",
        "        return (i, a[i])\n",
        "    end\n",
        "end"
      ]
    },
    {
      "cell_type": "code",
      "execution_count": 9,
      "metadata": {},
      "outputs": [
        {
          "data": {
            "text/plain": [
              "single_move_rule (generic function with 4 methods)"
            ]
          },
          "metadata": {},
          "output_type": "display_data"
        }
      ],
      "source": [
        "# Bisection rules for finding best step size\n",
        "function bisection_rule(f::Function, g, x, xl = nothing, xu = nothing, laststep = nothing)\n",
        "    if g == laststep\n",
        "        return (f(x), 0)\n",
        "    end\n",
        "\n",
        "    if xl === nothing\n",
        "        xl = zeros(length(x))\n",
        "    end\n",
        "\n",
        "    if xu === nothing\n",
        "        xu = fill(2 * maximum(x),length(x))\n",
        "    end\n",
        "\n",
        "    u = maximum(xu) - minimum(xl)\n",
        "    l = -u\n",
        "\n",
        "    for (i, gi) in enumerate(g)\n",
        "        if gi >= 1\n",
        "            u = min(u, floor(Int, (xu[i] - x[i]) / gi))\n",
        "            l = max(l, ceil(Int, (xl[i] - x[i]) / gi))\n",
        "        elseif gi <= -1\n",
        "            u = min(u, floor(Int, (xl[i] - x[i]) / gi))\n",
        "            l = max(l, ceil(Int, (xu[i] - x[i]) / gi))\n",
        "        end\n",
        "    end\n",
        "\n",
        "    α = u\n",
        "\n",
        "    while u - l > 1\n",
        "        α = ifelse(f(x + l*g) < f(x + u*g), l, u)\n",
        "\n",
        "        p1 = floor(Int, (l+u)/2) - 1\n",
        "        p2 = floor(Int, (l+u)/2)\n",
        "        p3 = floor(Int, (l+u)/2) + 1\n",
        "\n",
        "        if f(x + p1*g) < f(x + p2*g)\n",
        "            u = floor(Int, (l+u)/2)\n",
        "        elseif f(x + p3*g) < f(x + p2*g)\n",
        "            l = floor(Int, (l+u)/2) + 1\n",
        "        else\n",
        "            α = p2\n",
        "            break\n",
        "        end\n",
        "    end\n",
        "\n",
        "    if f(x + l*g) < f(x + u*g) && f(x + l*g) < f(x + α*g)\n",
        "        α = l\n",
        "    elseif f(x + u*g) < f(x + α*g)\n",
        "        α = u\n",
        "    end\n",
        "\n",
        "    return (f(x + α*g), α)\n",
        "end\n",
        "\n",
        "# We can just have a single step move (works well with greedy approach)\n",
        "function single_move_rule(f::Function, g, x, xl = nothing, xu = nothing, laststep = nothing)\n",
        "    if xl === nothing\n",
        "        xl = zeros(length(x))\n",
        "    end\n",
        "\n",
        "    if xu === nothing\n",
        "        xu = fill(2 * maximum(x),length(x))\n",
        "    end\n",
        "\n",
        "    α = 0\n",
        "\n",
        "    if all(x + g .<= xu) && all(x + g .>= xl)\n",
        "        if f(x + g) < f(x)\n",
        "            α = 1\n",
        "        end\n",
        "    elseif all(x - g .<= xu) && all(x - g .>= xl)\n",
        "        if f(x - g) < f(x) && f(x - g) < f(x + g)\n",
        "            α = -1\n",
        "        end\n",
        "    end\n",
        "\n",
        "    return (f(x + α*g), α)\n",
        "end"
      ]
    },
    {
      "cell_type": "code",
      "execution_count": 10,
      "metadata": {},
      "outputs": [
        {
          "data": {
            "text/plain": [
              "augmentation (generic function with 2 methods)"
            ]
          },
          "metadata": {},
          "output_type": "display_data"
        }
      ],
      "source": [
        "function augmentation(\n",
        "    f::Function,\n",
        "    A,\n",
        "    b,\n",
        "    x0,\n",
        "    xl,\n",
        "    xu;\n",
        "    silent::Bool = true,\n",
        "    max_iter::Integer = 1_000,\n",
        "    step_rule::Function = bisection_rule,\n",
        "    choice_rule::Function = argmin_rule,\n",
        "    )\n",
        "    G = graver_basis(A, xl', xu')\n",
        "\n",
        "    return augmentation(\n",
        "        f,\n",
        "        G,\n",
        "        A,\n",
        "        b,\n",
        "        x0,\n",
        "        xl,\n",
        "        xu;\n",
        "        silent,\n",
        "        max_iter,\n",
        "        step_rule,\n",
        "        choice_rule,\n",
        "    )\n",
        "end\n",
        "\n",
        "function augmentation(\n",
        "    f::Function,\n",
        "    G,\n",
        "    A,\n",
        "    b,\n",
        "    x0,\n",
        "    xl,\n",
        "    xu;\n",
        "    silent::Bool = true,\n",
        "    max_iter::Integer = 1_000,\n",
        "    step_rule::Function = bisection_rule,\n",
        "    choice_rule::Function = argmin_rule,\n",
        "    )\n",
        "    # Let's perform the augmentation and return the number of steps and the best solution\n",
        "\n",
        "    # Constraints definition\n",
        "    isfeasible = (x) -> (A * x == b)\n",
        "\n",
        "    Δ  = 1\n",
        "    gprev = nothing\n",
        "    k = 1\n",
        "\n",
        "    if !silent\n",
        "        println(\"Initial point: $(x0)\")\n",
        "        println(\"Objective function: $(f(x0))\")\n",
        "    end\n",
        "\n",
        "    \n",
        "    y = nothing\n",
        "    x = copy(x0)\n",
        "\n",
        "    while Δ != 0 && k < max_iter\n",
        "        i, (y, Δ) = choice_rule(\n",
        "            [step_rule(f, g, x, xl, xu, gprev) for g in eachrow(G)]\n",
        "        )\n",
        "            \n",
        "        x += G[i, :] * Δ\n",
        "        gprev = G[i, :]\n",
        "\n",
        "        if !silent\n",
        "            println(\"Iteration \", k)\n",
        "            println(i, (y, Δ))\n",
        "            println(\"Augmentation direction:\", gprev)\n",
        "            println(\"Distanced moved:\", Δ)\n",
        "            println(\"Step taken:\", G[i, :] * Δ)\n",
        "            println(\"yective function:\", y)\n",
        "            println(f(x))\n",
        "            println(\"Current point:\", x)\n",
        "            println(\"Are constraints satisfied?\", isfeasible(x))\n",
        "        end\n",
        "\n",
        "        k += 1\n",
        "    end\n",
        "\n",
        "    return (k, y, x)\n",
        "end"
      ]
    },
    {
      "attachments": {},
      "cell_type": "markdown",
      "metadata": {},
      "source": [
        "First, we will prove our augmentation strategies, either best or greedy, and for that last case, either computing the best step or a single move.\n",
        "In the order that was mentioned, the augmentation will take more iterations, but each one of the augmentation steps or iterations is going to be cheaper.\n",
        "\n"
      ]
    },
    {
      "cell_type": "code",
      "execution_count": 11,
      "metadata": {},
      "outputs": [
        {
          "name": "stdout",
          "output_type": "stream",
          "text": [
            "Best-augmentation: Choosing among the best step that each element of G can do (via bisection), the one that reduces the most the objective\n"
          ]
        },
        {
          "name": "stdout",
          "output_type": "stream",
          "text": [
            "  3.116287 seconds (22.07 M allocations: 1.516 GiB, 6.28% gc time, 25.85% compilation time)\n",
            "8, iterations\n",
            "solution: [0, 2, 2, 0, 0, 0, 0, 1, 2, 1, 0, 1, 2, 0, 2, 0, 0, 0, 0, 0, 0, 0, 0, 0, 1]\n",
            "objective: 4.457700201902398\n",
            "Greedy-best-augmentation: Choosing among the best step that each element of G can do (via bisection), the first one encountered that reduces the objective\n"
          ]
        },
        {
          "name": "stdout",
          "output_type": "stream",
          "text": [
            " 10.972241 seconds (97.67 M allocations: 6.719 GiB, 6.35% gc time, 0.56% compilation time)\n",
            "35, iterations\n",
            "solution: [0, 2, 2, 0, 0, 0, 0, 1, 2, 1, 0, 1, 2, 0, 2, 0, 0, 0, 0, 0, 0, 0, 0, 0, 1]\n",
            "objective: 4.457700201902398\n",
            "Greedy-augmentation: Choosing among the first element of G that with a single step reduces the objective\n"
          ]
        },
        {
          "name": "stdout",
          "output_type": "stream",
          "text": [
            "  4.232941 seconds (37.06 M allocations: 2.474 GiB, 5.94% gc time, 17.51% compilation time)\n",
            "30, iterations\n",
            "solution: [0, 2, 2, 0, 0, 0, 0, 1, 2, 1, 0, 1, 2, 0, 2, 0, 0, 0, 0, 0, 0, 0, 0, 0, 1]\n",
            "objective: 4.457700201902398\n"
          ]
        }
      ],
      "source": [
        "println(\"Best-augmentation: Choosing among the best step that each element of G can do (via bisection), the one that reduces the most the objective\")\n",
        "\n",
        "iter, f_obj, xf = @time augmentation(\n",
        "    f, G, A, b, x0, xl, xu;\n",
        "    step_rule = bisection_rule, choice_rule = argmin_rule\n",
        ")\n",
        "\n",
        "println(\"$(iter), iterations\")\n",
        "println(\"solution: $(xf)\")\n",
        "println(\"objective: $(f_obj)\")\n",
        "\n",
        "println(\"Greedy-best-augmentation: Choosing among the best step that each element of G can do (via bisection), the first one encountered that reduces the objective\")\n",
        "\n",
        "iter,f_obj,xf = @time augmentation(\n",
        "    f, G, A, b, x0, xl, xu;\n",
        "    step_rule = bisection_rule, choice_rule = greedy_rule,\n",
        ")\n",
        "\n",
        "println(\"$(iter), iterations\")\n",
        "println(\"solution: $(xf)\")\n",
        "println(\"objective: $(f_obj)\")\n",
        "\n",
        "println(\"Greedy-augmentation: Choosing among the first element of G that with a single step reduces the objective\")\n",
        "\n",
        "iter,f_obj,xf = @time augmentation(\n",
        "    f, G, A, b, x0, xl, xu;\n",
        "    step_rule = single_move_rule, choice_rule = greedy_rule,\n",
        ")\n",
        "\n",
        "println(\"$(iter), iterations\")\n",
        "println(\"solution: $(xf)\")\n",
        "println(\"objective: $(f_obj)\")"
      ]
    },
    {
      "cell_type": "code",
      "execution_count": 12,
      "metadata": {},
      "outputs": [],
      "source": [
        "using JuMP\n",
        "using DWaveNeal\n",
        "using LinearAlgebra"
      ]
    },
    {
      "cell_type": "code",
      "execution_count": 13,
      "metadata": {},
      "outputs": [
        {
          "data": {
            "text/plain": [
              "get_feasible (generic function with 1 method)"
            ]
          },
          "metadata": {},
          "output_type": "display_data"
        }
      ],
      "source": [
        "function get_feasible(A, b; num_reads=20)\n",
        "    m, n = size(A)\n",
        "\n",
        "    Q = A'A - 2 * diagm(A'b)\n",
        "    β = b'b\n",
        "\n",
        "    # Define Binary Quadratic Model\n",
        "    model = Model(DWaveNeal.Optimizer)\n",
        "\n",
        "    @variable(model, x[1:n], Bin)\n",
        "\n",
        "    @objective(model, Min, x' * Q * x + β)\n",
        "\n",
        "    set_optimizer_attribute(model, \"num_reads\", num_reads)\n",
        "\n",
        "    optimize!(model)\n",
        "\n",
        "    return [\n",
        "        round.(Int, value.(x; result=i))\n",
        "        for i = 1:result_count(model)\n",
        "        if objective_value(model; result=i) ≈ 0.0\n",
        "    ]\n",
        "end"
      ]
    },
    {
      "cell_type": "code",
      "execution_count": 23,
      "metadata": {},
      "outputs": [
        {
          "data": {
            "text/plain": [
              "20-element Vector{Vector{Int64}}:\n",
              " [0, 0, 0, 0, 1, 1, 0, 0, 1, 0  …  1, 0, 1, 0, 1, 1, 0, 1, 1, 1]\n",
              " [0, 0, 0, 0, 1, 1, 0, 1, 1, 1  …  0, 0, 0, 1, 1, 1, 0, 1, 1, 1]\n",
              " [0, 0, 0, 1, 0, 0, 0, 0, 1, 1  …  1, 0, 1, 1, 1, 1, 0, 1, 1, 1]\n",
              " [0, 0, 1, 0, 0, 0, 0, 1, 1, 1  …  0, 0, 1, 1, 1, 1, 0, 0, 1, 1]\n",
              " [0, 0, 1, 0, 0, 1, 1, 0, 1, 1  …  0, 0, 1, 0, 1, 0, 0, 1, 1, 0]\n",
              " [0, 0, 1, 0, 0, 1, 1, 1, 0, 1  …  1, 0, 0, 0, 0, 1, 1, 0, 1, 1]\n",
              " [0, 0, 1, 1, 1, 0, 1, 1, 1, 0  …  1, 0, 0, 0, 1, 0, 0, 0, 1, 1]\n",
              " [0, 1, 0, 0, 1, 1, 1, 1, 0, 1  …  0, 0, 1, 1, 0, 1, 0, 0, 0, 1]\n",
              " [0, 1, 0, 1, 0, 0, 0, 1, 1, 1  …  0, 1, 1, 1, 1, 1, 0, 0, 1, 0]\n",
              " [0, 1, 1, 0, 0, 0, 0, 1, 1, 1  …  1, 0, 0, 1, 1, 1, 1, 1, 0, 0]\n",
              " [0, 1, 1, 0, 1, 0, 1, 1, 0, 0  …  0, 1, 0, 1, 0, 1, 1, 1, 0, 1]\n",
              " [1, 0, 0, 0, 1, 0, 1, 0, 0, 0  …  1, 1, 1, 0, 1, 1, 1, 1, 1, 0]\n",
              " [1, 0, 0, 1, 0, 1, 1, 0, 0, 0  …  1, 0, 0, 0, 1, 1, 1, 0, 0, 1]\n",
              " [1, 0, 1, 0, 1, 0, 0, 1, 0, 1  …  1, 1, 0, 1, 0, 1, 1, 0, 1, 1]\n",
              " [1, 0, 1, 1, 1, 0, 0, 1, 1, 0  …  0, 1, 0, 0, 1, 0, 0, 1, 1, 0]\n",
              " [1, 1, 0, 0, 1, 0, 0, 1, 1, 1  …  0, 0, 0, 0, 1, 1, 0, 0, 1, 1]\n",
              " [1, 1, 0, 1, 1, 0, 1, 0, 0, 0  …  1, 1, 0, 1, 0, 1, 0, 0, 1, 1]\n",
              " [1, 1, 0, 1, 1, 0, 1, 1, 1, 1  …  0, 1, 0, 0, 1, 1, 0, 0, 0, 1]\n",
              " [1, 1, 1, 0, 0, 1, 0, 0, 1, 0  …  1, 1, 0, 0, 1, 0, 1, 0, 0, 1]\n",
              " [1, 1, 1, 0, 1, 0, 0, 1, 0, 1  …  1, 1, 1, 0, 1, 1, 0, 0, 0, 1]"
            ]
          },
          "metadata": {},
          "output_type": "display_data"
        }
      ],
      "source": [
        "X_feasible = get_feasible(A,b)"
      ]
    },
    {
      "cell_type": "code",
      "execution_count": 24,
      "metadata": {},
      "outputs": [],
      "source": [
        "Y_feasible  = []\n",
        "Y_augmented = []\n",
        "I_augmented = []\n",
        "T_augmented = []\n",
        "\n",
        "for x in X_feasible\n",
        "    result = @timed augmentation(\n",
        "        f, G, A, b, x, xl, xu;\n",
        "        step_rule = single_move_rule, choice_rule = greedy_rule,\n",
        "    )\n",
        "\n",
        "    num_iter, obj_val, x_aug = result.value\n",
        "\n",
        "    push!(Y_feasible, f(x))\n",
        "    push!(Y_augmented, obj_val)\n",
        "    push!(I_augmented, num_iter)\n",
        "    push!(T_augmented, result.time)\n",
        "end"
      ]
    },
    {
      "cell_type": "code",
      "execution_count": 25,
      "metadata": {},
      "outputs": [],
      "source": [
        "using Plots"
      ]
    },
    {
      "cell_type": "code",
      "execution_count": 63,
      "metadata": {},
      "outputs": [
        {
          "data": {
            "image/png": "[encoded data removed]",
            "image/svg+xml": [
              "<?xml version=\"1.0\" encoding=\"utf-8\"?>\n",
              "<svg xmlns=\"http://www.w3.org/2000/svg\" xmlns:xlink=\"http://www.w3.org/1999/xlink\" width=\"600\" height=\"400\" viewBox=\"0 0 2400 1600\">\n",
              "<defs>\n",
              "  <clipPath id=\"clip310\">\n",
              "    <rect x=\"0\" y=\"0\" width=\"2400\" height=\"1600\"/>\n",
              "  </clipPath>\n",
              "</defs>\n",
              "<path clip-path=\"url(#clip310)\" d=\"M0 1600 L2400 1600 L2400 0 L0 0  Z\" fill=\"#ffffff\" fill-rule=\"evenodd\" fill-opacity=\"1\"/>\n",
              "<defs>\n",
              "  <clipPath id=\"clip311\">\n",
              "    <rect x=\"480\" y=\"0\" width=\"1681\" height=\"1600\"/>\n",
              "  </clipPath>\n",
              "</defs>\n",
              "<path clip-path=\"url(#clip310)\" d=\"M219.866 1423.18 L2196.04 1423.18 L2196.04 127.244 L219.866 127.244  Z\" fill=\"#ffffff\" fill-rule=\"evenodd\" fill-opacity=\"1\"/>\n",
              "<defs>\n",
              "  <clipPath id=\"clip312\">\n",
              "    <rect x=\"219\" y=\"127\" width=\"1977\" height=\"1297\"/>\n",
              "  </clipPath>\n",
              "</defs>\n",
              "<polyline clip-path=\"url(#clip312)\" style=\"stroke:#000000; stroke-linecap:round; stroke-linejoin:round; stroke-width:2; stroke-opacity:0.1; fill:none\" points=\"668.282,1423.18 668.282,127.244 \"/>\n",
              "<polyline clip-path=\"url(#clip312)\" style=\"stroke:#000000; stroke-linecap:round; stroke-linejoin:round; stroke-width:2; stroke-opacity:0.1; fill:none\" points=\"1158.89,1423.18 1158.89,127.244 \"/>\n",
              "<polyline clip-path=\"url(#clip312)\" style=\"stroke:#000000; stroke-linecap:round; stroke-linejoin:round; stroke-width:2; stroke-opacity:0.1; fill:none\" points=\"1649.5,1423.18 1649.5,127.244 \"/>\n",
              "<polyline clip-path=\"url(#clip312)\" style=\"stroke:#000000; stroke-linecap:round; stroke-linejoin:round; stroke-width:2; stroke-opacity:0.1; fill:none\" points=\"2140.11,1423.18 2140.11,127.244 \"/>\n",
              "<polyline clip-path=\"url(#clip310)\" style=\"stroke:#000000; stroke-linecap:round; stroke-linejoin:round; stroke-width:4; stroke-opacity:1; fill:none\" points=\"219.866,1423.18 2196.04,1423.18 \"/>\n",
              "<polyline clip-path=\"url(#clip310)\" style=\"stroke:#000000; stroke-linecap:round; stroke-linejoin:round; stroke-width:4; stroke-opacity:1; fill:none\" points=\"668.282,1423.18 668.282,1404.28 \"/>\n",
              "<polyline clip-path=\"url(#clip310)\" style=\"stroke:#000000; stroke-linecap:round; stroke-linejoin:round; stroke-width:4; stroke-opacity:1; fill:none\" points=\"1158.89,1423.18 1158.89,1404.28 \"/>\n",
              "<polyline clip-path=\"url(#clip310)\" style=\"stroke:#000000; stroke-linecap:round; stroke-linejoin:round; stroke-width:4; stroke-opacity:1; fill:none\" points=\"1649.5,1423.18 1649.5,1404.28 \"/>\n",
              "<polyline clip-path=\"url(#clip310)\" style=\"stroke:#000000; stroke-linecap:round; stroke-linejoin:round; stroke-width:4; stroke-opacity:1; fill:none\" points=\"2140.11,1423.18 2140.11,1404.28 \"/>\n",
              "<path clip-path=\"url(#clip310)\" d=\"M658.56 1451.02 L676.916 1451.02 L676.916 1454.96 L662.842 1454.96 L662.842 1463.43 Q663.861 1463.08 664.879 1462.92 Q665.898 1462.73 666.917 1462.73 Q672.704 1462.73 676.083 1465.9 Q679.463 1469.08 679.463 1474.49 Q679.463 1480.07 675.991 1483.17 Q672.518 1486.25 666.199 1486.25 Q664.023 1486.25 661.754 1485.88 Q659.509 1485.51 657.102 1484.77 L657.102 1480.07 Q659.185 1481.2 661.407 1481.76 Q663.629 1482.32 666.106 1482.32 Q670.111 1482.32 672.449 1480.21 Q674.787 1478.1 674.787 1474.49 Q674.787 1470.88 672.449 1468.77 Q670.111 1466.67 666.106 1466.67 Q664.231 1466.67 662.356 1467.08 Q660.504 1467.5 658.56 1468.38 L658.56 1451.02 Z\" fill=\"#000000\" fill-rule=\"nonzero\" fill-opacity=\"1\" /><path clip-path=\"url(#clip310)\" d=\"M1133.58 1481.64 L1141.22 1481.64 L1141.22 1455.28 L1132.91 1456.95 L1132.91 1452.69 L1141.17 1451.02 L1145.85 1451.02 L1145.85 1481.64 L1153.49 1481.64 L1153.49 1485.58 L1133.58 1485.58 L1133.58 1481.64 Z\" fill=\"#000000\" fill-rule=\"nonzero\" fill-opacity=\"1\" /><path clip-path=\"url(#clip310)\" d=\"M1172.93 1454.1 Q1169.32 1454.1 1167.49 1457.66 Q1165.68 1461.2 1165.68 1468.33 Q1165.68 1475.44 1167.49 1479.01 Q1169.32 1482.55 1172.93 1482.55 Q1176.56 1482.55 1178.37 1479.01 Q1180.2 1475.44 1180.2 1468.33 Q1180.2 1461.2 1178.37 1457.66 Q1176.56 1454.1 1172.93 1454.1 M1172.93 1450.39 Q1178.74 1450.39 1181.8 1455 Q1184.87 1459.58 1184.87 1468.33 Q1184.87 1477.06 1181.8 1481.67 Q1178.74 1486.25 1172.93 1486.25 Q1167.12 1486.25 1164.04 1481.67 Q1160.99 1477.06 1160.99 1468.33 Q1160.99 1459.58 1164.04 1455 Q1167.12 1450.39 1172.93 1450.39 Z\" fill=\"#000000\" fill-rule=\"nonzero\" fill-opacity=\"1\" /><path clip-path=\"url(#clip310)\" d=\"M1624.68 1481.64 L1632.32 1481.64 L1632.32 1455.28 L1624.01 1456.95 L1624.01 1452.69 L1632.28 1451.02 L1636.95 1451.02 L1636.95 1481.64 L1644.59 1481.64 L1644.59 1485.58 L1624.68 1485.58 L1624.68 1481.64 Z\" fill=\"#000000\" fill-rule=\"nonzero\" fill-opacity=\"1\" /><path clip-path=\"url(#clip310)\" d=\"M1654.08 1451.02 L1672.44 1451.02 L1672.44 1454.96 L1658.36 1454.96 L1658.36 1463.43 Q1659.38 1463.08 1660.4 1462.92 Q1661.42 1462.73 1662.44 1462.73 Q1668.23 1462.73 1671.61 1465.9 Q1674.98 1469.08 1674.98 1474.49 Q1674.98 1480.07 1671.51 1483.17 Q1668.04 1486.25 1661.72 1486.25 Q1659.55 1486.25 1657.28 1485.88 Q1655.03 1485.51 1652.62 1484.77 L1652.62 1480.07 Q1654.71 1481.2 1656.93 1481.76 Q1659.15 1482.32 1661.63 1482.32 Q1665.63 1482.32 1667.97 1480.21 Q1670.31 1478.1 1670.31 1474.49 Q1670.31 1470.88 1667.97 1468.77 Q1665.63 1466.67 1661.63 1466.67 Q1659.75 1466.67 1657.88 1467.08 Q1656.03 1467.5 1654.08 1468.38 L1654.08 1451.02 Z\" fill=\"#000000\" fill-rule=\"nonzero\" fill-opacity=\"1\" /><path clip-path=\"url(#clip310)\" d=\"M2118.88 1481.64 L2135.2 1481.64 L2135.2 1485.58 L2113.26 1485.58 L2113.26 1481.64 Q2115.92 1478.89 2120.5 1474.26 Q2125.11 1469.61 2126.29 1468.27 Q2128.53 1465.74 2129.41 1464.01 Q2130.32 1462.25 2130.32 1460.56 Q2130.32 1457.8 2128.37 1456.07 Q2126.45 1454.33 2123.35 1454.33 Q2121.15 1454.33 2118.7 1455.09 Q2116.26 1455.86 2113.49 1457.41 L2113.49 1452.69 Q2116.31 1451.55 2118.76 1450.97 Q2121.22 1450.39 2123.26 1450.39 Q2128.63 1450.39 2131.82 1453.08 Q2135.01 1455.77 2135.01 1460.26 Q2135.01 1462.39 2134.2 1464.31 Q2133.42 1466.2 2131.31 1468.8 Q2130.73 1469.47 2127.63 1472.69 Q2124.53 1475.88 2118.88 1481.64 Z\" fill=\"#000000\" fill-rule=\"nonzero\" fill-opacity=\"1\" /><path clip-path=\"url(#clip310)\" d=\"M2155.01 1454.1 Q2151.4 1454.1 2149.57 1457.66 Q2147.77 1461.2 2147.77 1468.33 Q2147.77 1475.44 2149.57 1479.01 Q2151.4 1482.55 2155.01 1482.55 Q2158.65 1482.55 2160.45 1479.01 Q2162.28 1475.44 2162.28 1468.33 Q2162.28 1461.2 2160.45 1457.66 Q2158.65 1454.1 2155.01 1454.1 M2155.01 1450.39 Q2160.82 1450.39 2163.88 1455 Q2166.96 1459.58 2166.96 1468.33 Q2166.96 1477.06 2163.88 1481.67 Q2160.82 1486.25 2155.01 1486.25 Q2149.2 1486.25 2146.13 1481.67 Q2143.07 1477.06 2143.07 1468.33 Q2143.07 1459.58 2146.13 1455 Q2149.2 1450.39 2155.01 1450.39 Z\" fill=\"#000000\" fill-rule=\"nonzero\" fill-opacity=\"1\" /><path clip-path=\"url(#clip310)\" d=\"M1092.53 1522.08 L1092.53 1528.35 Q1088.86 1526.6 1085.62 1525.74 Q1082.37 1524.88 1079.35 1524.88 Q1074.1 1524.88 1071.23 1526.92 Q1068.4 1528.96 1068.4 1532.71 Q1068.4 1535.87 1070.28 1537.49 Q1072.19 1539.08 1077.47 1540.07 L1081.35 1540.86 Q1088.55 1542.23 1091.95 1545.7 Q1095.39 1549.14 1095.39 1554.93 Q1095.39 1561.84 1090.74 1565.4 Q1086.13 1568.97 1077.18 1568.97 Q1073.81 1568.97 1069.99 1568.2 Q1066.2 1567.44 1062.13 1565.94 L1062.13 1559.32 Q1066.04 1561.52 1069.8 1562.63 Q1073.56 1563.75 1077.18 1563.75 Q1082.69 1563.75 1085.68 1561.58 Q1088.67 1559.42 1088.67 1555.41 Q1088.67 1551.91 1086.51 1549.93 Q1084.38 1547.96 1079.48 1546.97 L1075.56 1546.21 Q1068.37 1544.78 1065.15 1541.72 Q1061.94 1538.67 1061.94 1533.22 Q1061.94 1526.92 1066.36 1523.29 Q1070.82 1519.66 1078.62 1519.66 Q1081.96 1519.66 1085.43 1520.27 Q1088.9 1520.87 1092.53 1522.08 Z\" fill=\"#000000\" fill-rule=\"nonzero\" fill-opacity=\"1\" /><path clip-path=\"url(#clip310)\" d=\"M1118.97 1536.5 Q1114.26 1536.5 1111.53 1540.19 Q1108.79 1543.85 1108.79 1550.25 Q1108.79 1556.65 1111.49 1560.34 Q1114.23 1564 1118.97 1564 Q1123.65 1564 1126.39 1560.31 Q1129.13 1556.62 1129.13 1550.25 Q1129.13 1543.92 1126.39 1540.23 Q1123.65 1536.5 1118.97 1536.5 M1118.97 1531.54 Q1126.61 1531.54 1130.97 1536.5 Q1135.33 1541.47 1135.33 1550.25 Q1135.33 1559 1130.97 1564 Q1126.61 1568.97 1118.97 1568.97 Q1111.3 1568.97 1106.94 1564 Q1102.61 1559 1102.61 1550.25 Q1102.61 1541.47 1106.94 1536.5 Q1111.3 1531.54 1118.97 1531.54 Z\" fill=\"#000000\" fill-rule=\"nonzero\" fill-opacity=\"1\" /><path clip-path=\"url(#clip310)\" d=\"M1145.04 1518.52 L1150.9 1518.52 L1150.9 1568.04 L1145.04 1568.04 L1145.04 1518.52 Z\" fill=\"#000000\" fill-rule=\"nonzero\" fill-opacity=\"1\" /><path clip-path=\"url(#clip310)\" d=\"M1162.55 1553.98 L1162.55 1532.4 L1168.4 1532.4 L1168.4 1553.75 Q1168.4 1558.81 1170.38 1561.36 Q1172.35 1563.87 1176.3 1563.87 Q1181.04 1563.87 1183.78 1560.85 Q1186.55 1557.83 1186.55 1552.61 L1186.55 1532.4 L1192.4 1532.4 L1192.4 1568.04 L1186.55 1568.04 L1186.55 1562.57 Q1184.41 1565.82 1181.58 1567.41 Q1178.78 1568.97 1175.06 1568.97 Q1168.91 1568.97 1165.73 1565.15 Q1162.55 1561.33 1162.55 1553.98 M1177.28 1531.54 L1177.28 1531.54 Z\" fill=\"#000000\" fill-rule=\"nonzero\" fill-opacity=\"1\" /><path clip-path=\"url(#clip310)\" d=\"M1210.26 1522.27 L1210.26 1532.4 L1222.32 1532.4 L1222.32 1536.95 L1210.26 1536.95 L1210.26 1556.3 Q1210.26 1560.66 1211.44 1561.9 Q1212.65 1563.14 1216.31 1563.14 L1222.32 1563.14 L1222.32 1568.04 L1216.31 1568.04 Q1209.53 1568.04 1206.95 1565.53 Q1204.37 1562.98 1204.37 1556.3 L1204.37 1536.95 L1200.07 1536.95 L1200.07 1532.4 L1204.37 1532.4 L1204.37 1522.27 L1210.26 1522.27 Z\" fill=\"#000000\" fill-rule=\"nonzero\" fill-opacity=\"1\" /><path clip-path=\"url(#clip310)\" d=\"M1230.02 1532.4 L1235.88 1532.4 L1235.88 1568.04 L1230.02 1568.04 L1230.02 1532.4 M1230.02 1518.52 L1235.88 1518.52 L1235.88 1525.93 L1230.02 1525.93 L1230.02 1518.52 Z\" fill=\"#000000\" fill-rule=\"nonzero\" fill-opacity=\"1\" /><path clip-path=\"url(#clip310)\" d=\"M1261.95 1536.5 Q1257.24 1536.5 1254.5 1540.19 Q1251.76 1543.85 1251.76 1550.25 Q1251.76 1556.65 1254.47 1560.34 Q1257.21 1564 1261.95 1564 Q1266.63 1564 1269.36 1560.31 Q1272.1 1556.62 1272.1 1550.25 Q1272.1 1543.92 1269.36 1540.23 Q1266.63 1536.5 1261.95 1536.5 M1261.95 1531.54 Q1269.59 1531.54 1273.95 1536.5 Q1278.31 1541.47 1278.31 1550.25 Q1278.31 1559 1273.95 1564 Q1269.59 1568.97 1261.95 1568.97 Q1254.28 1568.97 1249.92 1564 Q1245.59 1559 1245.59 1550.25 Q1245.59 1541.47 1249.92 1536.5 Q1254.28 1531.54 1261.95 1531.54 Z\" fill=\"#000000\" fill-rule=\"nonzero\" fill-opacity=\"1\" /><path clip-path=\"url(#clip310)\" d=\"M1317.65 1546.53 L1317.65 1568.04 L1311.79 1568.04 L1311.79 1546.72 Q1311.79 1541.66 1309.82 1539.14 Q1307.85 1536.63 1303.9 1536.63 Q1299.16 1536.63 1296.42 1539.65 Q1293.68 1542.68 1293.68 1547.9 L1293.68 1568.04 L1287.79 1568.04 L1287.79 1532.4 L1293.68 1532.4 L1293.68 1537.93 Q1295.78 1534.72 1298.61 1533.13 Q1301.48 1531.54 1305.2 1531.54 Q1311.35 1531.54 1314.5 1535.36 Q1317.65 1539.14 1317.65 1546.53 Z\" fill=\"#000000\" fill-rule=\"nonzero\" fill-opacity=\"1\" /><path clip-path=\"url(#clip310)\" d=\"M1352.06 1533.45 L1352.06 1538.98 Q1349.57 1537.71 1346.9 1537.07 Q1344.23 1536.44 1341.36 1536.44 Q1337 1536.44 1334.8 1537.77 Q1332.64 1539.11 1332.64 1541.79 Q1332.64 1543.82 1334.2 1545 Q1335.76 1546.15 1340.47 1547.2 L1342.47 1547.64 Q1348.71 1548.98 1351.32 1551.43 Q1353.96 1553.85 1353.96 1558.21 Q1353.96 1563.17 1350.02 1566.07 Q1346.1 1568.97 1339.23 1568.97 Q1336.36 1568.97 1333.24 1568.39 Q1330.16 1567.85 1326.72 1566.74 L1326.72 1560.69 Q1329.97 1562.38 1333.12 1563.24 Q1336.27 1564.07 1339.36 1564.07 Q1343.49 1564.07 1345.72 1562.66 Q1347.95 1561.23 1347.95 1558.65 Q1347.95 1556.27 1346.33 1554.99 Q1344.73 1553.72 1339.29 1552.54 L1337.25 1552.07 Q1331.81 1550.92 1329.39 1548.56 Q1326.97 1546.18 1326.97 1542.04 Q1326.97 1537.01 1330.54 1534.27 Q1334.1 1531.54 1340.66 1531.54 Q1343.91 1531.54 1346.77 1532.01 Q1349.64 1532.49 1352.06 1533.45 Z\" fill=\"#000000\" fill-rule=\"nonzero\" fill-opacity=\"1\" /><polyline clip-path=\"url(#clip310)\" style=\"stroke:#000000; stroke-linecap:round; stroke-linejoin:round; stroke-width:4; stroke-opacity:1; fill:none\" points=\"219.866,1423.18 219.866,127.244 \"/>\n",
              "<polyline clip-path=\"url(#clip310)\" style=\"stroke:#000000; stroke-linecap:round; stroke-linejoin:round; stroke-width:4; stroke-opacity:1; fill:none\" points=\"219.866,1350.22 238.764,1350.22 \"/>\n",
              "<polyline clip-path=\"url(#clip310)\" style=\"stroke:#000000; stroke-linecap:round; stroke-linejoin:round; stroke-width:4; stroke-opacity:1; fill:none\" points=\"219.866,1015.74 238.764,1015.74 \"/>\n",
              "<polyline clip-path=\"url(#clip310)\" style=\"stroke:#000000; stroke-linecap:round; stroke-linejoin:round; stroke-width:4; stroke-opacity:1; fill:none\" points=\"219.866,681.26 238.764,681.26 \"/>\n",
              "<polyline clip-path=\"url(#clip310)\" style=\"stroke:#000000; stroke-linecap:round; stroke-linejoin:round; stroke-width:4; stroke-opacity:1; fill:none\" points=\"219.866,346.777 238.764,346.777 \"/>\n",
              "<path clip-path=\"url(#clip310)\" d=\"M162.964 1332.94 L181.32 1332.94 L181.32 1336.88 L167.246 1336.88 L167.246 1345.35 Q168.264 1345 169.283 1344.84 Q170.302 1344.66 171.32 1344.66 Q177.107 1344.66 180.487 1347.83 Q183.866 1351 183.866 1356.42 Q183.866 1362 180.394 1365.1 Q176.922 1368.18 170.602 1368.18 Q168.427 1368.18 166.158 1367.81 Q163.913 1367.44 161.505 1366.69 L161.505 1362 Q163.589 1363.13 165.811 1363.69 Q168.033 1364.24 170.51 1364.24 Q174.514 1364.24 176.852 1362.13 Q179.19 1360.03 179.19 1356.42 Q179.19 1352.81 176.852 1350.7 Q174.514 1348.59 170.51 1348.59 Q168.635 1348.59 166.76 1349.01 Q164.908 1349.43 162.964 1350.31 L162.964 1332.94 Z\" fill=\"#000000\" fill-rule=\"nonzero\" fill-opacity=\"1\" /><path clip-path=\"url(#clip310)\" d=\"M132.57 1029.09 L140.209 1029.09 L140.209 1002.72 L131.899 1004.39 L131.899 1000.13 L140.163 998.462 L144.839 998.462 L144.839 1029.09 L152.478 1029.09 L152.478 1033.02 L132.57 1033.02 L132.57 1029.09 Z\" fill=\"#000000\" fill-rule=\"nonzero\" fill-opacity=\"1\" /><path clip-path=\"url(#clip310)\" d=\"M171.922 1001.54 Q168.311 1001.54 166.482 1005.11 Q164.677 1008.65 164.677 1015.78 Q164.677 1022.88 166.482 1026.45 Q168.311 1029.99 171.922 1029.99 Q175.556 1029.99 177.362 1026.45 Q179.19 1022.88 179.19 1015.78 Q179.19 1008.65 177.362 1005.11 Q175.556 1001.54 171.922 1001.54 M171.922 997.837 Q177.732 997.837 180.788 1002.44 Q183.866 1007.03 183.866 1015.78 Q183.866 1024.5 180.788 1029.11 Q177.732 1033.69 171.922 1033.69 Q166.112 1033.69 163.033 1029.11 Q159.978 1024.5 159.978 1015.78 Q159.978 1007.03 163.033 1002.44 Q166.112 997.837 171.922 997.837 Z\" fill=\"#000000\" fill-rule=\"nonzero\" fill-opacity=\"1\" /><path clip-path=\"url(#clip310)\" d=\"M133.566 694.605 L141.204 694.605 L141.204 668.239 L132.894 669.906 L132.894 665.646 L141.158 663.98 L145.834 663.98 L145.834 694.605 L153.473 694.605 L153.473 698.54 L133.566 698.54 L133.566 694.605 Z\" fill=\"#000000\" fill-rule=\"nonzero\" fill-opacity=\"1\" /><path clip-path=\"url(#clip310)\" d=\"M162.964 663.98 L181.32 663.98 L181.32 667.915 L167.246 667.915 L167.246 676.387 Q168.264 676.04 169.283 675.878 Q170.302 675.693 171.32 675.693 Q177.107 675.693 180.487 678.864 Q183.866 682.035 183.866 687.452 Q183.866 693.03 180.394 696.132 Q176.922 699.211 170.602 699.211 Q168.427 699.211 166.158 698.841 Q163.913 698.47 161.505 697.73 L161.505 693.03 Q163.589 694.165 165.811 694.72 Q168.033 695.276 170.51 695.276 Q174.514 695.276 176.852 693.169 Q179.19 691.063 179.19 687.452 Q179.19 683.841 176.852 681.734 Q174.514 679.628 170.51 679.628 Q168.635 679.628 166.76 680.044 Q164.908 680.461 162.964 681.341 L162.964 663.98 Z\" fill=\"#000000\" fill-rule=\"nonzero\" fill-opacity=\"1\" /><path clip-path=\"url(#clip310)\" d=\"M135.788 360.122 L152.107 360.122 L152.107 364.057 L130.163 364.057 L130.163 360.122 Q132.825 357.368 137.408 352.738 Q142.015 348.085 143.195 346.743 Q145.441 344.219 146.32 342.483 Q147.223 340.724 147.223 339.034 Q147.223 336.28 145.279 334.544 Q143.357 332.807 140.255 332.807 Q138.056 332.807 135.603 333.571 Q133.172 334.335 130.394 335.886 L130.394 331.164 Q133.218 330.03 135.672 329.451 Q138.126 328.872 140.163 328.872 Q145.533 328.872 148.728 331.557 Q151.922 334.243 151.922 338.733 Q151.922 340.863 151.112 342.784 Q150.325 344.682 148.218 347.275 Q147.64 347.946 144.538 351.164 Q141.436 354.358 135.788 360.122 Z\" fill=\"#000000\" fill-rule=\"nonzero\" fill-opacity=\"1\" /><path clip-path=\"url(#clip310)\" d=\"M171.922 332.576 Q168.311 332.576 166.482 336.141 Q164.677 339.682 164.677 346.812 Q164.677 353.918 166.482 357.483 Q168.311 361.025 171.922 361.025 Q175.556 361.025 177.362 357.483 Q179.19 353.918 179.19 346.812 Q179.19 339.682 177.362 336.141 Q175.556 332.576 171.922 332.576 M171.922 328.872 Q177.732 328.872 180.788 333.479 Q183.866 338.062 183.866 346.812 Q183.866 355.539 180.788 360.145 Q177.732 364.729 171.922 364.729 Q166.112 364.729 163.033 360.145 Q159.978 355.539 159.978 346.812 Q159.978 338.062 163.033 333.479 Q166.112 328.872 171.922 328.872 Z\" fill=\"#000000\" fill-rule=\"nonzero\" fill-opacity=\"1\" /><path clip-path=\"url(#clip310)\" d=\"M36.7474 1004.03 Q36.7474 1011.03 41.9672 1015.17 Q47.1871 1019.27 56.1946 1019.27 Q65.1702 1019.27 70.3901 1015.17 Q75.61 1011.03 75.61 1004.03 Q75.61 997.025 70.3901 992.951 Q65.1702 988.845 56.1946 988.845 Q47.1871 988.845 41.9672 992.951 Q36.7474 997.025 36.7474 1004.03 M31.5275 1004.03 Q31.5275 994.033 38.2433 988.049 Q44.9273 982.066 56.1946 982.066 Q67.4301 982.066 74.1459 988.049 Q80.8299 994.033 80.8299 1004.03 Q80.8299 1014.05 74.1459 1020.07 Q67.4619 1026.05 56.1946 1026.05 Q44.9273 1026.05 38.2433 1020.07 Q31.5275 1014.05 31.5275 1004.03 Z\" fill=\"#000000\" fill-rule=\"nonzero\" fill-opacity=\"1\" /><path clip-path=\"url(#clip310)\" d=\"M62.1147 946.672 Q55.6535 946.672 51.9932 949.346 Q48.3011 951.988 48.3011 956.635 Q48.3011 961.282 51.9932 963.955 Q55.6535 966.597 62.1147 966.597 Q68.5759 966.597 72.268 963.955 Q75.9283 961.282 75.9283 956.635 Q75.9283 951.988 72.268 949.346 Q68.5759 946.672 62.1147 946.672 M49.6697 966.597 Q46.4869 964.751 44.9591 961.95 Q43.3995 959.117 43.3995 955.202 Q43.3995 948.709 48.5557 944.667 Q53.712 940.593 62.1147 940.593 Q70.5174 940.593 75.6737 944.667 Q80.8299 948.709 80.8299 955.202 Q80.8299 959.117 79.3021 961.95 Q77.7425 964.751 74.5597 966.597 L79.9069 966.597 L79.9069 972.485 L30.3817 972.485 L30.3817 966.597 L49.6697 966.597 Z\" fill=\"#000000\" fill-rule=\"nonzero\" fill-opacity=\"1\" /><path clip-path=\"url(#clip310)\" d=\"M44.2589 930.885 L44.2589 925.029 L80.5434 925.029 Q87.3547 925.029 90.4103 927.639 Q93.4658 930.217 93.4658 935.978 L93.4658 938.206 L88.5006 938.206 L88.5006 936.646 Q88.5006 933.304 86.941 932.095 Q85.4132 930.885 80.5434 930.885 L44.2589 930.885 M30.3817 930.885 L30.3817 925.029 L37.7977 925.029 L37.7977 930.885 L30.3817 930.885 Z\" fill=\"#000000\" fill-rule=\"nonzero\" fill-opacity=\"1\" /><path clip-path=\"url(#clip310)\" d=\"M60.6188 882.283 L63.4833 882.283 L63.4833 909.21 Q69.5307 908.828 72.7136 905.582 Q75.8646 902.303 75.8646 896.479 Q75.8646 893.105 75.0371 889.954 Q74.2095 886.771 72.5545 883.652 L78.0926 883.652 Q79.4294 886.803 80.1296 890.113 Q80.8299 893.423 80.8299 896.829 Q80.8299 905.359 75.8646 910.356 Q70.8994 915.321 62.433 915.321 Q53.6801 915.321 48.5557 910.611 Q43.3995 905.868 43.3995 897.847 Q43.3995 890.654 48.0465 886.485 Q52.6616 882.283 60.6188 882.283 M58.9 888.14 Q54.0939 888.203 51.2293 890.845 Q48.3648 893.455 48.3648 897.784 Q48.3648 902.685 51.1339 905.645 Q53.9029 908.574 58.9318 909.019 L58.9 888.14 Z\" fill=\"#000000\" fill-rule=\"nonzero\" fill-opacity=\"1\" /><path clip-path=\"url(#clip310)\" d=\"M45.6275 847.017 L51.102 847.017 Q49.7334 849.5 49.065 852.014 Q48.3648 854.497 48.3648 857.043 Q48.3648 862.74 51.9932 865.891 Q55.5899 869.042 62.1147 869.042 Q68.6395 869.042 72.268 865.891 Q75.8646 862.74 75.8646 857.043 Q75.8646 854.497 75.1962 852.014 Q74.496 849.5 73.1274 847.017 L78.5382 847.017 Q79.6841 849.468 80.257 852.11 Q80.8299 854.72 80.8299 857.68 Q80.8299 865.732 75.7691 870.475 Q70.7084 875.217 62.1147 875.217 Q53.3937 875.217 48.3966 870.443 Q43.3995 865.637 43.3995 857.298 Q43.3995 854.592 43.9724 852.014 Q44.5135 849.436 45.6275 847.017 Z\" fill=\"#000000\" fill-rule=\"nonzero\" fill-opacity=\"1\" /><path clip-path=\"url(#clip310)\" d=\"M34.1374 831.039 L44.2589 831.039 L44.2589 818.976 L48.8104 818.976 L48.8104 831.039 L68.1621 831.039 Q72.5226 831.039 73.7639 829.862 Q75.0053 828.652 75.0053 824.992 L75.0053 818.976 L79.9069 818.976 L79.9069 824.992 Q79.9069 831.771 77.3924 834.349 Q74.8461 836.927 68.1621 836.927 L48.8104 836.927 L48.8104 841.224 L44.2589 841.224 L44.2589 836.927 L34.1374 836.927 L34.1374 831.039 Z\" fill=\"#000000\" fill-rule=\"nonzero\" fill-opacity=\"1\" /><path clip-path=\"url(#clip310)\" d=\"M44.2589 811.274 L44.2589 805.417 L79.9069 805.417 L79.9069 811.274 L44.2589 811.274 M30.3817 811.274 L30.3817 805.417 L37.7977 805.417 L37.7977 811.274 L30.3817 811.274 Z\" fill=\"#000000\" fill-rule=\"nonzero\" fill-opacity=\"1\" /><path clip-path=\"url(#clip310)\" d=\"M44.2589 797.365 L44.2589 791.158 L74.1777 780.018 L44.2589 768.878 L44.2589 762.672 L79.9069 776.04 L79.9069 783.997 L44.2589 797.365 Z\" fill=\"#000000\" fill-rule=\"nonzero\" fill-opacity=\"1\" /><path clip-path=\"url(#clip310)\" d=\"M60.6188 724.095 L63.4833 724.095 L63.4833 751.022 Q69.5307 750.64 72.7136 747.394 Q75.8646 744.115 75.8646 738.291 Q75.8646 734.917 75.0371 731.766 Q74.2095 728.583 72.5545 725.464 L78.0926 725.464 Q79.4294 728.615 80.1296 731.925 Q80.8299 735.235 80.8299 738.641 Q80.8299 747.171 75.8646 752.168 Q70.8994 757.133 62.433 757.133 Q53.6801 757.133 48.5557 752.423 Q43.3995 747.68 43.3995 739.659 Q43.3995 732.466 48.0465 728.297 Q52.6616 724.095 60.6188 724.095 M58.9 729.952 Q54.0939 730.015 51.2293 732.657 Q48.3648 735.267 48.3648 739.596 Q48.3648 744.497 51.1339 747.457 Q53.9029 750.386 58.9318 750.831 L58.9 729.952 Z\" fill=\"#000000\" fill-rule=\"nonzero\" fill-opacity=\"1\" /><path clip-path=\"url(#clip310)\" d=\"M79.9069 681.254 L32.3869 699.396 L32.3869 692.681 L72.3953 677.626 L32.3869 662.539 L32.3869 655.855 L79.9069 673.965 L79.9069 681.254 Z\" fill=\"#000000\" fill-rule=\"nonzero\" fill-opacity=\"1\" /><path clip-path=\"url(#clip310)\" d=\"M61.9874 638.031 Q61.9874 645.129 63.6106 647.866 Q65.2339 650.603 69.1488 650.603 Q72.268 650.603 74.1141 648.566 Q75.9283 646.497 75.9283 642.964 Q75.9283 638.095 72.4908 635.166 Q69.0215 632.206 63.2924 632.206 L61.9874 632.206 L61.9874 638.031 M59.5684 626.35 L79.9069 626.35 L79.9069 632.206 L74.496 632.206 Q77.7425 634.212 79.3021 637.203 Q80.8299 640.195 80.8299 644.524 Q80.8299 649.999 77.7743 653.245 Q74.687 656.46 69.5307 656.46 Q63.5152 656.46 60.4596 652.449 Q57.4041 648.407 57.4041 640.418 L57.4041 632.206 L56.8312 632.206 Q52.7889 632.206 50.5928 634.88 Q48.3648 637.522 48.3648 642.328 Q48.3648 645.383 49.0968 648.28 Q49.8289 651.176 51.293 653.85 L45.8821 653.85 Q44.6408 650.635 44.0361 647.611 Q43.3995 644.588 43.3995 641.723 Q43.3995 633.989 47.4099 630.169 Q51.4203 626.35 59.5684 626.35 Z\" fill=\"#000000\" fill-rule=\"nonzero\" fill-opacity=\"1\" /><path clip-path=\"url(#clip310)\" d=\"M30.3817 614.287 L30.3817 608.43 L79.9069 608.43 L79.9069 614.287 L30.3817 614.287 Z\" fill=\"#000000\" fill-rule=\"nonzero\" fill-opacity=\"1\" /><path clip-path=\"url(#clip310)\" d=\"M65.8386 596.781 L44.2589 596.781 L44.2589 590.925 L65.6158 590.925 Q70.6766 590.925 73.2229 588.951 Q75.7373 586.978 75.7373 583.031 Q75.7373 578.289 72.7136 575.552 Q69.6899 572.782 64.47 572.782 L44.2589 572.782 L44.2589 566.926 L79.9069 566.926 L79.9069 572.782 L74.4323 572.782 Q77.6789 574.915 79.2703 577.748 Q80.8299 580.549 80.8299 584.273 Q80.8299 590.416 77.0105 593.598 Q73.191 596.781 65.8386 596.781 M43.3995 582.045 L43.3995 582.045 Z\" fill=\"#000000\" fill-rule=\"nonzero\" fill-opacity=\"1\" /><path clip-path=\"url(#clip310)\" d=\"M60.6188 524.371 L63.4833 524.371 L63.4833 551.298 Q69.5307 550.916 72.7136 547.67 Q75.8646 544.391 75.8646 538.567 Q75.8646 535.193 75.0371 532.042 Q74.2095 528.859 72.5545 525.74 L78.0926 525.74 Q79.4294 528.891 80.1296 532.201 Q80.8299 535.511 80.8299 538.917 Q80.8299 547.447 75.8646 552.444 Q70.8994 557.409 62.433 557.409 Q53.6801 557.409 48.5557 552.699 Q43.3995 547.956 43.3995 539.935 Q43.3995 532.742 48.0465 528.573 Q52.6616 524.371 60.6188 524.371 M58.9 530.228 Q54.0939 530.291 51.2293 532.933 Q48.3648 535.543 48.3648 539.872 Q48.3648 544.773 51.1339 547.733 Q53.9029 550.662 58.9318 551.107 L58.9 530.228 Z\" fill=\"#000000\" fill-rule=\"nonzero\" fill-opacity=\"1\" /><polyline clip-path=\"url(#clip312)\" style=\"stroke:#0000ff; stroke-linecap:round; stroke-linejoin:round; stroke-width:4; stroke-opacity:1; fill:none\" points=\"275.796,455.147 373.917,517.042 472.039,260.037 570.161,520.138 668.282,558.178 766.404,747.868 864.526,737.167 962.647,478.563 1060.77,669.433 1158.89,462.478 1257.01,163.922 1355.13,181.612 1453.26,371.5 1551.38,426.293 1649.5,382.001 1747.62,869.77 1845.74,182.761 1943.86,666.655 2041.99,827.118 2140.11,777.278 \"/>\n",
              "<path clip-path=\"url(#clip312)\" d=\"M259.796 439.147 L259.796 471.147 L291.796 471.147 L291.796 439.147 L259.796 439.147 Z\" fill=\"#0000ff\" fill-rule=\"evenodd\" fill-opacity=\"1\" stroke=\"#000000\" stroke-opacity=\"1\" stroke-width=\"3.2\"/>\n",
              "<path clip-path=\"url(#clip312)\" d=\"M357.917 501.042 L357.917 533.042 L389.917 533.042 L389.917 501.042 L357.917 501.042 Z\" fill=\"#0000ff\" fill-rule=\"evenodd\" fill-opacity=\"1\" stroke=\"#000000\" stroke-opacity=\"1\" stroke-width=\"3.2\"/>\n",
              "<path clip-path=\"url(#clip312)\" d=\"M456.039 244.037 L456.039 276.037 L488.039 276.037 L488.039 244.037 L456.039 244.037 Z\" fill=\"#0000ff\" fill-rule=\"evenodd\" fill-opacity=\"1\" stroke=\"#000000\" stroke-opacity=\"1\" stroke-width=\"3.2\"/>\n",
              "<path clip-path=\"url(#clip312)\" d=\"M554.161 504.138 L554.161 536.138 L586.161 536.138 L586.161 504.138 L554.161 504.138 Z\" fill=\"#0000ff\" fill-rule=\"evenodd\" fill-opacity=\"1\" stroke=\"#000000\" stroke-opacity=\"1\" stroke-width=\"3.2\"/>\n",
              "<path clip-path=\"url(#clip312)\" d=\"M652.282 542.178 L652.282 574.178 L684.282 574.178 L684.282 542.178 L652.282 542.178 Z\" fill=\"#0000ff\" fill-rule=\"evenodd\" fill-opacity=\"1\" stroke=\"#000000\" stroke-opacity=\"1\" stroke-width=\"3.2\"/>\n",
              "<path clip-path=\"url(#clip312)\" d=\"M750.404 731.868 L750.404 763.868 L782.404 763.868 L782.404 731.868 L750.404 731.868 Z\" fill=\"#0000ff\" fill-rule=\"evenodd\" fill-opacity=\"1\" stroke=\"#000000\" stroke-opacity=\"1\" stroke-width=\"3.2\"/>\n",
              "<path clip-path=\"url(#clip312)\" d=\"M848.526 721.167 L848.526 753.167 L880.526 753.167 L880.526 721.167 L848.526 721.167 Z\" fill=\"#0000ff\" fill-rule=\"evenodd\" fill-opacity=\"1\" stroke=\"#000000\" stroke-opacity=\"1\" stroke-width=\"3.2\"/>\n",
              "<path clip-path=\"url(#clip312)\" d=\"M946.647 462.563 L946.647 494.563 L978.647 494.563 L978.647 462.563 L946.647 462.563 Z\" fill=\"#0000ff\" fill-rule=\"evenodd\" fill-opacity=\"1\" stroke=\"#000000\" stroke-opacity=\"1\" stroke-width=\"3.2\"/>\n",
              "<path clip-path=\"url(#clip312)\" d=\"M1044.77 653.433 L1044.77 685.433 L1076.77 685.433 L1076.77 653.433 L1044.77 653.433 Z\" fill=\"#0000ff\" fill-rule=\"evenodd\" fill-opacity=\"1\" stroke=\"#000000\" stroke-opacity=\"1\" stroke-width=\"3.2\"/>\n",
              "<path clip-path=\"url(#clip312)\" d=\"M1142.89 446.478 L1142.89 478.478 L1174.89 478.478 L1174.89 446.478 L1142.89 446.478 Z\" fill=\"#0000ff\" fill-rule=\"evenodd\" fill-opacity=\"1\" stroke=\"#000000\" stroke-opacity=\"1\" stroke-width=\"3.2\"/>\n",
              "<path clip-path=\"url(#clip312)\" d=\"M1241.01 147.922 L1241.01 179.922 L1273.01 179.922 L1273.01 147.922 L1241.01 147.922 Z\" fill=\"#0000ff\" fill-rule=\"evenodd\" fill-opacity=\"1\" stroke=\"#000000\" stroke-opacity=\"1\" stroke-width=\"3.2\"/>\n",
              "<path clip-path=\"url(#clip312)\" d=\"M1339.13 165.612 L1339.13 197.612 L1371.13 197.612 L1371.13 165.612 L1339.13 165.612 Z\" fill=\"#0000ff\" fill-rule=\"evenodd\" fill-opacity=\"1\" stroke=\"#000000\" stroke-opacity=\"1\" stroke-width=\"3.2\"/>\n",
              "<path clip-path=\"url(#clip312)\" d=\"M1437.26 355.5 L1437.26 387.5 L1469.26 387.5 L1469.26 355.5 L1437.26 355.5 Z\" fill=\"#0000ff\" fill-rule=\"evenodd\" fill-opacity=\"1\" stroke=\"#000000\" stroke-opacity=\"1\" stroke-width=\"3.2\"/>\n",
              "<path clip-path=\"url(#clip312)\" d=\"M1535.38 410.293 L1535.38 442.293 L1567.38 442.293 L1567.38 410.293 L1535.38 410.293 Z\" fill=\"#0000ff\" fill-rule=\"evenodd\" fill-opacity=\"1\" stroke=\"#000000\" stroke-opacity=\"1\" stroke-width=\"3.2\"/>\n",
              "<path clip-path=\"url(#clip312)\" d=\"M1633.5 366.001 L1633.5 398.001 L1665.5 398.001 L1665.5 366.001 L1633.5 366.001 Z\" fill=\"#0000ff\" fill-rule=\"evenodd\" fill-opacity=\"1\" stroke=\"#000000\" stroke-opacity=\"1\" stroke-width=\"3.2\"/>\n",
              "<path clip-path=\"url(#clip312)\" d=\"M1731.62 853.77 L1731.62 885.77 L1763.62 885.77 L1763.62 853.77 L1731.62 853.77 Z\" fill=\"#0000ff\" fill-rule=\"evenodd\" fill-opacity=\"1\" stroke=\"#000000\" stroke-opacity=\"1\" stroke-width=\"3.2\"/>\n",
              "<path clip-path=\"url(#clip312)\" d=\"M1829.74 166.761 L1829.74 198.761 L1861.74 198.761 L1861.74 166.761 L1829.74 166.761 Z\" fill=\"#0000ff\" fill-rule=\"evenodd\" fill-opacity=\"1\" stroke=\"#000000\" stroke-opacity=\"1\" stroke-width=\"3.2\"/>\n",
              "<path clip-path=\"url(#clip312)\" d=\"M1927.86 650.655 L1927.86 682.655 L1959.86 682.655 L1959.86 650.655 L1927.86 650.655 Z\" fill=\"#0000ff\" fill-rule=\"evenodd\" fill-opacity=\"1\" stroke=\"#000000\" stroke-opacity=\"1\" stroke-width=\"3.2\"/>\n",
              "<path clip-path=\"url(#clip312)\" d=\"M2025.99 811.118 L2025.99 843.118 L2057.99 843.118 L2057.99 811.118 L2025.99 811.118 Z\" fill=\"#0000ff\" fill-rule=\"evenodd\" fill-opacity=\"1\" stroke=\"#000000\" stroke-opacity=\"1\" stroke-width=\"3.2\"/>\n",
              "<path clip-path=\"url(#clip312)\" d=\"M2124.11 761.278 L2124.11 793.278 L2156.11 793.278 L2156.11 761.278 L2124.11 761.278 Z\" fill=\"#0000ff\" fill-rule=\"evenodd\" fill-opacity=\"1\" stroke=\"#000000\" stroke-opacity=\"1\" stroke-width=\"3.2\"/>\n",
              "<polyline clip-path=\"url(#clip312)\" style=\"stroke:#ffa500; stroke-linecap:round; stroke-linejoin:round; stroke-width:4; stroke-opacity:1; fill:none\" points=\"275.796,1386.5 373.917,1386.5 472.039,1386.5 570.161,1386.5 668.282,1386.5 766.404,1386.5 864.526,1386.5 962.647,1386.5 1060.77,1386.5 1158.89,1386.5 1257.01,1386.5 1355.13,1386.5 1453.26,1386.5 1551.38,1386.5 1649.5,1386.5 1747.62,1386.5 1845.74,1386.5 1943.86,1386.5 2041.99,1386.5 2140.11,1386.5 \"/>\n",
              "<path clip-path=\"url(#clip312)\" d=\"M259.796 1370.5 L259.796 1402.5 L291.796 1402.5 L291.796 1370.5 L259.796 1370.5 Z\" fill=\"#ffa500\" fill-rule=\"evenodd\" fill-opacity=\"1\" stroke=\"#000000\" stroke-opacity=\"1\" stroke-width=\"3.2\"/>\n",
              "<path clip-path=\"url(#clip312)\" d=\"M357.917 1370.5 L357.917 1402.5 L389.917 1402.5 L389.917 1370.5 L357.917 1370.5 Z\" fill=\"#ffa500\" fill-rule=\"evenodd\" fill-opacity=\"1\" stroke=\"#000000\" stroke-opacity=\"1\" stroke-width=\"3.2\"/>\n",
              "<path clip-path=\"url(#clip312)\" d=\"M456.039 1370.5 L456.039 1402.5 L488.039 1402.5 L488.039 1370.5 L456.039 1370.5 Z\" fill=\"#ffa500\" fill-rule=\"evenodd\" fill-opacity=\"1\" stroke=\"#000000\" stroke-opacity=\"1\" stroke-width=\"3.2\"/>\n",
              "<path clip-path=\"url(#clip312)\" d=\"M554.161 1370.5 L554.161 1402.5 L586.161 1402.5 L586.161 1370.5 L554.161 1370.5 Z\" fill=\"#ffa500\" fill-rule=\"evenodd\" fill-opacity=\"1\" stroke=\"#000000\" stroke-opacity=\"1\" stroke-width=\"3.2\"/>\n",
              "<path clip-path=\"url(#clip312)\" d=\"M652.282 1370.5 L652.282 1402.5 L684.282 1402.5 L684.282 1370.5 L652.282 1370.5 Z\" fill=\"#ffa500\" fill-rule=\"evenodd\" fill-opacity=\"1\" stroke=\"#000000\" stroke-opacity=\"1\" stroke-width=\"3.2\"/>\n",
              "<path clip-path=\"url(#clip312)\" d=\"M750.404 1370.5 L750.404 1402.5 L782.404 1402.5 L782.404 1370.5 L750.404 1370.5 Z\" fill=\"#ffa500\" fill-rule=\"evenodd\" fill-opacity=\"1\" stroke=\"#000000\" stroke-opacity=\"1\" stroke-width=\"3.2\"/>\n",
              "<path clip-path=\"url(#clip312)\" d=\"M848.526 1370.5 L848.526 1402.5 L880.526 1402.5 L880.526 1370.5 L848.526 1370.5 Z\" fill=\"#ffa500\" fill-rule=\"evenodd\" fill-opacity=\"1\" stroke=\"#000000\" stroke-opacity=\"1\" stroke-width=\"3.2\"/>\n",
              "<path clip-path=\"url(#clip312)\" d=\"M946.647 1370.5 L946.647 1402.5 L978.647 1402.5 L978.647 1370.5 L946.647 1370.5 Z\" fill=\"#ffa500\" fill-rule=\"evenodd\" fill-opacity=\"1\" stroke=\"#000000\" stroke-opacity=\"1\" stroke-width=\"3.2\"/>\n",
              "<path clip-path=\"url(#clip312)\" d=\"M1044.77 1370.5 L1044.77 1402.5 L1076.77 1402.5 L1076.77 1370.5 L1044.77 1370.5 Z\" fill=\"#ffa500\" fill-rule=\"evenodd\" fill-opacity=\"1\" stroke=\"#000000\" stroke-opacity=\"1\" stroke-width=\"3.2\"/>\n",
              "<path clip-path=\"url(#clip312)\" d=\"M1142.89 1370.5 L1142.89 1402.5 L1174.89 1402.5 L1174.89 1370.5 L1142.89 1370.5 Z\" fill=\"#ffa500\" fill-rule=\"evenodd\" fill-opacity=\"1\" stroke=\"#000000\" stroke-opacity=\"1\" stroke-width=\"3.2\"/>\n",
              "<path clip-path=\"url(#clip312)\" d=\"M1241.01 1370.5 L1241.01 1402.5 L1273.01 1402.5 L1273.01 1370.5 L1241.01 1370.5 Z\" fill=\"#ffa500\" fill-rule=\"evenodd\" fill-opacity=\"1\" stroke=\"#000000\" stroke-opacity=\"1\" stroke-width=\"3.2\"/>\n",
              "<path clip-path=\"url(#clip312)\" d=\"M1339.13 1370.5 L1339.13 1402.5 L1371.13 1402.5 L1371.13 1370.5 L1339.13 1370.5 Z\" fill=\"#ffa500\" fill-rule=\"evenodd\" fill-opacity=\"1\" stroke=\"#000000\" stroke-opacity=\"1\" stroke-width=\"3.2\"/>\n",
              "<path clip-path=\"url(#clip312)\" d=\"M1437.26 1370.5 L1437.26 1402.5 L1469.26 1402.5 L1469.26 1370.5 L1437.26 1370.5 Z\" fill=\"#ffa500\" fill-rule=\"evenodd\" fill-opacity=\"1\" stroke=\"#000000\" stroke-opacity=\"1\" stroke-width=\"3.2\"/>\n",
              "<path clip-path=\"url(#clip312)\" d=\"M1535.38 1370.5 L1535.38 1402.5 L1567.38 1402.5 L1567.38 1370.5 L1535.38 1370.5 Z\" fill=\"#ffa500\" fill-rule=\"evenodd\" fill-opacity=\"1\" stroke=\"#000000\" stroke-opacity=\"1\" stroke-width=\"3.2\"/>\n",
              "<path clip-path=\"url(#clip312)\" d=\"M1633.5 1370.5 L1633.5 1402.5 L1665.5 1402.5 L1665.5 1370.5 L1633.5 1370.5 Z\" fill=\"#ffa500\" fill-rule=\"evenodd\" fill-opacity=\"1\" stroke=\"#000000\" stroke-opacity=\"1\" stroke-width=\"3.2\"/>\n",
              "<path clip-path=\"url(#clip312)\" d=\"M1731.62 1370.5 L1731.62 1402.5 L1763.62 1402.5 L1763.62 1370.5 L1731.62 1370.5 Z\" fill=\"#ffa500\" fill-rule=\"evenodd\" fill-opacity=\"1\" stroke=\"#000000\" stroke-opacity=\"1\" stroke-width=\"3.2\"/>\n",
              "<path clip-path=\"url(#clip312)\" d=\"M1829.74 1370.5 L1829.74 1402.5 L1861.74 1402.5 L1861.74 1370.5 L1829.74 1370.5 Z\" fill=\"#ffa500\" fill-rule=\"evenodd\" fill-opacity=\"1\" stroke=\"#000000\" stroke-opacity=\"1\" stroke-width=\"3.2\"/>\n",
              "<path clip-path=\"url(#clip312)\" d=\"M1927.86 1370.5 L1927.86 1402.5 L1959.86 1402.5 L1959.86 1370.5 L1927.86 1370.5 Z\" fill=\"#ffa500\" fill-rule=\"evenodd\" fill-opacity=\"1\" stroke=\"#000000\" stroke-opacity=\"1\" stroke-width=\"3.2\"/>\n",
              "<path clip-path=\"url(#clip312)\" d=\"M2025.99 1370.5 L2025.99 1402.5 L2057.99 1402.5 L2057.99 1370.5 L2025.99 1370.5 Z\" fill=\"#ffa500\" fill-rule=\"evenodd\" fill-opacity=\"1\" stroke=\"#000000\" stroke-opacity=\"1\" stroke-width=\"3.2\"/>\n",
              "<path clip-path=\"url(#clip312)\" d=\"M2124.11 1370.5 L2124.11 1402.5 L2156.11 1402.5 L2156.11 1370.5 L2124.11 1370.5 Z\" fill=\"#ffa500\" fill-rule=\"evenodd\" fill-opacity=\"1\" stroke=\"#000000\" stroke-opacity=\"1\" stroke-width=\"3.2\"/>\n",
              "<path clip-path=\"url(#clip310)\" d=\"M241.824 1267.67 L710.574 1267.67 L710.574 1112.15 L241.824 1112.15  Z\" fill=\"#ffffff\" fill-rule=\"evenodd\" fill-opacity=\"1\"/>\n",
              "<polyline clip-path=\"url(#clip310)\" style=\"stroke:#000000; stroke-linecap:round; stroke-linejoin:round; stroke-width:4; stroke-opacity:1; fill:none\" points=\"241.824,1267.67 710.574,1267.67 710.574,1112.15 241.824,1112.15 241.824,1267.67 \"/>\n",
              "<polyline clip-path=\"url(#clip310)\" style=\"stroke:#0000ff; stroke-linecap:round; stroke-linejoin:round; stroke-width:4; stroke-opacity:1; fill:none\" points=\"263.781,1163.99 395.526,1163.99 \"/>\n",
              "<path clip-path=\"url(#clip310)\" d=\"M309.323 1143.66 L309.323 1184.32 L349.984 1184.32 L349.984 1143.66 L309.323 1143.66 Z\" fill=\"#0000ff\" fill-rule=\"evenodd\" fill-opacity=\"1\" stroke=\"#000000\" stroke-opacity=\"1\" stroke-width=\"4.55111\"/>\n",
              "<path clip-path=\"url(#clip310)\" d=\"M417.483 1146.71 L422.159 1146.71 L422.159 1181.27 L417.483 1181.27 L417.483 1146.71 Z\" fill=\"#000000\" fill-rule=\"nonzero\" fill-opacity=\"1\" /><path clip-path=\"url(#clip310)\" d=\"M452.83 1165.62 L452.83 1181.27 L448.571 1181.27 L448.571 1165.76 Q448.571 1162.08 447.136 1160.25 Q445.701 1158.43 442.83 1158.43 Q439.381 1158.43 437.391 1160.62 Q435.4 1162.82 435.4 1166.62 L435.4 1181.27 L431.117 1181.27 L431.117 1155.35 L435.4 1155.35 L435.4 1159.37 Q436.928 1157.04 438.988 1155.88 Q441.071 1154.72 443.779 1154.72 Q448.247 1154.72 450.539 1157.5 Q452.83 1160.25 452.83 1165.62 Z\" fill=\"#000000\" fill-rule=\"nonzero\" fill-opacity=\"1\" /><path clip-path=\"url(#clip310)\" d=\"M461.326 1155.35 L465.585 1155.35 L465.585 1181.27 L461.326 1181.27 L461.326 1155.35 M461.326 1145.25 L465.585 1145.25 L465.585 1150.65 L461.326 1150.65 L461.326 1145.25 Z\" fill=\"#000000\" fill-rule=\"nonzero\" fill-opacity=\"1\" /><path clip-path=\"url(#clip310)\" d=\"M478.71 1147.99 L478.71 1155.35 L487.483 1155.35 L487.483 1158.66 L478.71 1158.66 L478.71 1172.73 Q478.71 1175.9 479.566 1176.81 Q480.446 1177.71 483.108 1177.71 L487.483 1177.71 L487.483 1181.27 L483.108 1181.27 Q478.177 1181.27 476.302 1179.44 Q474.427 1177.59 474.427 1172.73 L474.427 1158.66 L471.302 1158.66 L471.302 1155.35 L474.427 1155.35 L474.427 1147.99 L478.71 1147.99 Z\" fill=\"#000000\" fill-rule=\"nonzero\" fill-opacity=\"1\" /><path clip-path=\"url(#clip310)\" d=\"M493.085 1155.35 L497.344 1155.35 L497.344 1181.27 L493.085 1181.27 L493.085 1155.35 M493.085 1145.25 L497.344 1145.25 L497.344 1150.65 L493.085 1150.65 L493.085 1145.25 Z\" fill=\"#000000\" fill-rule=\"nonzero\" fill-opacity=\"1\" /><path clip-path=\"url(#clip310)\" d=\"M518.038 1168.24 Q512.876 1168.24 510.886 1169.42 Q508.895 1170.6 508.895 1173.45 Q508.895 1175.72 510.376 1177.06 Q511.881 1178.38 514.45 1178.38 Q517.992 1178.38 520.122 1175.88 Q522.274 1173.36 522.274 1169.19 L522.274 1168.24 L518.038 1168.24 M526.534 1166.48 L526.534 1181.27 L522.274 1181.27 L522.274 1177.34 Q520.816 1179.7 518.64 1180.83 Q516.464 1181.94 513.316 1181.94 Q509.335 1181.94 506.974 1179.72 Q504.636 1177.48 504.636 1173.73 Q504.636 1169.35 507.552 1167.13 Q510.492 1164.91 516.302 1164.91 L522.274 1164.91 L522.274 1164.49 Q522.274 1161.55 520.33 1159.95 Q518.409 1158.33 514.913 1158.33 Q512.691 1158.33 510.585 1158.87 Q508.478 1159.4 506.534 1160.46 L506.534 1156.53 Q508.872 1155.62 511.071 1155.18 Q513.27 1154.72 515.353 1154.72 Q520.978 1154.72 523.756 1157.64 Q526.534 1160.56 526.534 1166.48 Z\" fill=\"#000000\" fill-rule=\"nonzero\" fill-opacity=\"1\" /><path clip-path=\"url(#clip310)\" d=\"M535.307 1145.25 L539.566 1145.25 L539.566 1181.27 L535.307 1181.27 L535.307 1145.25 Z\" fill=\"#000000\" fill-rule=\"nonzero\" fill-opacity=\"1\" /><polyline clip-path=\"url(#clip310)\" style=\"stroke:#ffa500; stroke-linecap:round; stroke-linejoin:round; stroke-width:4; stroke-opacity:1; fill:none\" points=\"263.781,1215.83 395.526,1215.83 \"/>\n",
              "<path clip-path=\"url(#clip310)\" d=\"M309.323 1195.5 L309.323 1236.16 L349.984 1236.16 L349.984 1195.5 L309.323 1195.5 Z\" fill=\"#ffa500\" fill-rule=\"evenodd\" fill-opacity=\"1\" stroke=\"#000000\" stroke-opacity=\"1\" stroke-width=\"4.55111\"/>\n",
              "<path clip-path=\"url(#clip310)\" d=\"M433.317 1203.16 L426.974 1220.36 L439.682 1220.36 L433.317 1203.16 M430.678 1198.55 L435.979 1198.55 L449.15 1233.11 L444.289 1233.11 L441.141 1224.25 L425.562 1224.25 L422.414 1233.11 L417.483 1233.11 L430.678 1198.55 Z\" fill=\"#000000\" fill-rule=\"nonzero\" fill-opacity=\"1\" /><path clip-path=\"url(#clip310)\" d=\"M453.571 1222.88 L453.571 1207.19 L457.83 1207.19 L457.83 1222.72 Q457.83 1226.4 459.265 1228.25 Q460.701 1230.08 463.571 1230.08 Q467.02 1230.08 469.011 1227.88 Q471.025 1225.68 471.025 1221.89 L471.025 1207.19 L475.284 1207.19 L475.284 1233.11 L471.025 1233.11 L471.025 1229.13 Q469.474 1231.49 467.414 1232.65 Q465.377 1233.78 462.668 1233.78 Q458.201 1233.78 455.886 1231.01 Q453.571 1228.23 453.571 1222.88 M464.289 1206.56 L464.289 1206.56 Z\" fill=\"#000000\" fill-rule=\"nonzero\" fill-opacity=\"1\" /><path clip-path=\"url(#clip310)\" d=\"M501.117 1219.85 Q501.117 1215.22 499.196 1212.67 Q497.298 1210.13 493.849 1210.13 Q490.423 1210.13 488.501 1212.67 Q486.603 1215.22 486.603 1219.85 Q486.603 1224.46 488.501 1227 Q490.423 1229.55 493.849 1229.55 Q497.298 1229.55 499.196 1227 Q501.117 1224.46 501.117 1219.85 M505.376 1229.9 Q505.376 1236.52 502.437 1239.73 Q499.497 1242.97 493.432 1242.97 Q491.187 1242.97 489.196 1242.63 Q487.205 1242.3 485.33 1241.61 L485.33 1237.46 Q487.205 1238.48 489.034 1238.97 Q490.863 1239.46 492.761 1239.46 Q496.95 1239.46 499.034 1237.26 Q501.117 1235.08 501.117 1230.66 L501.117 1228.55 Q499.798 1230.84 497.737 1231.98 Q495.677 1233.11 492.807 1233.11 Q488.038 1233.11 485.122 1229.48 Q482.205 1225.84 482.205 1219.85 Q482.205 1213.83 485.122 1210.2 Q488.038 1206.56 492.807 1206.56 Q495.677 1206.56 497.737 1207.7 Q499.798 1208.83 501.117 1211.12 L501.117 1207.19 L505.376 1207.19 L505.376 1229.9 Z\" fill=\"#000000\" fill-rule=\"nonzero\" fill-opacity=\"1\" /><path clip-path=\"url(#clip310)\" d=\"M534.335 1212.16 Q535.932 1209.29 538.154 1207.93 Q540.376 1206.56 543.385 1206.56 Q547.436 1206.56 549.635 1209.41 Q551.834 1212.23 551.834 1217.46 L551.834 1233.11 L547.552 1233.11 L547.552 1217.6 Q547.552 1213.88 546.233 1212.07 Q544.913 1210.27 542.205 1210.27 Q538.895 1210.27 536.973 1212.46 Q535.052 1214.66 535.052 1218.46 L535.052 1233.11 L530.77 1233.11 L530.77 1217.6 Q530.77 1213.85 529.45 1212.07 Q528.131 1210.27 525.376 1210.27 Q522.112 1210.27 520.191 1212.49 Q518.27 1214.69 518.27 1218.46 L518.27 1233.11 L513.987 1233.11 L513.987 1207.19 L518.27 1207.19 L518.27 1211.21 Q519.728 1208.83 521.765 1207.7 Q523.802 1206.56 526.603 1206.56 Q529.427 1206.56 531.395 1208 Q533.385 1209.43 534.335 1212.16 Z\" fill=\"#000000\" fill-rule=\"nonzero\" fill-opacity=\"1\" /><path clip-path=\"url(#clip310)\" d=\"M582.506 1219.08 L582.506 1221.17 L562.922 1221.17 Q563.2 1225.57 565.561 1227.88 Q567.945 1230.17 572.182 1230.17 Q574.635 1230.17 576.927 1229.57 Q579.242 1228.97 581.51 1227.77 L581.51 1231.79 Q579.219 1232.77 576.811 1233.27 Q574.404 1233.78 571.927 1233.78 Q565.723 1233.78 562.089 1230.17 Q558.478 1226.56 558.478 1220.4 Q558.478 1214.04 561.904 1210.31 Q565.353 1206.56 571.186 1206.56 Q576.418 1206.56 579.45 1209.94 Q582.506 1213.3 582.506 1219.08 M578.246 1217.83 Q578.2 1214.34 576.279 1212.26 Q574.381 1210.17 571.232 1210.17 Q567.668 1210.17 565.515 1212.19 Q563.385 1214.2 563.061 1217.86 L578.246 1217.83 Z\" fill=\"#000000\" fill-rule=\"nonzero\" fill-opacity=\"1\" /><path clip-path=\"url(#clip310)\" d=\"M611.047 1217.46 L611.047 1233.11 L606.788 1233.11 L606.788 1217.6 Q606.788 1213.92 605.353 1212.09 Q603.917 1210.27 601.047 1210.27 Q597.598 1210.27 595.607 1212.46 Q593.617 1214.66 593.617 1218.46 L593.617 1233.11 L589.334 1233.11 L589.334 1207.19 L593.617 1207.19 L593.617 1211.21 Q595.144 1208.88 597.205 1207.72 Q599.288 1206.56 601.996 1206.56 Q606.464 1206.56 608.755 1209.34 Q611.047 1212.09 611.047 1217.46 Z\" fill=\"#000000\" fill-rule=\"nonzero\" fill-opacity=\"1\" /><path clip-path=\"url(#clip310)\" d=\"M623.755 1199.83 L623.755 1207.19 L632.528 1207.19 L632.528 1210.5 L623.755 1210.5 L623.755 1224.57 Q623.755 1227.74 624.612 1228.65 Q625.491 1229.55 628.153 1229.55 L632.528 1229.55 L632.528 1233.11 L628.153 1233.11 Q623.223 1233.11 621.348 1231.28 Q619.473 1229.43 619.473 1224.57 L619.473 1210.5 L616.348 1210.5 L616.348 1207.19 L619.473 1207.19 L619.473 1199.83 L623.755 1199.83 Z\" fill=\"#000000\" fill-rule=\"nonzero\" fill-opacity=\"1\" /><path clip-path=\"url(#clip310)\" d=\"M660.306 1219.08 L660.306 1221.17 L640.723 1221.17 Q641.001 1225.57 643.362 1227.88 Q645.746 1230.17 649.982 1230.17 Q652.436 1230.17 654.727 1229.57 Q657.042 1228.97 659.311 1227.77 L659.311 1231.79 Q657.019 1232.77 654.612 1233.27 Q652.204 1233.78 649.727 1233.78 Q643.524 1233.78 639.889 1230.17 Q636.278 1226.56 636.278 1220.4 Q636.278 1214.04 639.704 1210.31 Q643.153 1206.56 648.987 1206.56 Q654.218 1206.56 657.251 1209.94 Q660.306 1213.3 660.306 1219.08 M656.047 1217.83 Q656.001 1214.34 654.079 1212.26 Q652.181 1210.17 649.033 1210.17 Q645.468 1210.17 643.315 1212.19 Q641.186 1214.2 640.862 1217.86 L656.047 1217.83 Z\" fill=\"#000000\" fill-rule=\"nonzero\" fill-opacity=\"1\" /><path clip-path=\"url(#clip310)\" d=\"M684.357 1211.12 L684.357 1197.09 L688.616 1197.09 L688.616 1233.11 L684.357 1233.11 L684.357 1229.22 Q683.014 1231.54 680.954 1232.67 Q678.917 1233.78 676.047 1233.78 Q671.348 1233.78 668.385 1230.03 Q665.445 1226.28 665.445 1220.17 Q665.445 1214.06 668.385 1210.31 Q671.348 1206.56 676.047 1206.56 Q678.917 1206.56 680.954 1207.7 Q683.014 1208.81 684.357 1211.12 M669.843 1220.17 Q669.843 1224.87 671.764 1227.56 Q673.709 1230.22 677.088 1230.22 Q680.468 1230.22 682.412 1227.56 Q684.357 1224.87 684.357 1220.17 Q684.357 1215.47 682.412 1212.81 Q680.468 1210.13 677.088 1210.13 Q673.709 1210.13 671.764 1212.81 Q669.843 1215.47 669.843 1220.17 Z\" fill=\"#000000\" fill-rule=\"nonzero\" fill-opacity=\"1\" /><path clip-path=\"url(#clip310)\" d=\"M219.866 80 L2196.04 80 L2196.04 0 L219.866 0  Z\" fill=\"#ffffff\" fill-rule=\"evenodd\" fill-opacity=\"1\"/>\n",
              "<defs>\n",
              "  <clipPath id=\"clip313\">\n",
              "    <rect x=\"219\" y=\"0\" width=\"1977\" height=\"81\"/>\n",
              "  </clipPath>\n",
              "</defs>\n",
              "<path clip-path=\"url(#clip310)\" d=\"M907.606 23.0369 L894.921 57.4349 L920.337 57.4349 L907.606 23.0369 M902.328 13.824 L912.93 13.824 L939.272 82.944 L929.55 82.944 L923.254 65.2126 L892.097 65.2126 L885.8 82.944 L875.939 82.944 L902.328 13.824 Z\" fill=\"#000000\" fill-rule=\"nonzero\" fill-opacity=\"1\" /><path clip-path=\"url(#clip310)\" d=\"M948.115 62.4811 L948.115 31.0924 L956.633 31.0924 L956.633 62.1571 Q956.633 69.5181 959.504 73.2218 Q962.374 76.8792 968.115 76.8792 Q975.013 76.8792 978.994 72.4811 Q983.022 68.083 983.022 60.4904 L983.022 31.0924 L991.54 31.0924 L991.54 82.944 L983.022 82.944 L983.022 74.9811 Q979.92 79.7033 975.8 82.0181 Q971.726 84.2866 966.309 84.2866 Q957.374 84.2866 952.744 78.7311 Q948.115 73.1755 948.115 62.4811 M969.55 29.8424 L969.55 29.8424 Z\" fill=\"#000000\" fill-rule=\"nonzero\" fill-opacity=\"1\" /><path clip-path=\"url(#clip310)\" d=\"M1043.21 56.4164 Q1043.21 47.1572 1039.36 42.0646 Q1035.57 36.972 1028.67 36.972 Q1021.82 36.972 1017.98 42.0646 Q1014.18 47.1572 1014.18 56.4164 Q1014.18 65.6293 1017.98 70.7218 Q1021.82 75.8144 1028.67 75.8144 Q1035.57 75.8144 1039.36 70.7218 Q1043.21 65.6293 1043.21 56.4164 M1051.73 76.5088 Q1051.73 89.7495 1045.85 96.1847 Q1039.97 102.666 1027.84 102.666 Q1023.35 102.666 1019.36 101.972 Q1015.38 101.324 1011.63 99.9346 L1011.63 91.6477 Q1015.38 93.6847 1019.04 94.6569 Q1022.7 95.6291 1026.49 95.6291 Q1034.87 95.6291 1039.04 91.231 Q1043.21 86.8792 1043.21 78.0366 L1043.21 73.8237 Q1040.57 78.407 1036.45 80.6755 Q1032.33 82.944 1026.59 82.944 Q1017.05 82.944 1011.22 75.6755 Q1005.38 68.407 1005.38 56.4164 Q1005.38 44.3794 1011.22 37.1109 Q1017.05 29.8424 1026.59 29.8424 Q1032.33 29.8424 1036.45 32.1109 Q1040.57 34.3794 1043.21 38.9628 L1043.21 31.0924 L1051.73 31.0924 L1051.73 76.5088 Z\" fill=\"#000000\" fill-rule=\"nonzero\" fill-opacity=\"1\" /><path clip-path=\"url(#clip310)\" d=\"M1109.64 41.0461 Q1112.84 35.3054 1117.28 32.5739 Q1121.72 29.8424 1127.74 29.8424 Q1135.85 29.8424 1140.24 35.5368 Q1144.64 41.185 1144.64 51.6479 L1144.64 82.944 L1136.08 82.944 L1136.08 51.9256 Q1136.08 44.472 1133.44 40.8609 Q1130.8 37.2498 1125.38 37.2498 Q1118.76 37.2498 1114.92 41.6479 Q1111.08 46.046 1111.08 53.6386 L1111.08 82.944 L1102.51 82.944 L1102.51 51.9256 Q1102.51 44.4257 1099.87 40.8609 Q1097.23 37.2498 1091.73 37.2498 Q1085.2 37.2498 1081.35 41.6942 Q1077.51 46.0923 1077.51 53.6386 L1077.51 82.944 L1068.95 82.944 L1068.95 31.0924 L1077.51 31.0924 L1077.51 39.1479 Q1080.43 34.3794 1084.5 32.1109 Q1088.58 29.8424 1094.18 29.8424 Q1099.83 29.8424 1103.76 32.7128 Q1107.74 35.5831 1109.64 41.0461 Z\" fill=\"#000000\" fill-rule=\"nonzero\" fill-opacity=\"1\" /><path clip-path=\"url(#clip310)\" d=\"M1205.98 54.8886 L1205.98 59.0552 L1166.82 59.0552 Q1167.37 67.8515 1172.1 72.4811 Q1176.86 77.0644 1185.34 77.0644 Q1190.24 77.0644 1194.83 75.8607 Q1199.46 74.657 1203.99 72.2496 L1203.99 80.3051 Q1199.41 82.2496 1194.59 83.2681 Q1189.78 84.2866 1184.83 84.2866 Q1172.42 84.2866 1165.15 77.0644 Q1157.93 69.8422 1157.93 57.5275 Q1157.93 44.7961 1164.78 37.3424 Q1171.68 29.8424 1183.34 29.8424 Q1193.81 29.8424 1199.87 36.6017 Q1205.98 43.3146 1205.98 54.8886 M1197.47 52.3886 Q1197.37 45.3979 1193.53 41.2313 Q1189.73 37.0646 1183.44 37.0646 Q1176.31 37.0646 1172 41.0924 Q1167.74 45.1201 1167.1 52.4349 L1197.47 52.3886 Z\" fill=\"#000000\" fill-rule=\"nonzero\" fill-opacity=\"1\" /><path clip-path=\"url(#clip310)\" d=\"M1263.07 51.6479 L1263.07 82.944 L1254.55 82.944 L1254.55 51.9256 Q1254.55 44.5646 1251.68 40.9072 Q1248.81 37.2498 1243.07 37.2498 Q1236.17 37.2498 1232.19 41.6479 Q1228.21 46.046 1228.21 53.6386 L1228.21 82.944 L1219.64 82.944 L1219.64 31.0924 L1228.21 31.0924 L1228.21 39.1479 Q1231.26 34.472 1235.38 32.1572 Q1239.55 29.8424 1244.97 29.8424 Q1253.9 29.8424 1258.48 35.398 Q1263.07 40.9072 1263.07 51.6479 Z\" fill=\"#000000\" fill-rule=\"nonzero\" fill-opacity=\"1\" /><path clip-path=\"url(#clip310)\" d=\"M1288.48 16.3703 L1288.48 31.0924 L1306.03 31.0924 L1306.03 37.7128 L1288.48 37.7128 L1288.48 65.8608 Q1288.48 72.2033 1290.2 74.0089 Q1291.96 75.8144 1297.28 75.8144 L1306.03 75.8144 L1306.03 82.944 L1297.28 82.944 Q1287.42 82.944 1283.67 79.2866 Q1279.92 75.5829 1279.92 65.8608 L1279.92 37.7128 L1273.67 37.7128 L1273.67 31.0924 L1279.92 31.0924 L1279.92 16.3703 L1288.48 16.3703 Z\" fill=\"#000000\" fill-rule=\"nonzero\" fill-opacity=\"1\" /><path clip-path=\"url(#clip310)\" d=\"M1340.8 56.8793 Q1330.47 56.8793 1326.49 59.2404 Q1322.51 61.6015 1322.51 67.2959 Q1322.51 71.8329 1325.47 74.5181 Q1328.48 77.157 1333.62 77.157 Q1340.71 77.157 1344.96 72.157 Q1349.27 67.1108 1349.27 58.7775 L1349.27 56.8793 L1340.8 56.8793 M1357.79 53.3608 L1357.79 82.944 L1349.27 82.944 L1349.27 75.0737 Q1346.35 79.7959 1342 82.0644 Q1337.65 84.2866 1331.35 84.2866 Q1323.39 84.2866 1318.67 79.8422 Q1313.99 75.3514 1313.99 67.8515 Q1313.99 59.1015 1319.83 54.6571 Q1325.71 50.2127 1337.33 50.2127 L1349.27 50.2127 L1349.27 49.3794 Q1349.27 43.4998 1345.38 40.3053 Q1341.54 37.0646 1334.55 37.0646 Q1330.1 37.0646 1325.89 38.1294 Q1321.68 39.1942 1317.79 41.3239 L1317.79 33.4535 Q1322.46 31.648 1326.86 30.7684 Q1331.26 29.8424 1335.43 29.8424 Q1346.68 29.8424 1352.23 35.6757 Q1357.79 41.509 1357.79 53.3608 Z\" fill=\"#000000\" fill-rule=\"nonzero\" fill-opacity=\"1\" /><path clip-path=\"url(#clip310)\" d=\"M1383.76 16.3703 L1383.76 31.0924 L1401.31 31.0924 L1401.31 37.7128 L1383.76 37.7128 L1383.76 65.8608 Q1383.76 72.2033 1385.47 74.0089 Q1387.23 75.8144 1392.56 75.8144 L1401.31 75.8144 L1401.31 82.944 L1392.56 82.944 Q1382.7 82.944 1378.95 79.2866 Q1375.2 75.5829 1375.2 65.8608 L1375.2 37.7128 L1368.95 37.7128 L1368.95 31.0924 L1375.2 31.0924 L1375.2 16.3703 L1383.76 16.3703 Z\" fill=\"#000000\" fill-rule=\"nonzero\" fill-opacity=\"1\" /><path clip-path=\"url(#clip310)\" d=\"M1412.51 31.0924 L1421.03 31.0924 L1421.03 82.944 L1412.51 82.944 L1412.51 31.0924 M1412.51 10.9073 L1421.03 10.9073 L1421.03 21.6943 L1412.51 21.6943 L1412.51 10.9073 Z\" fill=\"#000000\" fill-rule=\"nonzero\" fill-opacity=\"1\" /><path clip-path=\"url(#clip310)\" d=\"M1458.95 37.0646 Q1452.09 37.0646 1448.11 42.435 Q1444.13 47.759 1444.13 57.0645 Q1444.13 66.37 1448.07 71.7404 Q1452.05 77.0644 1458.95 77.0644 Q1465.75 77.0644 1469.73 71.6941 Q1473.71 66.3237 1473.71 57.0645 Q1473.71 47.8516 1469.73 42.4813 Q1465.75 37.0646 1458.95 37.0646 M1458.95 29.8424 Q1470.06 29.8424 1476.4 37.0646 Q1482.74 44.2868 1482.74 57.0645 Q1482.74 69.7959 1476.4 77.0644 Q1470.06 84.2866 1458.95 84.2866 Q1447.79 84.2866 1441.45 77.0644 Q1435.15 69.7959 1435.15 57.0645 Q1435.15 44.2868 1441.45 37.0646 Q1447.79 29.8424 1458.95 29.8424 Z\" fill=\"#000000\" fill-rule=\"nonzero\" fill-opacity=\"1\" /><path clip-path=\"url(#clip310)\" d=\"M1539.96 51.6479 L1539.96 82.944 L1531.44 82.944 L1531.44 51.9256 Q1531.44 44.5646 1528.57 40.9072 Q1525.7 37.2498 1519.96 37.2498 Q1513.07 37.2498 1509.08 41.6479 Q1505.1 46.046 1505.1 53.6386 L1505.1 82.944 L1496.54 82.944 L1496.54 31.0924 L1505.1 31.0924 L1505.1 39.1479 Q1508.16 34.472 1512.28 32.1572 Q1516.45 29.8424 1521.86 29.8424 Q1530.8 29.8424 1535.38 35.398 Q1539.96 40.9072 1539.96 51.6479 Z\" fill=\"#000000\" fill-rule=\"nonzero\" fill-opacity=\"1\" /><polyline clip-path=\"url(#clip310)\" style=\"stroke:#000000; stroke-linecap:round; stroke-linejoin:round; stroke-width:4; stroke-opacity:1; fill:none\" points=\"2196.04,1423.18 2196.04,127.244 \"/>\n",
              "<polyline clip-path=\"url(#clip310)\" style=\"stroke:#000000; stroke-linecap:round; stroke-linejoin:round; stroke-width:4; stroke-opacity:1; fill:none\" points=\"2196.04,1423.18 2177.14,1423.18 \"/>\n",
              "<polyline clip-path=\"url(#clip310)\" style=\"stroke:#000000; stroke-linecap:round; stroke-linejoin:round; stroke-width:4; stroke-opacity:1; fill:none\" points=\"2196.04,1042.02 2177.14,1042.02 \"/>\n",
              "<polyline clip-path=\"url(#clip310)\" style=\"stroke:#000000; stroke-linecap:round; stroke-linejoin:round; stroke-width:4; stroke-opacity:1; fill:none\" points=\"2196.04,660.865 2177.14,660.865 \"/>\n",
              "<polyline clip-path=\"url(#clip310)\" style=\"stroke:#000000; stroke-linecap:round; stroke-linejoin:round; stroke-width:4; stroke-opacity:1; fill:none\" points=\"2196.04,279.707 2177.14,279.707 \"/>\n",
              "<path clip-path=\"url(#clip310)\" d=\"M2243.98 1408.98 Q2240.37 1408.98 2238.54 1412.54 Q2236.74 1416.08 2236.74 1423.21 Q2236.74 1430.32 2238.54 1433.89 Q2240.37 1437.43 2243.98 1437.43 Q2247.62 1437.43 2249.42 1433.89 Q2251.25 1430.32 2251.25 1423.21 Q2251.25 1416.08 2249.42 1412.54 Q2247.62 1408.98 2243.98 1408.98 M2243.98 1405.27 Q2249.79 1405.27 2252.85 1409.88 Q2255.93 1414.46 2255.93 1423.21 Q2255.93 1431.94 2252.85 1436.55 Q2249.79 1441.13 2243.98 1441.13 Q2238.17 1441.13 2235.09 1436.55 Q2232.04 1431.94 2232.04 1423.21 Q2232.04 1414.46 2235.09 1409.88 Q2238.17 1405.27 2243.98 1405.27 Z\" fill=\"#000000\" fill-rule=\"nonzero\" fill-opacity=\"1\" /><path clip-path=\"url(#clip310)\" d=\"M2232.71 1055.37 L2240.35 1055.37 L2240.35 1029 L2232.04 1030.67 L2232.04 1026.41 L2240.3 1024.74 L2244.98 1024.74 L2244.98 1055.37 L2252.62 1055.37 L2252.62 1059.3 L2232.71 1059.3 L2232.71 1055.37 Z\" fill=\"#000000\" fill-rule=\"nonzero\" fill-opacity=\"1\" /><path clip-path=\"url(#clip310)\" d=\"M2272.06 1027.82 Q2268.45 1027.82 2266.62 1031.39 Q2264.81 1034.93 2264.81 1042.06 Q2264.81 1049.16 2266.62 1052.73 Q2268.45 1056.27 2272.06 1056.27 Q2275.69 1056.27 2277.5 1052.73 Q2279.33 1049.16 2279.33 1042.06 Q2279.33 1034.93 2277.5 1031.39 Q2275.69 1027.82 2272.06 1027.82 M2272.06 1024.12 Q2277.87 1024.12 2280.93 1028.72 Q2284 1033.31 2284 1042.06 Q2284 1050.78 2280.93 1055.39 Q2277.87 1059.97 2272.06 1059.97 Q2266.25 1059.97 2263.17 1055.39 Q2260.11 1050.78 2260.11 1042.06 Q2260.11 1033.31 2263.17 1028.72 Q2266.25 1024.12 2272.06 1024.12 Z\" fill=\"#000000\" fill-rule=\"nonzero\" fill-opacity=\"1\" /><path clip-path=\"url(#clip310)\" d=\"M2237.66 674.21 L2253.98 674.21 L2253.98 678.145 L2232.04 678.145 L2232.04 674.21 Q2234.7 671.455 2239.28 666.825 Q2243.89 662.173 2245.07 660.83 Q2247.31 658.307 2248.19 656.571 Q2249.1 654.811 2249.1 653.122 Q2249.1 650.367 2247.15 648.631 Q2245.23 646.895 2242.13 646.895 Q2239.93 646.895 2237.48 647.659 Q2235.05 648.423 2232.27 649.974 L2232.27 645.251 Q2235.09 644.117 2237.55 643.538 Q2240 642.96 2242.04 642.96 Q2247.41 642.96 2250.6 645.645 Q2253.8 648.33 2253.8 652.821 Q2253.8 654.95 2252.99 656.872 Q2252.2 658.77 2250.09 661.362 Q2249.51 662.034 2246.41 665.251 Q2243.31 668.446 2237.66 674.21 Z\" fill=\"#000000\" fill-rule=\"nonzero\" fill-opacity=\"1\" /><path clip-path=\"url(#clip310)\" d=\"M2273.8 646.663 Q2270.18 646.663 2268.36 650.228 Q2266.55 653.77 2266.55 660.899 Q2266.55 668.006 2268.36 671.571 Q2270.18 675.112 2273.8 675.112 Q2277.43 675.112 2279.24 671.571 Q2281.06 668.006 2281.06 660.899 Q2281.06 653.77 2279.24 650.228 Q2277.43 646.663 2273.8 646.663 M2273.8 642.96 Q2279.61 642.96 2282.66 647.566 Q2285.74 652.149 2285.74 660.899 Q2285.74 669.626 2282.66 674.233 Q2279.61 678.816 2273.8 678.816 Q2267.99 678.816 2264.91 674.233 Q2261.85 669.626 2261.85 660.899 Q2261.85 652.149 2264.91 647.566 Q2267.99 642.96 2273.8 642.96 Z\" fill=\"#000000\" fill-rule=\"nonzero\" fill-opacity=\"1\" /><path clip-path=\"url(#clip310)\" d=\"M2247.66 278.353 Q2251.02 279.071 2252.89 281.339 Q2254.79 283.608 2254.79 286.941 Q2254.79 292.057 2251.27 294.858 Q2247.75 297.658 2241.27 297.658 Q2239.1 297.658 2236.78 297.219 Q2234.49 296.802 2232.04 295.945 L2232.04 291.432 Q2233.98 292.566 2236.3 293.145 Q2238.61 293.723 2241.13 293.723 Q2245.53 293.723 2247.82 291.987 Q2250.14 290.251 2250.14 286.941 Q2250.14 283.885 2247.99 282.172 Q2245.86 280.436 2242.04 280.436 L2238.01 280.436 L2238.01 276.594 L2242.22 276.594 Q2245.67 276.594 2247.5 275.228 Q2249.33 273.839 2249.33 271.247 Q2249.33 268.584 2247.43 267.172 Q2245.55 265.737 2242.04 265.737 Q2240.12 265.737 2237.92 266.154 Q2235.72 266.571 2233.08 267.45 L2233.08 263.284 Q2235.74 262.543 2238.05 262.172 Q2240.39 261.802 2242.45 261.802 Q2247.78 261.802 2250.88 264.233 Q2253.98 266.64 2253.98 270.76 Q2253.98 273.631 2252.34 275.621 Q2250.69 277.589 2247.66 278.353 Z\" fill=\"#000000\" fill-rule=\"nonzero\" fill-opacity=\"1\" /><path clip-path=\"url(#clip310)\" d=\"M2273.66 265.506 Q2270.05 265.506 2268.22 269.071 Q2266.41 272.612 2266.41 279.742 Q2266.41 286.848 2268.22 290.413 Q2270.05 293.955 2273.66 293.955 Q2277.29 293.955 2279.1 290.413 Q2280.93 286.848 2280.93 279.742 Q2280.93 272.612 2279.1 269.071 Q2277.29 265.506 2273.66 265.506 M2273.66 261.802 Q2279.47 261.802 2282.52 266.409 Q2285.6 270.992 2285.6 279.742 Q2285.6 288.469 2282.52 293.075 Q2279.47 297.658 2273.66 297.658 Q2267.85 297.658 2264.77 293.075 Q2261.71 288.469 2261.71 279.742 Q2261.71 270.992 2264.77 266.409 Q2267.85 261.802 2273.66 261.802 Z\" fill=\"#000000\" fill-rule=\"nonzero\" fill-opacity=\"1\" /><path clip-path=\"url(#clip310)\" d=\"M2331.24 925.65 L2331.24 919.22 L2378.76 919.22 L2378.76 925.65 L2331.24 925.65 Z\" fill=\"#000000\" fill-rule=\"nonzero\" fill-opacity=\"1\" /><path clip-path=\"url(#clip310)\" d=\"M2332.99 900.887 L2343.12 900.887 L2343.12 888.824 L2347.67 888.824 L2347.67 900.887 L2367.02 900.887 Q2371.38 900.887 2372.62 899.709 Q2373.86 898.5 2373.86 894.84 L2373.86 888.824 L2378.76 888.824 L2378.76 894.84 Q2378.76 901.619 2376.25 904.197 Q2373.7 906.775 2367.02 906.775 L2347.67 906.775 L2347.67 911.072 L2343.12 911.072 L2343.12 906.775 L2332.99 906.775 L2332.99 900.887 Z\" fill=\"#000000\" fill-rule=\"nonzero\" fill-opacity=\"1\" /><path clip-path=\"url(#clip310)\" d=\"M2359.48 850.63 L2362.34 850.63 L2362.34 877.557 Q2368.39 877.175 2371.57 873.928 Q2374.72 870.65 2374.72 864.825 Q2374.72 861.451 2373.89 858.3 Q2373.07 855.118 2371.41 851.998 L2376.95 851.998 Q2378.29 855.149 2378.99 858.459 Q2379.69 861.77 2379.69 865.175 Q2379.69 873.705 2374.72 878.702 Q2369.76 883.668 2361.29 883.668 Q2352.54 883.668 2347.41 878.957 Q2342.26 874.215 2342.26 866.194 Q2342.26 859.001 2346.9 854.831 Q2351.52 850.63 2359.48 850.63 M2357.76 856.486 Q2352.95 856.55 2350.09 859.192 Q2347.22 861.801 2347.22 866.13 Q2347.22 871.032 2349.99 873.992 Q2352.76 876.92 2357.79 877.366 L2357.76 856.486 Z\" fill=\"#000000\" fill-rule=\"nonzero\" fill-opacity=\"1\" /><path clip-path=\"url(#clip310)\" d=\"M2348.59 820.361 Q2348.02 821.347 2347.76 822.525 Q2347.48 823.671 2347.48 825.071 Q2347.48 830.037 2350.72 832.71 Q2353.94 835.352 2359.99 835.352 L2378.76 835.352 L2378.76 841.24 L2343.12 841.24 L2343.12 835.352 L2348.65 835.352 Q2345.41 833.506 2343.85 830.546 Q2342.26 827.586 2342.26 823.353 Q2342.26 822.748 2342.35 822.016 Q2342.42 821.284 2342.57 820.393 L2348.59 820.361 Z\" fill=\"#000000\" fill-rule=\"nonzero\" fill-opacity=\"1\" /><path clip-path=\"url(#clip310)\" d=\"M2360.84 798.017 Q2360.84 805.115 2362.47 807.852 Q2364.09 810.589 2368.01 810.589 Q2371.12 810.589 2372.97 808.552 Q2374.79 806.484 2374.79 802.951 Q2374.79 798.081 2371.35 795.153 Q2367.88 792.192 2362.15 792.192 L2360.84 792.192 L2360.84 798.017 M2358.43 786.336 L2378.76 786.336 L2378.76 792.192 L2373.35 792.192 Q2376.6 794.198 2378.16 797.19 Q2379.69 800.181 2379.69 804.51 Q2379.69 809.985 2376.63 813.231 Q2373.54 816.446 2368.39 816.446 Q2362.37 816.446 2359.32 812.435 Q2356.26 808.393 2356.26 800.404 L2356.26 792.192 L2355.69 792.192 Q2351.65 792.192 2349.45 794.866 Q2347.22 797.508 2347.22 802.314 Q2347.22 805.37 2347.95 808.266 Q2348.69 811.162 2350.15 813.836 L2344.74 813.836 Q2343.5 810.621 2342.89 807.598 Q2342.26 804.574 2342.26 801.709 Q2342.26 793.975 2346.27 790.155 Q2350.28 786.336 2358.43 786.336 Z\" fill=\"#000000\" fill-rule=\"nonzero\" fill-opacity=\"1\" /><path clip-path=\"url(#clip310)\" d=\"M2332.99 768.48 L2343.12 768.48 L2343.12 756.417 L2347.67 756.417 L2347.67 768.48 L2367.02 768.48 Q2371.38 768.48 2372.62 767.303 Q2373.86 766.093 2373.86 762.433 L2373.86 756.417 L2378.76 756.417 L2378.76 762.433 Q2378.76 769.212 2376.25 771.79 Q2373.7 774.369 2367.02 774.369 L2347.67 774.369 L2347.67 778.665 L2343.12 778.665 L2343.12 774.369 L2332.99 774.369 L2332.99 768.48 Z\" fill=\"#000000\" fill-rule=\"nonzero\" fill-opacity=\"1\" /><path clip-path=\"url(#clip310)\" d=\"M2343.12 748.715 L2343.12 742.858 L2378.76 742.858 L2378.76 748.715 L2343.12 748.715 M2329.24 748.715 L2329.24 742.858 L2336.65 742.858 L2336.65 748.715 L2329.24 748.715 Z\" fill=\"#000000\" fill-rule=\"nonzero\" fill-opacity=\"1\" /><path clip-path=\"url(#clip310)\" d=\"M2347.22 716.791 Q2347.22 721.501 2350.91 724.239 Q2354.57 726.976 2360.97 726.976 Q2367.37 726.976 2371.06 724.27 Q2374.72 721.533 2374.72 716.791 Q2374.72 712.112 2371.03 709.375 Q2367.34 706.637 2360.97 706.637 Q2354.64 706.637 2350.95 709.375 Q2347.22 712.112 2347.22 716.791 M2342.26 716.791 Q2342.26 709.152 2347.22 704.791 Q2352.19 700.431 2360.97 700.431 Q2369.72 700.431 2374.72 704.791 Q2379.69 709.152 2379.69 716.791 Q2379.69 724.461 2374.72 728.822 Q2369.72 733.151 2360.97 733.151 Q2352.19 733.151 2347.22 728.822 Q2342.26 724.461 2342.26 716.791 Z\" fill=\"#000000\" fill-rule=\"nonzero\" fill-opacity=\"1\" /><path clip-path=\"url(#clip310)\" d=\"M2357.25 661.091 L2378.76 661.091 L2378.76 666.947 L2357.44 666.947 Q2352.38 666.947 2349.86 668.921 Q2347.35 670.894 2347.35 674.841 Q2347.35 679.583 2350.37 682.32 Q2353.4 685.058 2358.62 685.058 L2378.76 685.058 L2378.76 690.946 L2343.12 690.946 L2343.12 685.058 L2348.65 685.058 Q2345.44 682.957 2343.85 680.124 Q2342.26 677.26 2342.26 673.536 Q2342.26 667.393 2346.08 664.242 Q2349.86 661.091 2357.25 661.091 Z\" fill=\"#000000\" fill-rule=\"nonzero\" fill-opacity=\"1\" /><path clip-path=\"url(#clip310)\" d=\"M2344.17 626.684 L2349.7 626.684 Q2348.43 629.167 2347.79 631.84 Q2347.16 634.514 2347.16 637.379 Q2347.16 641.739 2348.49 643.935 Q2349.83 646.1 2352.51 646.1 Q2354.54 646.1 2355.72 644.54 Q2356.87 642.98 2357.92 638.27 L2358.36 636.265 Q2359.7 630.026 2362.15 627.416 Q2364.57 624.774 2368.93 624.774 Q2373.89 624.774 2376.79 628.721 Q2379.69 632.636 2379.69 639.511 Q2379.69 642.376 2379.11 645.495 Q2378.57 648.582 2377.46 652.02 L2371.41 652.02 Q2373.1 648.773 2373.96 645.622 Q2374.79 642.471 2374.79 639.384 Q2374.79 635.246 2373.38 633.018 Q2371.95 630.79 2369.37 630.79 Q2366.99 630.79 2365.71 632.413 Q2364.44 634.005 2363.26 639.447 L2362.79 641.484 Q2361.64 646.927 2359.28 649.346 Q2356.9 651.765 2352.76 651.765 Q2347.73 651.765 2344.99 648.2 Q2342.26 644.635 2342.26 638.079 Q2342.26 634.832 2342.73 631.968 Q2343.21 629.103 2344.17 626.684 Z\" fill=\"#000000\" fill-rule=\"nonzero\" fill-opacity=\"1\" /><path clip-path=\"url(#clip312)\" d=\"M275.796 644.865 L259.796 660.865 L275.796 676.865 L291.796 660.865 L275.796 644.865 Z\" fill=\"#008000\" fill-rule=\"evenodd\" fill-opacity=\"1\" stroke=\"#000000\" stroke-opacity=\"1\" stroke-width=\"3.2\"/>\n",
              "<path clip-path=\"url(#clip312)\" d=\"M373.917 644.865 L357.917 660.865 L373.917 676.865 L389.917 660.865 L373.917 644.865 Z\" fill=\"#008000\" fill-rule=\"evenodd\" fill-opacity=\"1\" stroke=\"#000000\" stroke-opacity=\"1\" stroke-width=\"3.2\"/>\n",
              "<path clip-path=\"url(#clip312)\" d=\"M472.039 454.286 L456.039 470.286 L472.039 486.286 L488.039 470.286 L472.039 454.286 Z\" fill=\"#008000\" fill-rule=\"evenodd\" fill-opacity=\"1\" stroke=\"#000000\" stroke-opacity=\"1\" stroke-width=\"3.2\"/>\n",
              "<path clip-path=\"url(#clip312)\" d=\"M570.161 568.633 L554.161 584.633 L570.161 600.633 L586.161 584.633 L570.161 568.633 Z\" fill=\"#008000\" fill-rule=\"evenodd\" fill-opacity=\"1\" stroke=\"#000000\" stroke-opacity=\"1\" stroke-width=\"3.2\"/>\n",
              "<path clip-path=\"url(#clip312)\" d=\"M668.282 721.096 L652.282 737.096 L668.282 753.096 L684.282 737.096 L668.282 721.096 Z\" fill=\"#008000\" fill-rule=\"evenodd\" fill-opacity=\"1\" stroke=\"#000000\" stroke-opacity=\"1\" stroke-width=\"3.2\"/>\n",
              "<path clip-path=\"url(#clip312)\" d=\"M766.404 759.212 L750.404 775.212 L766.404 791.212 L782.404 775.212 L766.404 759.212 Z\" fill=\"#008000\" fill-rule=\"evenodd\" fill-opacity=\"1\" stroke=\"#000000\" stroke-opacity=\"1\" stroke-width=\"3.2\"/>\n",
              "<path clip-path=\"url(#clip312)\" d=\"M864.526 606.749 L848.526 622.749 L864.526 638.749 L880.526 622.749 L864.526 606.749 Z\" fill=\"#008000\" fill-rule=\"evenodd\" fill-opacity=\"1\" stroke=\"#000000\" stroke-opacity=\"1\" stroke-width=\"3.2\"/>\n",
              "<path clip-path=\"url(#clip312)\" d=\"M962.647 378.054 L946.647 394.054 L962.647 410.054 L978.647 394.054 L962.647 378.054 Z\" fill=\"#008000\" fill-rule=\"evenodd\" fill-opacity=\"1\" stroke=\"#000000\" stroke-opacity=\"1\" stroke-width=\"3.2\"/>\n",
              "<path clip-path=\"url(#clip312)\" d=\"M1060.77 644.865 L1044.77 660.865 L1060.77 676.865 L1076.77 660.865 L1060.77 644.865 Z\" fill=\"#008000\" fill-rule=\"evenodd\" fill-opacity=\"1\" stroke=\"#000000\" stroke-opacity=\"1\" stroke-width=\"3.2\"/>\n",
              "<path clip-path=\"url(#clip312)\" d=\"M1158.89 530.517 L1142.89 546.517 L1158.89 562.517 L1174.89 546.517 L1158.89 530.517 Z\" fill=\"#008000\" fill-rule=\"evenodd\" fill-opacity=\"1\" stroke=\"#000000\" stroke-opacity=\"1\" stroke-width=\"3.2\"/>\n",
              "<path clip-path=\"url(#clip312)\" d=\"M1257.01 149.36 L1241.01 165.36 L1257.01 181.36 L1273.01 165.36 L1257.01 149.36 Z\" fill=\"#008000\" fill-rule=\"evenodd\" fill-opacity=\"1\" stroke=\"#000000\" stroke-opacity=\"1\" stroke-width=\"3.2\"/>\n",
              "<path clip-path=\"url(#clip312)\" d=\"M1355.13 339.939 L1339.13 355.939 L1355.13 371.939 L1371.13 355.939 L1355.13 339.939 Z\" fill=\"#008000\" fill-rule=\"evenodd\" fill-opacity=\"1\" stroke=\"#000000\" stroke-opacity=\"1\" stroke-width=\"3.2\"/>\n",
              "<path clip-path=\"url(#clip312)\" d=\"M1453.26 339.939 L1437.26 355.939 L1453.26 371.939 L1469.26 355.939 L1453.26 339.939 Z\" fill=\"#008000\" fill-rule=\"evenodd\" fill-opacity=\"1\" stroke=\"#000000\" stroke-opacity=\"1\" stroke-width=\"3.2\"/>\n",
              "<path clip-path=\"url(#clip312)\" d=\"M1551.38 187.476 L1535.38 203.476 L1551.38 219.476 L1567.38 203.476 L1551.38 187.476 Z\" fill=\"#008000\" fill-rule=\"evenodd\" fill-opacity=\"1\" stroke=\"#000000\" stroke-opacity=\"1\" stroke-width=\"3.2\"/>\n",
              "<path clip-path=\"url(#clip312)\" d=\"M1649.5 530.517 L1633.5 546.517 L1649.5 562.517 L1665.5 546.517 L1649.5 530.517 Z\" fill=\"#008000\" fill-rule=\"evenodd\" fill-opacity=\"1\" stroke=\"#000000\" stroke-opacity=\"1\" stroke-width=\"3.2\"/>\n",
              "<path clip-path=\"url(#clip312)\" d=\"M1747.62 606.749 L1731.62 622.749 L1747.62 638.749 L1763.62 622.749 L1747.62 606.749 Z\" fill=\"#008000\" fill-rule=\"evenodd\" fill-opacity=\"1\" stroke=\"#000000\" stroke-opacity=\"1\" stroke-width=\"3.2\"/>\n",
              "<path clip-path=\"url(#clip312)\" d=\"M1845.74 149.36 L1829.74 165.36 L1845.74 181.36 L1861.74 165.36 L1845.74 149.36 Z\" fill=\"#008000\" fill-rule=\"evenodd\" fill-opacity=\"1\" stroke=\"#000000\" stroke-opacity=\"1\" stroke-width=\"3.2\"/>\n",
              "<path clip-path=\"url(#clip312)\" d=\"M1943.86 454.286 L1927.86 470.286 L1943.86 486.286 L1959.86 470.286 L1943.86 454.286 Z\" fill=\"#008000\" fill-rule=\"evenodd\" fill-opacity=\"1\" stroke=\"#000000\" stroke-opacity=\"1\" stroke-width=\"3.2\"/>\n",
              "<path clip-path=\"url(#clip312)\" d=\"M2041.99 492.402 L2025.99 508.402 L2041.99 524.402 L2057.99 508.402 L2041.99 492.402 Z\" fill=\"#008000\" fill-rule=\"evenodd\" fill-opacity=\"1\" stroke=\"#000000\" stroke-opacity=\"1\" stroke-width=\"3.2\"/>\n",
              "<path clip-path=\"url(#clip312)\" d=\"M2140.11 530.517 L2124.11 546.517 L2140.11 562.517 L2156.11 546.517 L2140.11 530.517 Z\" fill=\"#008000\" fill-rule=\"evenodd\" fill-opacity=\"1\" stroke=\"#000000\" stroke-opacity=\"1\" stroke-width=\"3.2\"/>\n",
              "<path clip-path=\"url(#clip310)\" d=\"M1723.95 1215.83 L2140.39 1215.83 L2140.39 1112.15 L1723.95 1112.15  Z\" fill=\"#ffffff\" fill-rule=\"evenodd\" fill-opacity=\"1\"/>\n",
              "<polyline clip-path=\"url(#clip310)\" style=\"stroke:#000000; stroke-linecap:round; stroke-linejoin:round; stroke-width:4; stroke-opacity:1; fill:none\" points=\"1723.95,1215.83 2140.39,1215.83 2140.39,1112.15 1723.95,1112.15 1723.95,1215.83 \"/>\n",
              "<path clip-path=\"url(#clip310)\" d=\"M1811.78 1141.24 L1789.03 1163.99 L1811.78 1186.75 L1834.54 1163.99 L1811.78 1141.24 Z\" fill=\"#008000\" fill-rule=\"evenodd\" fill-opacity=\"1\" stroke=\"#000000\" stroke-opacity=\"1\" stroke-width=\"4.55111\"/>\n",
              "<path clip-path=\"url(#clip310)\" d=\"M1899.61 1146.71 L1904.29 1146.71 L1904.29 1181.27 L1899.61 1181.27 L1899.61 1146.71 Z\" fill=\"#000000\" fill-rule=\"nonzero\" fill-opacity=\"1\" /><path clip-path=\"url(#clip310)\" d=\"M1917.62 1147.99 L1917.62 1155.35 L1926.39 1155.35 L1926.39 1158.66 L1917.62 1158.66 L1917.62 1172.73 Q1917.62 1175.9 1918.48 1176.81 Q1919.36 1177.71 1922.02 1177.71 L1926.39 1177.71 L1926.39 1181.27 L1922.02 1181.27 Q1917.09 1181.27 1915.21 1179.44 Q1913.34 1177.59 1913.34 1172.73 L1913.34 1158.66 L1910.21 1158.66 L1910.21 1155.35 L1913.34 1155.35 L1913.34 1147.99 L1917.62 1147.99 Z\" fill=\"#000000\" fill-rule=\"nonzero\" fill-opacity=\"1\" /><path clip-path=\"url(#clip310)\" d=\"M1954.17 1167.24 L1954.17 1169.33 L1934.59 1169.33 Q1934.87 1173.73 1937.23 1176.04 Q1939.61 1178.33 1943.85 1178.33 Q1946.3 1178.33 1948.59 1177.73 Q1950.91 1177.13 1953.18 1175.93 L1953.18 1179.95 Q1950.88 1180.93 1948.48 1181.43 Q1946.07 1181.94 1943.59 1181.94 Q1937.39 1181.94 1933.75 1178.33 Q1930.14 1174.72 1930.14 1168.56 Q1930.14 1162.2 1933.57 1158.47 Q1937.02 1154.72 1942.85 1154.72 Q1948.08 1154.72 1951.12 1158.1 Q1954.17 1161.46 1954.17 1167.24 M1949.91 1165.99 Q1949.87 1162.5 1947.94 1160.42 Q1946.05 1158.33 1942.9 1158.33 Q1939.33 1158.33 1937.18 1160.35 Q1935.05 1162.36 1934.73 1166.02 L1949.91 1165.99 Z\" fill=\"#000000\" fill-rule=\"nonzero\" fill-opacity=\"1\" /><path clip-path=\"url(#clip310)\" d=\"M1976.18 1159.33 Q1975.47 1158.91 1974.61 1158.73 Q1973.78 1158.52 1972.76 1158.52 Q1969.15 1158.52 1967.2 1160.88 Q1965.28 1163.22 1965.28 1167.62 L1965.28 1181.27 L1961 1181.27 L1961 1155.35 L1965.28 1155.35 L1965.28 1159.37 Q1966.62 1157.01 1968.78 1155.88 Q1970.93 1154.72 1974.01 1154.72 Q1974.45 1154.72 1974.98 1154.79 Q1975.51 1154.84 1976.16 1154.95 L1976.18 1159.33 Z\" fill=\"#000000\" fill-rule=\"nonzero\" fill-opacity=\"1\" /><path clip-path=\"url(#clip310)\" d=\"M1992.43 1168.24 Q1987.27 1168.24 1985.28 1169.42 Q1983.29 1170.6 1983.29 1173.45 Q1983.29 1175.72 1984.77 1177.06 Q1986.28 1178.38 1988.85 1178.38 Q1992.39 1178.38 1994.52 1175.88 Q1996.67 1173.36 1996.67 1169.19 L1996.67 1168.24 L1992.43 1168.24 M2000.93 1166.48 L2000.93 1181.27 L1996.67 1181.27 L1996.67 1177.34 Q1995.21 1179.7 1993.04 1180.83 Q1990.86 1181.94 1987.71 1181.94 Q1983.73 1181.94 1981.37 1179.72 Q1979.03 1177.48 1979.03 1173.73 Q1979.03 1169.35 1981.95 1167.13 Q1984.89 1164.91 1990.7 1164.91 L1996.67 1164.91 L1996.67 1164.49 Q1996.67 1161.55 1994.73 1159.95 Q1992.8 1158.33 1989.31 1158.33 Q1987.09 1158.33 1984.98 1158.87 Q1982.87 1159.4 1980.93 1160.46 L1980.93 1156.53 Q1983.27 1155.62 1985.47 1155.18 Q1987.67 1154.72 1989.75 1154.72 Q1995.37 1154.72 1998.15 1157.64 Q2000.93 1160.56 2000.93 1166.48 Z\" fill=\"#000000\" fill-rule=\"nonzero\" fill-opacity=\"1\" /><path clip-path=\"url(#clip310)\" d=\"M2013.92 1147.99 L2013.92 1155.35 L2022.69 1155.35 L2022.69 1158.66 L2013.92 1158.66 L2013.92 1172.73 Q2013.92 1175.9 2014.77 1176.81 Q2015.65 1177.71 2018.31 1177.71 L2022.69 1177.71 L2022.69 1181.27 L2018.31 1181.27 Q2013.38 1181.27 2011.51 1179.44 Q2009.63 1177.59 2009.63 1172.73 L2009.63 1158.66 L2006.51 1158.66 L2006.51 1155.35 L2009.63 1155.35 L2009.63 1147.99 L2013.92 1147.99 Z\" fill=\"#000000\" fill-rule=\"nonzero\" fill-opacity=\"1\" /><path clip-path=\"url(#clip310)\" d=\"M2028.29 1155.35 L2032.55 1155.35 L2032.55 1181.27 L2028.29 1181.27 L2028.29 1155.35 M2028.29 1145.25 L2032.55 1145.25 L2032.55 1150.65 L2028.29 1150.65 L2028.29 1145.25 Z\" fill=\"#000000\" fill-rule=\"nonzero\" fill-opacity=\"1\" /><path clip-path=\"url(#clip310)\" d=\"M2051.51 1158.33 Q2048.08 1158.33 2046.09 1161.02 Q2044.1 1163.68 2044.1 1168.33 Q2044.1 1172.99 2046.07 1175.67 Q2048.06 1178.33 2051.51 1178.33 Q2054.91 1178.33 2056.9 1175.65 Q2058.89 1172.96 2058.89 1168.33 Q2058.89 1163.73 2056.9 1161.04 Q2054.91 1158.33 2051.51 1158.33 M2051.51 1154.72 Q2057.06 1154.72 2060.24 1158.33 Q2063.41 1161.94 2063.41 1168.33 Q2063.41 1174.7 2060.24 1178.33 Q2057.06 1181.94 2051.51 1181.94 Q2045.93 1181.94 2042.76 1178.33 Q2039.61 1174.7 2039.61 1168.33 Q2039.61 1161.94 2042.76 1158.33 Q2045.93 1154.72 2051.51 1154.72 Z\" fill=\"#000000\" fill-rule=\"nonzero\" fill-opacity=\"1\" /><path clip-path=\"url(#clip310)\" d=\"M2092.02 1165.62 L2092.02 1181.27 L2087.76 1181.27 L2087.76 1165.76 Q2087.76 1162.08 2086.32 1160.25 Q2084.89 1158.43 2082.02 1158.43 Q2078.57 1158.43 2076.58 1160.62 Q2074.59 1162.82 2074.59 1166.62 L2074.59 1181.27 L2070.3 1181.27 L2070.3 1155.35 L2074.59 1155.35 L2074.59 1159.37 Q2076.11 1157.04 2078.17 1155.88 Q2080.26 1154.72 2082.97 1154.72 Q2087.43 1154.72 2089.73 1157.5 Q2092.02 1160.25 2092.02 1165.62 Z\" fill=\"#000000\" fill-rule=\"nonzero\" fill-opacity=\"1\" /><path clip-path=\"url(#clip310)\" d=\"M2117.04 1156.11 L2117.04 1160.14 Q2115.23 1159.21 2113.29 1158.75 Q2111.35 1158.29 2109.26 1158.29 Q2106.09 1158.29 2104.49 1159.26 Q2102.92 1160.23 2102.92 1162.18 Q2102.92 1163.66 2104.05 1164.51 Q2105.19 1165.35 2108.61 1166.11 L2110.07 1166.43 Q2114.61 1167.41 2116.51 1169.19 Q2118.43 1170.95 2118.43 1174.12 Q2118.43 1177.73 2115.56 1179.84 Q2112.71 1181.94 2107.71 1181.94 Q2105.63 1181.94 2103.36 1181.53 Q2101.11 1181.13 2098.61 1180.32 L2098.61 1175.93 Q2100.98 1177.15 2103.27 1177.78 Q2105.56 1178.38 2107.8 1178.38 Q2110.81 1178.38 2112.43 1177.36 Q2114.05 1176.32 2114.05 1174.44 Q2114.05 1172.71 2112.87 1171.78 Q2111.72 1170.86 2107.76 1170 L2106.28 1169.65 Q2102.32 1168.82 2100.56 1167.11 Q2098.8 1165.37 2098.8 1162.36 Q2098.8 1158.7 2101.39 1156.71 Q2103.98 1154.72 2108.75 1154.72 Q2111.11 1154.72 2113.2 1155.07 Q2115.28 1155.42 2117.04 1156.11 Z\" fill=\"#000000\" fill-rule=\"nonzero\" fill-opacity=\"1\" /></svg>\n"
            ],
            "text/html": [
              "<?xml version=\"1.0\" encoding=\"utf-8\"?>\n",
              "<svg xmlns=\"http://www.w3.org/2000/svg\" xmlns:xlink=\"http://www.w3.org/1999/xlink\" width=\"600\" height=\"400\" viewBox=\"0 0 2400 1600\">\n",
              "<defs>\n",
              "  <clipPath id=\"clip360\">\n",
              "    <rect x=\"0\" y=\"0\" width=\"2400\" height=\"1600\"/>\n",
              "  </clipPath>\n",
              "</defs>\n",
              "<path clip-path=\"url(#clip360)\" d=\"M0 1600 L2400 1600 L2400 0 L0 0  Z\" fill=\"#ffffff\" fill-rule=\"evenodd\" fill-opacity=\"1\"/>\n",
              "<defs>\n",
              "  <clipPath id=\"clip361\">\n",
              "    <rect x=\"480\" y=\"0\" width=\"1681\" height=\"1600\"/>\n",
              "  </clipPath>\n",
              "</defs>\n",
              "<path clip-path=\"url(#clip360)\" d=\"M219.866 1423.18 L2196.04 1423.18 L2196.04 127.244 L219.866 127.244  Z\" fill=\"#ffffff\" fill-rule=\"evenodd\" fill-opacity=\"1\"/>\n",
              "<defs>\n",
              "  <clipPath id=\"clip362\">\n",
              "    <rect x=\"219\" y=\"127\" width=\"1977\" height=\"1297\"/>\n",
              "  </clipPath>\n",
              "</defs>\n",
              "<polyline clip-path=\"url(#clip362)\" style=\"stroke:#000000; stroke-linecap:round; stroke-linejoin:round; stroke-width:2; stroke-opacity:0.1; fill:none\" points=\"668.282,1423.18 668.282,127.244 \"/>\n",
              "<polyline clip-path=\"url(#clip362)\" style=\"stroke:#000000; stroke-linecap:round; stroke-linejoin:round; stroke-width:2; stroke-opacity:0.1; fill:none\" points=\"1158.89,1423.18 1158.89,127.244 \"/>\n",
              "<polyline clip-path=\"url(#clip362)\" style=\"stroke:#000000; stroke-linecap:round; stroke-linejoin:round; stroke-width:2; stroke-opacity:0.1; fill:none\" points=\"1649.5,1423.18 1649.5,127.244 \"/>\n",
              "<polyline clip-path=\"url(#clip362)\" style=\"stroke:#000000; stroke-linecap:round; stroke-linejoin:round; stroke-width:2; stroke-opacity:0.1; fill:none\" points=\"2140.11,1423.18 2140.11,127.244 \"/>\n",
              "<polyline clip-path=\"url(#clip360)\" style=\"stroke:#000000; stroke-linecap:round; stroke-linejoin:round; stroke-width:4; stroke-opacity:1; fill:none\" points=\"219.866,1423.18 2196.04,1423.18 \"/>\n",
              "<polyline clip-path=\"url(#clip360)\" style=\"stroke:#000000; stroke-linecap:round; stroke-linejoin:round; stroke-width:4; stroke-opacity:1; fill:none\" points=\"668.282,1423.18 668.282,1404.28 \"/>\n",
              "<polyline clip-path=\"url(#clip360)\" style=\"stroke:#000000; stroke-linecap:round; stroke-linejoin:round; stroke-width:4; stroke-opacity:1; fill:none\" points=\"1158.89,1423.18 1158.89,1404.28 \"/>\n",
              "<polyline clip-path=\"url(#clip360)\" style=\"stroke:#000000; stroke-linecap:round; stroke-linejoin:round; stroke-width:4; stroke-opacity:1; fill:none\" points=\"1649.5,1423.18 1649.5,1404.28 \"/>\n",
              "<polyline clip-path=\"url(#clip360)\" style=\"stroke:#000000; stroke-linecap:round; stroke-linejoin:round; stroke-width:4; stroke-opacity:1; fill:none\" points=\"2140.11,1423.18 2140.11,1404.28 \"/>\n",
              "<path clip-path=\"url(#clip360)\" d=\"M658.56 1451.02 L676.916 1451.02 L676.916 1454.96 L662.842 1454.96 L662.842 1463.43 Q663.861 1463.08 664.879 1462.92 Q665.898 1462.73 666.917 1462.73 Q672.704 1462.73 676.083 1465.9 Q679.463 1469.08 679.463 1474.49 Q679.463 1480.07 675.991 1483.17 Q672.518 1486.25 666.199 1486.25 Q664.023 1486.25 661.754 1485.88 Q659.509 1485.51 657.102 1484.77 L657.102 1480.07 Q659.185 1481.2 661.407 1481.76 Q663.629 1482.32 666.106 1482.32 Q670.111 1482.32 672.449 1480.21 Q674.787 1478.1 674.787 1474.49 Q674.787 1470.88 672.449 1468.77 Q670.111 1466.67 666.106 1466.67 Q664.231 1466.67 662.356 1467.08 Q660.504 1467.5 658.56 1468.38 L658.56 1451.02 Z\" fill=\"#000000\" fill-rule=\"nonzero\" fill-opacity=\"1\" /><path clip-path=\"url(#clip360)\" d=\"M1133.58 1481.64 L1141.22 1481.64 L1141.22 1455.28 L1132.91 1456.95 L1132.91 1452.69 L1141.17 1451.02 L1145.85 1451.02 L1145.85 1481.64 L1153.49 1481.64 L1153.49 1485.58 L1133.58 1485.58 L1133.58 1481.64 Z\" fill=\"#000000\" fill-rule=\"nonzero\" fill-opacity=\"1\" /><path clip-path=\"url(#clip360)\" d=\"M1172.93 1454.1 Q1169.32 1454.1 1167.49 1457.66 Q1165.68 1461.2 1165.68 1468.33 Q1165.68 1475.44 1167.49 1479.01 Q1169.32 1482.55 1172.93 1482.55 Q1176.56 1482.55 1178.37 1479.01 Q1180.2 1475.44 1180.2 1468.33 Q1180.2 1461.2 1178.37 1457.66 Q1176.56 1454.1 1172.93 1454.1 M1172.93 1450.39 Q1178.74 1450.39 1181.8 1455 Q1184.87 1459.58 1184.87 1468.33 Q1184.87 1477.06 1181.8 1481.67 Q1178.74 1486.25 1172.93 1486.25 Q1167.12 1486.25 1164.04 1481.67 Q1160.99 1477.06 1160.99 1468.33 Q1160.99 1459.58 1164.04 1455 Q1167.12 1450.39 1172.93 1450.39 Z\" fill=\"#000000\" fill-rule=\"nonzero\" fill-opacity=\"1\" /><path clip-path=\"url(#clip360)\" d=\"M1624.68 1481.64 L1632.32 1481.64 L1632.32 1455.28 L1624.01 1456.95 L1624.01 1452.69 L1632.28 1451.02 L1636.95 1451.02 L1636.95 1481.64 L1644.59 1481.64 L1644.59 1485.58 L1624.68 1485.58 L1624.68 1481.64 Z\" fill=\"#000000\" fill-rule=\"nonzero\" fill-opacity=\"1\" /><path clip-path=\"url(#clip360)\" d=\"M1654.08 1451.02 L1672.44 1451.02 L1672.44 1454.96 L1658.36 1454.96 L1658.36 1463.43 Q1659.38 1463.08 1660.4 1462.92 Q1661.42 1462.73 1662.44 1462.73 Q1668.23 1462.73 1671.61 1465.9 Q1674.98 1469.08 1674.98 1474.49 Q1674.98 1480.07 1671.51 1483.17 Q1668.04 1486.25 1661.72 1486.25 Q1659.55 1486.25 1657.28 1485.88 Q1655.03 1485.51 1652.62 1484.77 L1652.62 1480.07 Q1654.71 1481.2 1656.93 1481.76 Q1659.15 1482.32 1661.63 1482.32 Q1665.63 1482.32 1667.97 1480.21 Q1670.31 1478.1 1670.31 1474.49 Q1670.31 1470.88 1667.97 1468.77 Q1665.63 1466.67 1661.63 1466.67 Q1659.75 1466.67 1657.88 1467.08 Q1656.03 1467.5 1654.08 1468.38 L1654.08 1451.02 Z\" fill=\"#000000\" fill-rule=\"nonzero\" fill-opacity=\"1\" /><path clip-path=\"url(#clip360)\" d=\"M2118.88 1481.64 L2135.2 1481.64 L2135.2 1485.58 L2113.26 1485.58 L2113.26 1481.64 Q2115.92 1478.89 2120.5 1474.26 Q2125.11 1469.61 2126.29 1468.27 Q2128.53 1465.74 2129.41 1464.01 Q2130.32 1462.25 2130.32 1460.56 Q2130.32 1457.8 2128.37 1456.07 Q2126.45 1454.33 2123.35 1454.33 Q2121.15 1454.33 2118.7 1455.09 Q2116.26 1455.86 2113.49 1457.41 L2113.49 1452.69 Q2116.31 1451.55 2118.76 1450.97 Q2121.22 1450.39 2123.26 1450.39 Q2128.63 1450.39 2131.82 1453.08 Q2135.01 1455.77 2135.01 1460.26 Q2135.01 1462.39 2134.2 1464.31 Q2133.42 1466.2 2131.31 1468.8 Q2130.73 1469.47 2127.63 1472.69 Q2124.53 1475.88 2118.88 1481.64 Z\" fill=\"#000000\" fill-rule=\"nonzero\" fill-opacity=\"1\" /><path clip-path=\"url(#clip360)\" d=\"M2155.01 1454.1 Q2151.4 1454.1 2149.57 1457.66 Q2147.77 1461.2 2147.77 1468.33 Q2147.77 1475.44 2149.57 1479.01 Q2151.4 1482.55 2155.01 1482.55 Q2158.65 1482.55 2160.45 1479.01 Q2162.28 1475.44 2162.28 1468.33 Q2162.28 1461.2 2160.45 1457.66 Q2158.65 1454.1 2155.01 1454.1 M2155.01 1450.39 Q2160.82 1450.39 2163.88 1455 Q2166.96 1459.58 2166.96 1468.33 Q2166.96 1477.06 2163.88 1481.67 Q2160.82 1486.25 2155.01 1486.25 Q2149.2 1486.25 2146.13 1481.67 Q2143.07 1477.06 2143.07 1468.33 Q2143.07 1459.58 2146.13 1455 Q2149.2 1450.39 2155.01 1450.39 Z\" fill=\"#000000\" fill-rule=\"nonzero\" fill-opacity=\"1\" /><path clip-path=\"url(#clip360)\" d=\"M1092.53 1522.08 L1092.53 1528.35 Q1088.86 1526.6 1085.62 1525.74 Q1082.37 1524.88 1079.35 1524.88 Q1074.1 1524.88 1071.23 1526.92 Q1068.4 1528.96 1068.4 1532.71 Q1068.4 1535.87 1070.28 1537.49 Q1072.19 1539.08 1077.47 1540.07 L1081.35 1540.86 Q1088.55 1542.23 1091.95 1545.7 Q1095.39 1549.14 1095.39 1554.93 Q1095.39 1561.84 1090.74 1565.4 Q1086.13 1568.97 1077.18 1568.97 Q1073.81 1568.97 1069.99 1568.2 Q1066.2 1567.44 1062.13 1565.94 L1062.13 1559.32 Q1066.04 1561.52 1069.8 1562.63 Q1073.56 1563.75 1077.18 1563.75 Q1082.69 1563.75 1085.68 1561.58 Q1088.67 1559.42 1088.67 1555.41 Q1088.67 1551.91 1086.51 1549.93 Q1084.38 1547.96 1079.48 1546.97 L1075.56 1546.21 Q1068.37 1544.78 1065.15 1541.72 Q1061.94 1538.67 1061.94 1533.22 Q1061.94 1526.92 1066.36 1523.29 Q1070.82 1519.66 1078.62 1519.66 Q1081.96 1519.66 1085.43 1520.27 Q1088.9 1520.87 1092.53 1522.08 Z\" fill=\"#000000\" fill-rule=\"nonzero\" fill-opacity=\"1\" /><path clip-path=\"url(#clip360)\" d=\"M1118.97 1536.5 Q1114.26 1536.5 1111.53 1540.19 Q1108.79 1543.85 1108.79 1550.25 Q1108.79 1556.65 1111.49 1560.34 Q1114.23 1564 1118.97 1564 Q1123.65 1564 1126.39 1560.31 Q1129.13 1556.62 1129.13 1550.25 Q1129.13 1543.92 1126.39 1540.23 Q1123.65 1536.5 1118.97 1536.5 M1118.97 1531.54 Q1126.61 1531.54 1130.97 1536.5 Q1135.33 1541.47 1135.33 1550.25 Q1135.33 1559 1130.97 1564 Q1126.61 1568.97 1118.97 1568.97 Q1111.3 1568.97 1106.94 1564 Q1102.61 1559 1102.61 1550.25 Q1102.61 1541.47 1106.94 1536.5 Q1111.3 1531.54 1118.97 1531.54 Z\" fill=\"#000000\" fill-rule=\"nonzero\" fill-opacity=\"1\" /><path clip-path=\"url(#clip360)\" d=\"M1145.04 1518.52 L1150.9 1518.52 L1150.9 1568.04 L1145.04 1568.04 L1145.04 1518.52 Z\" fill=\"#000000\" fill-rule=\"nonzero\" fill-opacity=\"1\" /><path clip-path=\"url(#clip360)\" d=\"M1162.55 1553.98 L1162.55 1532.4 L1168.4 1532.4 L1168.4 1553.75 Q1168.4 1558.81 1170.38 1561.36 Q1172.35 1563.87 1176.3 1563.87 Q1181.04 1563.87 1183.78 1560.85 Q1186.55 1557.83 1186.55 1552.61 L1186.55 1532.4 L1192.4 1532.4 L1192.4 1568.04 L1186.55 1568.04 L1186.55 1562.57 Q1184.41 1565.82 1181.58 1567.41 Q1178.78 1568.97 1175.06 1568.97 Q1168.91 1568.97 1165.73 1565.15 Q1162.55 1561.33 1162.55 1553.98 M1177.28 1531.54 L1177.28 1531.54 Z\" fill=\"#000000\" fill-rule=\"nonzero\" fill-opacity=\"1\" /><path clip-path=\"url(#clip360)\" d=\"M1210.26 1522.27 L1210.26 1532.4 L1222.32 1532.4 L1222.32 1536.95 L1210.26 1536.95 L1210.26 1556.3 Q1210.26 1560.66 1211.44 1561.9 Q1212.65 1563.14 1216.31 1563.14 L1222.32 1563.14 L1222.32 1568.04 L1216.31 1568.04 Q1209.53 1568.04 1206.95 1565.53 Q1204.37 1562.98 1204.37 1556.3 L1204.37 1536.95 L1200.07 1536.95 L1200.07 1532.4 L1204.37 1532.4 L1204.37 1522.27 L1210.26 1522.27 Z\" fill=\"#000000\" fill-rule=\"nonzero\" fill-opacity=\"1\" /><path clip-path=\"url(#clip360)\" d=\"M1230.02 1532.4 L1235.88 1532.4 L1235.88 1568.04 L1230.02 1568.04 L1230.02 1532.4 M1230.02 1518.52 L1235.88 1518.52 L1235.88 1525.93 L1230.02 1525.93 L1230.02 1518.52 Z\" fill=\"#000000\" fill-rule=\"nonzero\" fill-opacity=\"1\" /><path clip-path=\"url(#clip360)\" d=\"M1261.95 1536.5 Q1257.24 1536.5 1254.5 1540.19 Q1251.76 1543.85 1251.76 1550.25 Q1251.76 1556.65 1254.47 1560.34 Q1257.21 1564 1261.95 1564 Q1266.63 1564 1269.36 1560.31 Q1272.1 1556.62 1272.1 1550.25 Q1272.1 1543.92 1269.36 1540.23 Q1266.63 1536.5 1261.95 1536.5 M1261.95 1531.54 Q1269.59 1531.54 1273.95 1536.5 Q1278.31 1541.47 1278.31 1550.25 Q1278.31 1559 1273.95 1564 Q1269.59 1568.97 1261.95 1568.97 Q1254.28 1568.97 1249.92 1564 Q1245.59 1559 1245.59 1550.25 Q1245.59 1541.47 1249.92 1536.5 Q1254.28 1531.54 1261.95 1531.54 Z\" fill=\"#000000\" fill-rule=\"nonzero\" fill-opacity=\"1\" /><path clip-path=\"url(#clip360)\" d=\"M1317.65 1546.53 L1317.65 1568.04 L1311.79 1568.04 L1311.79 1546.72 Q1311.79 1541.66 1309.82 1539.14 Q1307.85 1536.63 1303.9 1536.63 Q1299.16 1536.63 1296.42 1539.65 Q1293.68 1542.68 1293.68 1547.9 L1293.68 1568.04 L1287.79 1568.04 L1287.79 1532.4 L1293.68 1532.4 L1293.68 1537.93 Q1295.78 1534.72 1298.61 1533.13 Q1301.48 1531.54 1305.2 1531.54 Q1311.35 1531.54 1314.5 1535.36 Q1317.65 1539.14 1317.65 1546.53 Z\" fill=\"#000000\" fill-rule=\"nonzero\" fill-opacity=\"1\" /><path clip-path=\"url(#clip360)\" d=\"M1352.06 1533.45 L1352.06 1538.98 Q1349.57 1537.71 1346.9 1537.07 Q1344.23 1536.44 1341.36 1536.44 Q1337 1536.44 1334.8 1537.77 Q1332.64 1539.11 1332.64 1541.79 Q1332.64 1543.82 1334.2 1545 Q1335.76 1546.15 1340.47 1547.2 L1342.47 1547.64 Q1348.71 1548.98 1351.32 1551.43 Q1353.96 1553.85 1353.96 1558.21 Q1353.96 1563.17 1350.02 1566.07 Q1346.1 1568.97 1339.23 1568.97 Q1336.36 1568.97 1333.24 1568.39 Q1330.16 1567.85 1326.72 1566.74 L1326.72 1560.69 Q1329.97 1562.38 1333.12 1563.24 Q1336.27 1564.07 1339.36 1564.07 Q1343.49 1564.07 1345.72 1562.66 Q1347.95 1561.23 1347.95 1558.65 Q1347.95 1556.27 1346.33 1554.99 Q1344.73 1553.72 1339.29 1552.54 L1337.25 1552.07 Q1331.81 1550.92 1329.39 1548.56 Q1326.97 1546.18 1326.97 1542.04 Q1326.97 1537.01 1330.54 1534.27 Q1334.1 1531.54 1340.66 1531.54 Q1343.91 1531.54 1346.77 1532.01 Q1349.64 1532.49 1352.06 1533.45 Z\" fill=\"#000000\" fill-rule=\"nonzero\" fill-opacity=\"1\" /><polyline clip-path=\"url(#clip360)\" style=\"stroke:#000000; stroke-linecap:round; stroke-linejoin:round; stroke-width:4; stroke-opacity:1; fill:none\" points=\"219.866,1423.18 219.866,127.244 \"/>\n",
              "<polyline clip-path=\"url(#clip360)\" style=\"stroke:#000000; stroke-linecap:round; stroke-linejoin:round; stroke-width:4; stroke-opacity:1; fill:none\" points=\"219.866,1350.22 238.764,1350.22 \"/>\n",
              "<polyline clip-path=\"url(#clip360)\" style=\"stroke:#000000; stroke-linecap:round; stroke-linejoin:round; stroke-width:4; stroke-opacity:1; fill:none\" points=\"219.866,1015.74 238.764,1015.74 \"/>\n",
              "<polyline clip-path=\"url(#clip360)\" style=\"stroke:#000000; stroke-linecap:round; stroke-linejoin:round; stroke-width:4; stroke-opacity:1; fill:none\" points=\"219.866,681.26 238.764,681.26 \"/>\n",
              "<polyline clip-path=\"url(#clip360)\" style=\"stroke:#000000; stroke-linecap:round; stroke-linejoin:round; stroke-width:4; stroke-opacity:1; fill:none\" points=\"219.866,346.777 238.764,346.777 \"/>\n",
              "<path clip-path=\"url(#clip360)\" d=\"M162.964 1332.94 L181.32 1332.94 L181.32 1336.88 L167.246 1336.88 L167.246 1345.35 Q168.264 1345 169.283 1344.84 Q170.302 1344.66 171.32 1344.66 Q177.107 1344.66 180.487 1347.83 Q183.866 1351 183.866 1356.42 Q183.866 1362 180.394 1365.1 Q176.922 1368.18 170.602 1368.18 Q168.427 1368.18 166.158 1367.81 Q163.913 1367.44 161.505 1366.69 L161.505 1362 Q163.589 1363.13 165.811 1363.69 Q168.033 1364.24 170.51 1364.24 Q174.514 1364.24 176.852 1362.13 Q179.19 1360.03 179.19 1356.42 Q179.19 1352.81 176.852 1350.7 Q174.514 1348.59 170.51 1348.59 Q168.635 1348.59 166.76 1349.01 Q164.908 1349.43 162.964 1350.31 L162.964 1332.94 Z\" fill=\"#000000\" fill-rule=\"nonzero\" fill-opacity=\"1\" /><path clip-path=\"url(#clip360)\" d=\"M132.57 1029.09 L140.209 1029.09 L140.209 1002.72 L131.899 1004.39 L131.899 1000.13 L140.163 998.462 L144.839 998.462 L144.839 1029.09 L152.478 1029.09 L152.478 1033.02 L132.57 1033.02 L132.57 1029.09 Z\" fill=\"#000000\" fill-rule=\"nonzero\" fill-opacity=\"1\" /><path clip-path=\"url(#clip360)\" d=\"M171.922 1001.54 Q168.311 1001.54 166.482 1005.11 Q164.677 1008.65 164.677 1015.78 Q164.677 1022.88 166.482 1026.45 Q168.311 1029.99 171.922 1029.99 Q175.556 1029.99 177.362 1026.45 Q179.19 1022.88 179.19 1015.78 Q179.19 1008.65 177.362 1005.11 Q175.556 1001.54 171.922 1001.54 M171.922 997.837 Q177.732 997.837 180.788 1002.44 Q183.866 1007.03 183.866 1015.78 Q183.866 1024.5 180.788 1029.11 Q177.732 1033.69 171.922 1033.69 Q166.112 1033.69 163.033 1029.11 Q159.978 1024.5 159.978 1015.78 Q159.978 1007.03 163.033 1002.44 Q166.112 997.837 171.922 997.837 Z\" fill=\"#000000\" fill-rule=\"nonzero\" fill-opacity=\"1\" /><path clip-path=\"url(#clip360)\" d=\"M133.566 694.605 L141.204 694.605 L141.204 668.239 L132.894 669.906 L132.894 665.646 L141.158 663.98 L145.834 663.98 L145.834 694.605 L153.473 694.605 L153.473 698.54 L133.566 698.54 L133.566 694.605 Z\" fill=\"#000000\" fill-rule=\"nonzero\" fill-opacity=\"1\" /><path clip-path=\"url(#clip360)\" d=\"M162.964 663.98 L181.32 663.98 L181.32 667.915 L167.246 667.915 L167.246 676.387 Q168.264 676.04 169.283 675.878 Q170.302 675.693 171.32 675.693 Q177.107 675.693 180.487 678.864 Q183.866 682.035 183.866 687.452 Q183.866 693.03 180.394 696.132 Q176.922 699.211 170.602 699.211 Q168.427 699.211 166.158 698.841 Q163.913 698.47 161.505 697.73 L161.505 693.03 Q163.589 694.165 165.811 694.72 Q168.033 695.276 170.51 695.276 Q174.514 695.276 176.852 693.169 Q179.19 691.063 179.19 687.452 Q179.19 683.841 176.852 681.734 Q174.514 679.628 170.51 679.628 Q168.635 679.628 166.76 680.044 Q164.908 680.461 162.964 681.341 L162.964 663.98 Z\" fill=\"#000000\" fill-rule=\"nonzero\" fill-opacity=\"1\" /><path clip-path=\"url(#clip360)\" d=\"M135.788 360.122 L152.107 360.122 L152.107 364.057 L130.163 364.057 L130.163 360.122 Q132.825 357.368 137.408 352.738 Q142.015 348.085 143.195 346.743 Q145.441 344.219 146.32 342.483 Q147.223 340.724 147.223 339.034 Q147.223 336.28 145.279 334.544 Q143.357 332.807 140.255 332.807 Q138.056 332.807 135.603 333.571 Q133.172 334.335 130.394 335.886 L130.394 331.164 Q133.218 330.03 135.672 329.451 Q138.126 328.872 140.163 328.872 Q145.533 328.872 148.728 331.557 Q151.922 334.243 151.922 338.733 Q151.922 340.863 151.112 342.784 Q150.325 344.682 148.218 347.275 Q147.64 347.946 144.538 351.164 Q141.436 354.358 135.788 360.122 Z\" fill=\"#000000\" fill-rule=\"nonzero\" fill-opacity=\"1\" /><path clip-path=\"url(#clip360)\" d=\"M171.922 332.576 Q168.311 332.576 166.482 336.141 Q164.677 339.682 164.677 346.812 Q164.677 353.918 166.482 357.483 Q168.311 361.025 171.922 361.025 Q175.556 361.025 177.362 357.483 Q179.19 353.918 179.19 346.812 Q179.19 339.682 177.362 336.141 Q175.556 332.576 171.922 332.576 M171.922 328.872 Q177.732 328.872 180.788 333.479 Q183.866 338.062 183.866 346.812 Q183.866 355.539 180.788 360.145 Q177.732 364.729 171.922 364.729 Q166.112 364.729 163.033 360.145 Q159.978 355.539 159.978 346.812 Q159.978 338.062 163.033 333.479 Q166.112 328.872 171.922 328.872 Z\" fill=\"#000000\" fill-rule=\"nonzero\" fill-opacity=\"1\" /><path clip-path=\"url(#clip360)\" d=\"M36.7474 1004.03 Q36.7474 1011.03 41.9672 1015.17 Q47.1871 1019.27 56.1946 1019.27 Q65.1702 1019.27 70.3901 1015.17 Q75.61 1011.03 75.61 1004.03 Q75.61 997.025 70.3901 992.951 Q65.1702 988.845 56.1946 988.845 Q47.1871 988.845 41.9672 992.951 Q36.7474 997.025 36.7474 1004.03 M31.5275 1004.03 Q31.5275 994.033 38.2433 988.049 Q44.9273 982.066 56.1946 982.066 Q67.4301 982.066 74.1459 988.049 Q80.8299 994.033 80.8299 1004.03 Q80.8299 1014.05 74.1459 1020.07 Q67.4619 1026.05 56.1946 1026.05 Q44.9273 1026.05 38.2433 1020.07 Q31.5275 1014.05 31.5275 1004.03 Z\" fill=\"#000000\" fill-rule=\"nonzero\" fill-opacity=\"1\" /><path clip-path=\"url(#clip360)\" d=\"M62.1147 946.672 Q55.6535 946.672 51.9932 949.346 Q48.3011 951.988 48.3011 956.635 Q48.3011 961.282 51.9932 963.955 Q55.6535 966.597 62.1147 966.597 Q68.5759 966.597 72.268 963.955 Q75.9283 961.282 75.9283 956.635 Q75.9283 951.988 72.268 949.346 Q68.5759 946.672 62.1147 946.672 M49.6697 966.597 Q46.4869 964.751 44.9591 961.95 Q43.3995 959.117 43.3995 955.202 Q43.3995 948.709 48.5557 944.667 Q53.712 940.593 62.1147 940.593 Q70.5174 940.593 75.6737 944.667 Q80.8299 948.709 80.8299 955.202 Q80.8299 959.117 79.3021 961.95 Q77.7425 964.751 74.5597 966.597 L79.9069 966.597 L79.9069 972.485 L30.3817 972.485 L30.3817 966.597 L49.6697 966.597 Z\" fill=\"#000000\" fill-rule=\"nonzero\" fill-opacity=\"1\" /><path clip-path=\"url(#clip360)\" d=\"M44.2589 930.885 L44.2589 925.029 L80.5434 925.029 Q87.3547 925.029 90.4103 927.639 Q93.4658 930.217 93.4658 935.978 L93.4658 938.206 L88.5006 938.206 L88.5006 936.646 Q88.5006 933.304 86.941 932.095 Q85.4132 930.885 80.5434 930.885 L44.2589 930.885 M30.3817 930.885 L30.3817 925.029 L37.7977 925.029 L37.7977 930.885 L30.3817 930.885 Z\" fill=\"#000000\" fill-rule=\"nonzero\" fill-opacity=\"1\" /><path clip-path=\"url(#clip360)\" d=\"M60.6188 882.283 L63.4833 882.283 L63.4833 909.21 Q69.5307 908.828 72.7136 905.582 Q75.8646 902.303 75.8646 896.479 Q75.8646 893.105 75.0371 889.954 Q74.2095 886.771 72.5545 883.652 L78.0926 883.652 Q79.4294 886.803 80.1296 890.113 Q80.8299 893.423 80.8299 896.829 Q80.8299 905.359 75.8646 910.356 Q70.8994 915.321 62.433 915.321 Q53.6801 915.321 48.5557 910.611 Q43.3995 905.868 43.3995 897.847 Q43.3995 890.654 48.0465 886.485 Q52.6616 882.283 60.6188 882.283 M58.9 888.14 Q54.0939 888.203 51.2293 890.845 Q48.3648 893.455 48.3648 897.784 Q48.3648 902.685 51.1339 905.645 Q53.9029 908.574 58.9318 909.019 L58.9 888.14 Z\" fill=\"#000000\" fill-rule=\"nonzero\" fill-opacity=\"1\" /><path clip-path=\"url(#clip360)\" d=\"M45.6275 847.017 L51.102 847.017 Q49.7334 849.5 49.065 852.014 Q48.3648 854.497 48.3648 857.043 Q48.3648 862.74 51.9932 865.891 Q55.5899 869.042 62.1147 869.042 Q68.6395 869.042 72.268 865.891 Q75.8646 862.74 75.8646 857.043 Q75.8646 854.497 75.1962 852.014 Q74.496 849.5 73.1274 847.017 L78.5382 847.017 Q79.6841 849.468 80.257 852.11 Q80.8299 854.72 80.8299 857.68 Q80.8299 865.732 75.7691 870.475 Q70.7084 875.217 62.1147 875.217 Q53.3937 875.217 48.3966 870.443 Q43.3995 865.637 43.3995 857.298 Q43.3995 854.592 43.9724 852.014 Q44.5135 849.436 45.6275 847.017 Z\" fill=\"#000000\" fill-rule=\"nonzero\" fill-opacity=\"1\" /><path clip-path=\"url(#clip360)\" d=\"M34.1374 831.039 L44.2589 831.039 L44.2589 818.976 L48.8104 818.976 L48.8104 831.039 L68.1621 831.039 Q72.5226 831.039 73.7639 829.862 Q75.0053 828.652 75.0053 824.992 L75.0053 818.976 L79.9069 818.976 L79.9069 824.992 Q79.9069 831.771 77.3924 834.349 Q74.8461 836.927 68.1621 836.927 L48.8104 836.927 L48.8104 841.224 L44.2589 841.224 L44.2589 836.927 L34.1374 836.927 L34.1374 831.039 Z\" fill=\"#000000\" fill-rule=\"nonzero\" fill-opacity=\"1\" /><path clip-path=\"url(#clip360)\" d=\"M44.2589 811.274 L44.2589 805.417 L79.9069 805.417 L79.9069 811.274 L44.2589 811.274 M30.3817 811.274 L30.3817 805.417 L37.7977 805.417 L37.7977 811.274 L30.3817 811.274 Z\" fill=\"#000000\" fill-rule=\"nonzero\" fill-opacity=\"1\" /><path clip-path=\"url(#clip360)\" d=\"M44.2589 797.365 L44.2589 791.158 L74.1777 780.018 L44.2589 768.878 L44.2589 762.672 L79.9069 776.04 L79.9069 783.997 L44.2589 797.365 Z\" fill=\"#000000\" fill-rule=\"nonzero\" fill-opacity=\"1\" /><path clip-path=\"url(#clip360)\" d=\"M60.6188 724.095 L63.4833 724.095 L63.4833 751.022 Q69.5307 750.64 72.7136 747.394 Q75.8646 744.115 75.8646 738.291 Q75.8646 734.917 75.0371 731.766 Q74.2095 728.583 72.5545 725.464 L78.0926 725.464 Q79.4294 728.615 80.1296 731.925 Q80.8299 735.235 80.8299 738.641 Q80.8299 747.171 75.8646 752.168 Q70.8994 757.133 62.433 757.133 Q53.6801 757.133 48.5557 752.423 Q43.3995 747.68 43.3995 739.659 Q43.3995 732.466 48.0465 728.297 Q52.6616 724.095 60.6188 724.095 M58.9 729.952 Q54.0939 730.015 51.2293 732.657 Q48.3648 735.267 48.3648 739.596 Q48.3648 744.497 51.1339 747.457 Q53.9029 750.386 58.9318 750.831 L58.9 729.952 Z\" fill=\"#000000\" fill-rule=\"nonzero\" fill-opacity=\"1\" /><path clip-path=\"url(#clip360)\" d=\"M79.9069 681.254 L32.3869 699.396 L32.3869 692.681 L72.3953 677.626 L32.3869 662.539 L32.3869 655.855 L79.9069 673.965 L79.9069 681.254 Z\" fill=\"#000000\" fill-rule=\"nonzero\" fill-opacity=\"1\" /><path clip-path=\"url(#clip360)\" d=\"M61.9874 638.031 Q61.9874 645.129 63.6106 647.866 Q65.2339 650.603 69.1488 650.603 Q72.268 650.603 74.1141 648.566 Q75.9283 646.497 75.9283 642.964 Q75.9283 638.095 72.4908 635.166 Q69.0215 632.206 63.2924 632.206 L61.9874 632.206 L61.9874 638.031 M59.5684 626.35 L79.9069 626.35 L79.9069 632.206 L74.496 632.206 Q77.7425 634.212 79.3021 637.203 Q80.8299 640.195 80.8299 644.524 Q80.8299 649.999 77.7743 653.245 Q74.687 656.46 69.5307 656.46 Q63.5152 656.46 60.4596 652.449 Q57.4041 648.407 57.4041 640.418 L57.4041 632.206 L56.8312 632.206 Q52.7889 632.206 50.5928 634.88 Q48.3648 637.522 48.3648 642.328 Q48.3648 645.383 49.0968 648.28 Q49.8289 651.176 51.293 653.85 L45.8821 653.85 Q44.6408 650.635 44.0361 647.611 Q43.3995 644.588 43.3995 641.723 Q43.3995 633.989 47.4099 630.169 Q51.4203 626.35 59.5684 626.35 Z\" fill=\"#000000\" fill-rule=\"nonzero\" fill-opacity=\"1\" /><path clip-path=\"url(#clip360)\" d=\"M30.3817 614.287 L30.3817 608.43 L79.9069 608.43 L79.9069 614.287 L30.3817 614.287 Z\" fill=\"#000000\" fill-rule=\"nonzero\" fill-opacity=\"1\" /><path clip-path=\"url(#clip360)\" d=\"M65.8386 596.781 L44.2589 596.781 L44.2589 590.925 L65.6158 590.925 Q70.6766 590.925 73.2229 588.951 Q75.7373 586.978 75.7373 583.031 Q75.7373 578.289 72.7136 575.552 Q69.6899 572.782 64.47 572.782 L44.2589 572.782 L44.2589 566.926 L79.9069 566.926 L79.9069 572.782 L74.4323 572.782 Q77.6789 574.915 79.2703 577.748 Q80.8299 580.549 80.8299 584.273 Q80.8299 590.416 77.0105 593.598 Q73.191 596.781 65.8386 596.781 M43.3995 582.045 L43.3995 582.045 Z\" fill=\"#000000\" fill-rule=\"nonzero\" fill-opacity=\"1\" /><path clip-path=\"url(#clip360)\" d=\"M60.6188 524.371 L63.4833 524.371 L63.4833 551.298 Q69.5307 550.916 72.7136 547.67 Q75.8646 544.391 75.8646 538.567 Q75.8646 535.193 75.0371 532.042 Q74.2095 528.859 72.5545 525.74 L78.0926 525.74 Q79.4294 528.891 80.1296 532.201 Q80.8299 535.511 80.8299 538.917 Q80.8299 547.447 75.8646 552.444 Q70.8994 557.409 62.433 557.409 Q53.6801 557.409 48.5557 552.699 Q43.3995 547.956 43.3995 539.935 Q43.3995 532.742 48.0465 528.573 Q52.6616 524.371 60.6188 524.371 M58.9 530.228 Q54.0939 530.291 51.2293 532.933 Q48.3648 535.543 48.3648 539.872 Q48.3648 544.773 51.1339 547.733 Q53.9029 550.662 58.9318 551.107 L58.9 530.228 Z\" fill=\"#000000\" fill-rule=\"nonzero\" fill-opacity=\"1\" /><polyline clip-path=\"url(#clip362)\" style=\"stroke:#0000ff; stroke-linecap:round; stroke-linejoin:round; stroke-width:4; stroke-opacity:1; fill:none\" points=\"275.796,455.147 373.917,517.042 472.039,260.037 570.161,520.138 668.282,558.178 766.404,747.868 864.526,737.167 962.647,478.563 1060.77,669.433 1158.89,462.478 1257.01,163.922 1355.13,181.612 1453.26,371.5 1551.38,426.293 1649.5,382.001 1747.62,869.77 1845.74,182.761 1943.86,666.655 2041.99,827.118 2140.11,777.278 \"/>\n",
              "<path clip-path=\"url(#clip362)\" d=\"M259.796 439.147 L259.796 471.147 L291.796 471.147 L291.796 439.147 L259.796 439.147 Z\" fill=\"#0000ff\" fill-rule=\"evenodd\" fill-opacity=\"1\" stroke=\"#000000\" stroke-opacity=\"1\" stroke-width=\"3.2\"/>\n",
              "<path clip-path=\"url(#clip362)\" d=\"M357.917 501.042 L357.917 533.042 L389.917 533.042 L389.917 501.042 L357.917 501.042 Z\" fill=\"#0000ff\" fill-rule=\"evenodd\" fill-opacity=\"1\" stroke=\"#000000\" stroke-opacity=\"1\" stroke-width=\"3.2\"/>\n",
              "<path clip-path=\"url(#clip362)\" d=\"M456.039 244.037 L456.039 276.037 L488.039 276.037 L488.039 244.037 L456.039 244.037 Z\" fill=\"#0000ff\" fill-rule=\"evenodd\" fill-opacity=\"1\" stroke=\"#000000\" stroke-opacity=\"1\" stroke-width=\"3.2\"/>\n",
              "<path clip-path=\"url(#clip362)\" d=\"M554.161 504.138 L554.161 536.138 L586.161 536.138 L586.161 504.138 L554.161 504.138 Z\" fill=\"#0000ff\" fill-rule=\"evenodd\" fill-opacity=\"1\" stroke=\"#000000\" stroke-opacity=\"1\" stroke-width=\"3.2\"/>\n",
              "<path clip-path=\"url(#clip362)\" d=\"M652.282 542.178 L652.282 574.178 L684.282 574.178 L684.282 542.178 L652.282 542.178 Z\" fill=\"#0000ff\" fill-rule=\"evenodd\" fill-opacity=\"1\" stroke=\"#000000\" stroke-opacity=\"1\" stroke-width=\"3.2\"/>\n",
              "<path clip-path=\"url(#clip362)\" d=\"M750.404 731.868 L750.404 763.868 L782.404 763.868 L782.404 731.868 L750.404 731.868 Z\" fill=\"#0000ff\" fill-rule=\"evenodd\" fill-opacity=\"1\" stroke=\"#000000\" stroke-opacity=\"1\" stroke-width=\"3.2\"/>\n",
              "<path clip-path=\"url(#clip362)\" d=\"M848.526 721.167 L848.526 753.167 L880.526 753.167 L880.526 721.167 L848.526 721.167 Z\" fill=\"#0000ff\" fill-rule=\"evenodd\" fill-opacity=\"1\" stroke=\"#000000\" stroke-opacity=\"1\" stroke-width=\"3.2\"/>\n",
              "<path clip-path=\"url(#clip362)\" d=\"M946.647 462.563 L946.647 494.563 L978.647 494.563 L978.647 462.563 L946.647 462.563 Z\" fill=\"#0000ff\" fill-rule=\"evenodd\" fill-opacity=\"1\" stroke=\"#000000\" stroke-opacity=\"1\" stroke-width=\"3.2\"/>\n",
              "<path clip-path=\"url(#clip362)\" d=\"M1044.77 653.433 L1044.77 685.433 L1076.77 685.433 L1076.77 653.433 L1044.77 653.433 Z\" fill=\"#0000ff\" fill-rule=\"evenodd\" fill-opacity=\"1\" stroke=\"#000000\" stroke-opacity=\"1\" stroke-width=\"3.2\"/>\n",
              "<path clip-path=\"url(#clip362)\" d=\"M1142.89 446.478 L1142.89 478.478 L1174.89 478.478 L1174.89 446.478 L1142.89 446.478 Z\" fill=\"#0000ff\" fill-rule=\"evenodd\" fill-opacity=\"1\" stroke=\"#000000\" stroke-opacity=\"1\" stroke-width=\"3.2\"/>\n",
              "<path clip-path=\"url(#clip362)\" d=\"M1241.01 147.922 L1241.01 179.922 L1273.01 179.922 L1273.01 147.922 L1241.01 147.922 Z\" fill=\"#0000ff\" fill-rule=\"evenodd\" fill-opacity=\"1\" stroke=\"#000000\" stroke-opacity=\"1\" stroke-width=\"3.2\"/>\n",
              "<path clip-path=\"url(#clip362)\" d=\"M1339.13 165.612 L1339.13 197.612 L1371.13 197.612 L1371.13 165.612 L1339.13 165.612 Z\" fill=\"#0000ff\" fill-rule=\"evenodd\" fill-opacity=\"1\" stroke=\"#000000\" stroke-opacity=\"1\" stroke-width=\"3.2\"/>\n",
              "<path clip-path=\"url(#clip362)\" d=\"M1437.26 355.5 L1437.26 387.5 L1469.26 387.5 L1469.26 355.5 L1437.26 355.5 Z\" fill=\"#0000ff\" fill-rule=\"evenodd\" fill-opacity=\"1\" stroke=\"#000000\" stroke-opacity=\"1\" stroke-width=\"3.2\"/>\n",
              "<path clip-path=\"url(#clip362)\" d=\"M1535.38 410.293 L1535.38 442.293 L1567.38 442.293 L1567.38 410.293 L1535.38 410.293 Z\" fill=\"#0000ff\" fill-rule=\"evenodd\" fill-opacity=\"1\" stroke=\"#000000\" stroke-opacity=\"1\" stroke-width=\"3.2\"/>\n",
              "<path clip-path=\"url(#clip362)\" d=\"M1633.5 366.001 L1633.5 398.001 L1665.5 398.001 L1665.5 366.001 L1633.5 366.001 Z\" fill=\"#0000ff\" fill-rule=\"evenodd\" fill-opacity=\"1\" stroke=\"#000000\" stroke-opacity=\"1\" stroke-width=\"3.2\"/>\n",
              "<path clip-path=\"url(#clip362)\" d=\"M1731.62 853.77 L1731.62 885.77 L1763.62 885.77 L1763.62 853.77 L1731.62 853.77 Z\" fill=\"#0000ff\" fill-rule=\"evenodd\" fill-opacity=\"1\" stroke=\"#000000\" stroke-opacity=\"1\" stroke-width=\"3.2\"/>\n",
              "<path clip-path=\"url(#clip362)\" d=\"M1829.74 166.761 L1829.74 198.761 L1861.74 198.761 L1861.74 166.761 L1829.74 166.761 Z\" fill=\"#0000ff\" fill-rule=\"evenodd\" fill-opacity=\"1\" stroke=\"#000000\" stroke-opacity=\"1\" stroke-width=\"3.2\"/>\n",
              "<path clip-path=\"url(#clip362)\" d=\"M1927.86 650.655 L1927.86 682.655 L1959.86 682.655 L1959.86 650.655 L1927.86 650.655 Z\" fill=\"#0000ff\" fill-rule=\"evenodd\" fill-opacity=\"1\" stroke=\"#000000\" stroke-opacity=\"1\" stroke-width=\"3.2\"/>\n",
              "<path clip-path=\"url(#clip362)\" d=\"M2025.99 811.118 L2025.99 843.118 L2057.99 843.118 L2057.99 811.118 L2025.99 811.118 Z\" fill=\"#0000ff\" fill-rule=\"evenodd\" fill-opacity=\"1\" stroke=\"#000000\" stroke-opacity=\"1\" stroke-width=\"3.2\"/>\n",
              "<path clip-path=\"url(#clip362)\" d=\"M2124.11 761.278 L2124.11 793.278 L2156.11 793.278 L2156.11 761.278 L2124.11 761.278 Z\" fill=\"#0000ff\" fill-rule=\"evenodd\" fill-opacity=\"1\" stroke=\"#000000\" stroke-opacity=\"1\" stroke-width=\"3.2\"/>\n",
              "<polyline clip-path=\"url(#clip362)\" style=\"stroke:#ffa500; stroke-linecap:round; stroke-linejoin:round; stroke-width:4; stroke-opacity:1; fill:none\" points=\"275.796,1386.5 373.917,1386.5 472.039,1386.5 570.161,1386.5 668.282,1386.5 766.404,1386.5 864.526,1386.5 962.647,1386.5 1060.77,1386.5 1158.89,1386.5 1257.01,1386.5 1355.13,1386.5 1453.26,1386.5 1551.38,1386.5 1649.5,1386.5 1747.62,1386.5 1845.74,1386.5 1943.86,1386.5 2041.99,1386.5 2140.11,1386.5 \"/>\n",
              "<path clip-path=\"url(#clip362)\" d=\"M259.796 1370.5 L259.796 1402.5 L291.796 1402.5 L291.796 1370.5 L259.796 1370.5 Z\" fill=\"#ffa500\" fill-rule=\"evenodd\" fill-opacity=\"1\" stroke=\"#000000\" stroke-opacity=\"1\" stroke-width=\"3.2\"/>\n",
              "<path clip-path=\"url(#clip362)\" d=\"M357.917 1370.5 L357.917 1402.5 L389.917 1402.5 L389.917 1370.5 L357.917 1370.5 Z\" fill=\"#ffa500\" fill-rule=\"evenodd\" fill-opacity=\"1\" stroke=\"#000000\" stroke-opacity=\"1\" stroke-width=\"3.2\"/>\n",
              "<path clip-path=\"url(#clip362)\" d=\"M456.039 1370.5 L456.039 1402.5 L488.039 1402.5 L488.039 1370.5 L456.039 1370.5 Z\" fill=\"#ffa500\" fill-rule=\"evenodd\" fill-opacity=\"1\" stroke=\"#000000\" stroke-opacity=\"1\" stroke-width=\"3.2\"/>\n",
              "<path clip-path=\"url(#clip362)\" d=\"M554.161 1370.5 L554.161 1402.5 L586.161 1402.5 L586.161 1370.5 L554.161 1370.5 Z\" fill=\"#ffa500\" fill-rule=\"evenodd\" fill-opacity=\"1\" stroke=\"#000000\" stroke-opacity=\"1\" stroke-width=\"3.2\"/>\n",
              "<path clip-path=\"url(#clip362)\" d=\"M652.282 1370.5 L652.282 1402.5 L684.282 1402.5 L684.282 1370.5 L652.282 1370.5 Z\" fill=\"#ffa500\" fill-rule=\"evenodd\" fill-opacity=\"1\" stroke=\"#000000\" stroke-opacity=\"1\" stroke-width=\"3.2\"/>\n",
              "<path clip-path=\"url(#clip362)\" d=\"M750.404 1370.5 L750.404 1402.5 L782.404 1402.5 L782.404 1370.5 L750.404 1370.5 Z\" fill=\"#ffa500\" fill-rule=\"evenodd\" fill-opacity=\"1\" stroke=\"#000000\" stroke-opacity=\"1\" stroke-width=\"3.2\"/>\n",
              "<path clip-path=\"url(#clip362)\" d=\"M848.526 1370.5 L848.526 1402.5 L880.526 1402.5 L880.526 1370.5 L848.526 1370.5 Z\" fill=\"#ffa500\" fill-rule=\"evenodd\" fill-opacity=\"1\" stroke=\"#000000\" stroke-opacity=\"1\" stroke-width=\"3.2\"/>\n",
              "<path clip-path=\"url(#clip362)\" d=\"M946.647 1370.5 L946.647 1402.5 L978.647 1402.5 L978.647 1370.5 L946.647 1370.5 Z\" fill=\"#ffa500\" fill-rule=\"evenodd\" fill-opacity=\"1\" stroke=\"#000000\" stroke-opacity=\"1\" stroke-width=\"3.2\"/>\n",
              "<path clip-path=\"url(#clip362)\" d=\"M1044.77 1370.5 L1044.77 1402.5 L1076.77 1402.5 L1076.77 1370.5 L1044.77 1370.5 Z\" fill=\"#ffa500\" fill-rule=\"evenodd\" fill-opacity=\"1\" stroke=\"#000000\" stroke-opacity=\"1\" stroke-width=\"3.2\"/>\n",
              "<path clip-path=\"url(#clip362)\" d=\"M1142.89 1370.5 L1142.89 1402.5 L1174.89 1402.5 L1174.89 1370.5 L1142.89 1370.5 Z\" fill=\"#ffa500\" fill-rule=\"evenodd\" fill-opacity=\"1\" stroke=\"#000000\" stroke-opacity=\"1\" stroke-width=\"3.2\"/>\n",
              "<path clip-path=\"url(#clip362)\" d=\"M1241.01 1370.5 L1241.01 1402.5 L1273.01 1402.5 L1273.01 1370.5 L1241.01 1370.5 Z\" fill=\"#ffa500\" fill-rule=\"evenodd\" fill-opacity=\"1\" stroke=\"#000000\" stroke-opacity=\"1\" stroke-width=\"3.2\"/>\n",
              "<path clip-path=\"url(#clip362)\" d=\"M1339.13 1370.5 L1339.13 1402.5 L1371.13 1402.5 L1371.13 1370.5 L1339.13 1370.5 Z\" fill=\"#ffa500\" fill-rule=\"evenodd\" fill-opacity=\"1\" stroke=\"#000000\" stroke-opacity=\"1\" stroke-width=\"3.2\"/>\n",
              "<path clip-path=\"url(#clip362)\" d=\"M1437.26 1370.5 L1437.26 1402.5 L1469.26 1402.5 L1469.26 1370.5 L1437.26 1370.5 Z\" fill=\"#ffa500\" fill-rule=\"evenodd\" fill-opacity=\"1\" stroke=\"#000000\" stroke-opacity=\"1\" stroke-width=\"3.2\"/>\n",
              "<path clip-path=\"url(#clip362)\" d=\"M1535.38 1370.5 L1535.38 1402.5 L1567.38 1402.5 L1567.38 1370.5 L1535.38 1370.5 Z\" fill=\"#ffa500\" fill-rule=\"evenodd\" fill-opacity=\"1\" stroke=\"#000000\" stroke-opacity=\"1\" stroke-width=\"3.2\"/>\n",
              "<path clip-path=\"url(#clip362)\" d=\"M1633.5 1370.5 L1633.5 1402.5 L1665.5 1402.5 L1665.5 1370.5 L1633.5 1370.5 Z\" fill=\"#ffa500\" fill-rule=\"evenodd\" fill-opacity=\"1\" stroke=\"#000000\" stroke-opacity=\"1\" stroke-width=\"3.2\"/>\n",
              "<path clip-path=\"url(#clip362)\" d=\"M1731.62 1370.5 L1731.62 1402.5 L1763.62 1402.5 L1763.62 1370.5 L1731.62 1370.5 Z\" fill=\"#ffa500\" fill-rule=\"evenodd\" fill-opacity=\"1\" stroke=\"#000000\" stroke-opacity=\"1\" stroke-width=\"3.2\"/>\n",
              "<path clip-path=\"url(#clip362)\" d=\"M1829.74 1370.5 L1829.74 1402.5 L1861.74 1402.5 L1861.74 1370.5 L1829.74 1370.5 Z\" fill=\"#ffa500\" fill-rule=\"evenodd\" fill-opacity=\"1\" stroke=\"#000000\" stroke-opacity=\"1\" stroke-width=\"3.2\"/>\n",
              "<path clip-path=\"url(#clip362)\" d=\"M1927.86 1370.5 L1927.86 1402.5 L1959.86 1402.5 L1959.86 1370.5 L1927.86 1370.5 Z\" fill=\"#ffa500\" fill-rule=\"evenodd\" fill-opacity=\"1\" stroke=\"#000000\" stroke-opacity=\"1\" stroke-width=\"3.2\"/>\n",
              "<path clip-path=\"url(#clip362)\" d=\"M2025.99 1370.5 L2025.99 1402.5 L2057.99 1402.5 L2057.99 1370.5 L2025.99 1370.5 Z\" fill=\"#ffa500\" fill-rule=\"evenodd\" fill-opacity=\"1\" stroke=\"#000000\" stroke-opacity=\"1\" stroke-width=\"3.2\"/>\n",
              "<path clip-path=\"url(#clip362)\" d=\"M2124.11 1370.5 L2124.11 1402.5 L2156.11 1402.5 L2156.11 1370.5 L2124.11 1370.5 Z\" fill=\"#ffa500\" fill-rule=\"evenodd\" fill-opacity=\"1\" stroke=\"#000000\" stroke-opacity=\"1\" stroke-width=\"3.2\"/>\n",
              "<path clip-path=\"url(#clip360)\" d=\"M241.824 1267.67 L710.574 1267.67 L710.574 1112.15 L241.824 1112.15  Z\" fill=\"#ffffff\" fill-rule=\"evenodd\" fill-opacity=\"1\"/>\n",
              "<polyline clip-path=\"url(#clip360)\" style=\"stroke:#000000; stroke-linecap:round; stroke-linejoin:round; stroke-width:4; stroke-opacity:1; fill:none\" points=\"241.824,1267.67 710.574,1267.67 710.574,1112.15 241.824,1112.15 241.824,1267.67 \"/>\n",
              "<polyline clip-path=\"url(#clip360)\" style=\"stroke:#0000ff; stroke-linecap:round; stroke-linejoin:round; stroke-width:4; stroke-opacity:1; fill:none\" points=\"263.781,1163.99 395.526,1163.99 \"/>\n",
              "<path clip-path=\"url(#clip360)\" d=\"M309.323 1143.66 L309.323 1184.32 L349.984 1184.32 L349.984 1143.66 L309.323 1143.66 Z\" fill=\"#0000ff\" fill-rule=\"evenodd\" fill-opacity=\"1\" stroke=\"#000000\" stroke-opacity=\"1\" stroke-width=\"4.55111\"/>\n",
              "<path clip-path=\"url(#clip360)\" d=\"M417.483 1146.71 L422.159 1146.71 L422.159 1181.27 L417.483 1181.27 L417.483 1146.71 Z\" fill=\"#000000\" fill-rule=\"nonzero\" fill-opacity=\"1\" /><path clip-path=\"url(#clip360)\" d=\"M452.83 1165.62 L452.83 1181.27 L448.571 1181.27 L448.571 1165.76 Q448.571 1162.08 447.136 1160.25 Q445.701 1158.43 442.83 1158.43 Q439.381 1158.43 437.391 1160.62 Q435.4 1162.82 435.4 1166.62 L435.4 1181.27 L431.117 1181.27 L431.117 1155.35 L435.4 1155.35 L435.4 1159.37 Q436.928 1157.04 438.988 1155.88 Q441.071 1154.72 443.779 1154.72 Q448.247 1154.72 450.539 1157.5 Q452.83 1160.25 452.83 1165.62 Z\" fill=\"#000000\" fill-rule=\"nonzero\" fill-opacity=\"1\" /><path clip-path=\"url(#clip360)\" d=\"M461.326 1155.35 L465.585 1155.35 L465.585 1181.27 L461.326 1181.27 L461.326 1155.35 M461.326 1145.25 L465.585 1145.25 L465.585 1150.65 L461.326 1150.65 L461.326 1145.25 Z\" fill=\"#000000\" fill-rule=\"nonzero\" fill-opacity=\"1\" /><path clip-path=\"url(#clip360)\" d=\"M478.71 1147.99 L478.71 1155.35 L487.483 1155.35 L487.483 1158.66 L478.71 1158.66 L478.71 1172.73 Q478.71 1175.9 479.566 1176.81 Q480.446 1177.71 483.108 1177.71 L487.483 1177.71 L487.483 1181.27 L483.108 1181.27 Q478.177 1181.27 476.302 1179.44 Q474.427 1177.59 474.427 1172.73 L474.427 1158.66 L471.302 1158.66 L471.302 1155.35 L474.427 1155.35 L474.427 1147.99 L478.71 1147.99 Z\" fill=\"#000000\" fill-rule=\"nonzero\" fill-opacity=\"1\" /><path clip-path=\"url(#clip360)\" d=\"M493.085 1155.35 L497.344 1155.35 L497.344 1181.27 L493.085 1181.27 L493.085 1155.35 M493.085 1145.25 L497.344 1145.25 L497.344 1150.65 L493.085 1150.65 L493.085 1145.25 Z\" fill=\"#000000\" fill-rule=\"nonzero\" fill-opacity=\"1\" /><path clip-path=\"url(#clip360)\" d=\"M518.038 1168.24 Q512.876 1168.24 510.886 1169.42 Q508.895 1170.6 508.895 1173.45 Q508.895 1175.72 510.376 1177.06 Q511.881 1178.38 514.45 1178.38 Q517.992 1178.38 520.122 1175.88 Q522.274 1173.36 522.274 1169.19 L522.274 1168.24 L518.038 1168.24 M526.534 1166.48 L526.534 1181.27 L522.274 1181.27 L522.274 1177.34 Q520.816 1179.7 518.64 1180.83 Q516.464 1181.94 513.316 1181.94 Q509.335 1181.94 506.974 1179.72 Q504.636 1177.48 504.636 1173.73 Q504.636 1169.35 507.552 1167.13 Q510.492 1164.91 516.302 1164.91 L522.274 1164.91 L522.274 1164.49 Q522.274 1161.55 520.33 1159.95 Q518.409 1158.33 514.913 1158.33 Q512.691 1158.33 510.585 1158.87 Q508.478 1159.4 506.534 1160.46 L506.534 1156.53 Q508.872 1155.62 511.071 1155.18 Q513.27 1154.72 515.353 1154.72 Q520.978 1154.72 523.756 1157.64 Q526.534 1160.56 526.534 1166.48 Z\" fill=\"#000000\" fill-rule=\"nonzero\" fill-opacity=\"1\" /><path clip-path=\"url(#clip360)\" d=\"M535.307 1145.25 L539.566 1145.25 L539.566 1181.27 L535.307 1181.27 L535.307 1145.25 Z\" fill=\"#000000\" fill-rule=\"nonzero\" fill-opacity=\"1\" /><polyline clip-path=\"url(#clip360)\" style=\"stroke:#ffa500; stroke-linecap:round; stroke-linejoin:round; stroke-width:4; stroke-opacity:1; fill:none\" points=\"263.781,1215.83 395.526,1215.83 \"/>\n",
              "<path clip-path=\"url(#clip360)\" d=\"M309.323 1195.5 L309.323 1236.16 L349.984 1236.16 L349.984 1195.5 L309.323 1195.5 Z\" fill=\"#ffa500\" fill-rule=\"evenodd\" fill-opacity=\"1\" stroke=\"#000000\" stroke-opacity=\"1\" stroke-width=\"4.55111\"/>\n",
              "<path clip-path=\"url(#clip360)\" d=\"M433.317 1203.16 L426.974 1220.36 L439.682 1220.36 L433.317 1203.16 M430.678 1198.55 L435.979 1198.55 L449.15 1233.11 L444.289 1233.11 L441.141 1224.25 L425.562 1224.25 L422.414 1233.11 L417.483 1233.11 L430.678 1198.55 Z\" fill=\"#000000\" fill-rule=\"nonzero\" fill-opacity=\"1\" /><path clip-path=\"url(#clip360)\" d=\"M453.571 1222.88 L453.571 1207.19 L457.83 1207.19 L457.83 1222.72 Q457.83 1226.4 459.265 1228.25 Q460.701 1230.08 463.571 1230.08 Q467.02 1230.08 469.011 1227.88 Q471.025 1225.68 471.025 1221.89 L471.025 1207.19 L475.284 1207.19 L475.284 1233.11 L471.025 1233.11 L471.025 1229.13 Q469.474 1231.49 467.414 1232.65 Q465.377 1233.78 462.668 1233.78 Q458.201 1233.78 455.886 1231.01 Q453.571 1228.23 453.571 1222.88 M464.289 1206.56 L464.289 1206.56 Z\" fill=\"#000000\" fill-rule=\"nonzero\" fill-opacity=\"1\" /><path clip-path=\"url(#clip360)\" d=\"M501.117 1219.85 Q501.117 1215.22 499.196 1212.67 Q497.298 1210.13 493.849 1210.13 Q490.423 1210.13 488.501 1212.67 Q486.603 1215.22 486.603 1219.85 Q486.603 1224.46 488.501 1227 Q490.423 1229.55 493.849 1229.55 Q497.298 1229.55 499.196 1227 Q501.117 1224.46 501.117 1219.85 M505.376 1229.9 Q505.376 1236.52 502.437 1239.73 Q499.497 1242.97 493.432 1242.97 Q491.187 1242.97 489.196 1242.63 Q487.205 1242.3 485.33 1241.61 L485.33 1237.46 Q487.205 1238.48 489.034 1238.97 Q490.863 1239.46 492.761 1239.46 Q496.95 1239.46 499.034 1237.26 Q501.117 1235.08 501.117 1230.66 L501.117 1228.55 Q499.798 1230.84 497.737 1231.98 Q495.677 1233.11 492.807 1233.11 Q488.038 1233.11 485.122 1229.48 Q482.205 1225.84 482.205 1219.85 Q482.205 1213.83 485.122 1210.2 Q488.038 1206.56 492.807 1206.56 Q495.677 1206.56 497.737 1207.7 Q499.798 1208.83 501.117 1211.12 L501.117 1207.19 L505.376 1207.19 L505.376 1229.9 Z\" fill=\"#000000\" fill-rule=\"nonzero\" fill-opacity=\"1\" /><path clip-path=\"url(#clip360)\" d=\"M534.335 1212.16 Q535.932 1209.29 538.154 1207.93 Q540.376 1206.56 543.385 1206.56 Q547.436 1206.56 549.635 1209.41 Q551.834 1212.23 551.834 1217.46 L551.834 1233.11 L547.552 1233.11 L547.552 1217.6 Q547.552 1213.88 546.233 1212.07 Q544.913 1210.27 542.205 1210.27 Q538.895 1210.27 536.973 1212.46 Q535.052 1214.66 535.052 1218.46 L535.052 1233.11 L530.77 1233.11 L530.77 1217.6 Q530.77 1213.85 529.45 1212.07 Q528.131 1210.27 525.376 1210.27 Q522.112 1210.27 520.191 1212.49 Q518.27 1214.69 518.27 1218.46 L518.27 1233.11 L513.987 1233.11 L513.987 1207.19 L518.27 1207.19 L518.27 1211.21 Q519.728 1208.83 521.765 1207.7 Q523.802 1206.56 526.603 1206.56 Q529.427 1206.56 531.395 1208 Q533.385 1209.43 534.335 1212.16 Z\" fill=\"#000000\" fill-rule=\"nonzero\" fill-opacity=\"1\" /><path clip-path=\"url(#clip360)\" d=\"M582.506 1219.08 L582.506 1221.17 L562.922 1221.17 Q563.2 1225.57 565.561 1227.88 Q567.945 1230.17 572.182 1230.17 Q574.635 1230.17 576.927 1229.57 Q579.242 1228.97 581.51 1227.77 L581.51 1231.79 Q579.219 1232.77 576.811 1233.27 Q574.404 1233.78 571.927 1233.78 Q565.723 1233.78 562.089 1230.17 Q558.478 1226.56 558.478 1220.4 Q558.478 1214.04 561.904 1210.31 Q565.353 1206.56 571.186 1206.56 Q576.418 1206.56 579.45 1209.94 Q582.506 1213.3 582.506 1219.08 M578.246 1217.83 Q578.2 1214.34 576.279 1212.26 Q574.381 1210.17 571.232 1210.17 Q567.668 1210.17 565.515 1212.19 Q563.385 1214.2 563.061 1217.86 L578.246 1217.83 Z\" fill=\"#000000\" fill-rule=\"nonzero\" fill-opacity=\"1\" /><path clip-path=\"url(#clip360)\" d=\"M611.047 1217.46 L611.047 1233.11 L606.788 1233.11 L606.788 1217.6 Q606.788 1213.92 605.353 1212.09 Q603.917 1210.27 601.047 1210.27 Q597.598 1210.27 595.607 1212.46 Q593.617 1214.66 593.617 1218.46 L593.617 1233.11 L589.334 1233.11 L589.334 1207.19 L593.617 1207.19 L593.617 1211.21 Q595.144 1208.88 597.205 1207.72 Q599.288 1206.56 601.996 1206.56 Q606.464 1206.56 608.755 1209.34 Q611.047 1212.09 611.047 1217.46 Z\" fill=\"#000000\" fill-rule=\"nonzero\" fill-opacity=\"1\" /><path clip-path=\"url(#clip360)\" d=\"M623.755 1199.83 L623.755 1207.19 L632.528 1207.19 L632.528 1210.5 L623.755 1210.5 L623.755 1224.57 Q623.755 1227.74 624.612 1228.65 Q625.491 1229.55 628.153 1229.55 L632.528 1229.55 L632.528 1233.11 L628.153 1233.11 Q623.223 1233.11 621.348 1231.28 Q619.473 1229.43 619.473 1224.57 L619.473 1210.5 L616.348 1210.5 L616.348 1207.19 L619.473 1207.19 L619.473 1199.83 L623.755 1199.83 Z\" fill=\"#000000\" fill-rule=\"nonzero\" fill-opacity=\"1\" /><path clip-path=\"url(#clip360)\" d=\"M660.306 1219.08 L660.306 1221.17 L640.723 1221.17 Q641.001 1225.57 643.362 1227.88 Q645.746 1230.17 649.982 1230.17 Q652.436 1230.17 654.727 1229.57 Q657.042 1228.97 659.311 1227.77 L659.311 1231.79 Q657.019 1232.77 654.612 1233.27 Q652.204 1233.78 649.727 1233.78 Q643.524 1233.78 639.889 1230.17 Q636.278 1226.56 636.278 1220.4 Q636.278 1214.04 639.704 1210.31 Q643.153 1206.56 648.987 1206.56 Q654.218 1206.56 657.251 1209.94 Q660.306 1213.3 660.306 1219.08 M656.047 1217.83 Q656.001 1214.34 654.079 1212.26 Q652.181 1210.17 649.033 1210.17 Q645.468 1210.17 643.315 1212.19 Q641.186 1214.2 640.862 1217.86 L656.047 1217.83 Z\" fill=\"#000000\" fill-rule=\"nonzero\" fill-opacity=\"1\" /><path clip-path=\"url(#clip360)\" d=\"M684.357 1211.12 L684.357 1197.09 L688.616 1197.09 L688.616 1233.11 L684.357 1233.11 L684.357 1229.22 Q683.014 1231.54 680.954 1232.67 Q678.917 1233.78 676.047 1233.78 Q671.348 1233.78 668.385 1230.03 Q665.445 1226.28 665.445 1220.17 Q665.445 1214.06 668.385 1210.31 Q671.348 1206.56 676.047 1206.56 Q678.917 1206.56 680.954 1207.7 Q683.014 1208.81 684.357 1211.12 M669.843 1220.17 Q669.843 1224.87 671.764 1227.56 Q673.709 1230.22 677.088 1230.22 Q680.468 1230.22 682.412 1227.56 Q684.357 1224.87 684.357 1220.17 Q684.357 1215.47 682.412 1212.81 Q680.468 1210.13 677.088 1210.13 Q673.709 1210.13 671.764 1212.81 Q669.843 1215.47 669.843 1220.17 Z\" fill=\"#000000\" fill-rule=\"nonzero\" fill-opacity=\"1\" /><path clip-path=\"url(#clip360)\" d=\"M219.866 80 L2196.04 80 L2196.04 0 L219.866 0  Z\" fill=\"#ffffff\" fill-rule=\"evenodd\" fill-opacity=\"1\"/>\n",
              "<defs>\n",
              "  <clipPath id=\"clip363\">\n",
              "    <rect x=\"219\" y=\"0\" width=\"1977\" height=\"81\"/>\n",
              "  </clipPath>\n",
              "</defs>\n",
              "<path clip-path=\"url(#clip360)\" d=\"M907.606 23.0369 L894.921 57.4349 L920.337 57.4349 L907.606 23.0369 M902.328 13.824 L912.93 13.824 L939.272 82.944 L929.55 82.944 L923.254 65.2126 L892.097 65.2126 L885.8 82.944 L875.939 82.944 L902.328 13.824 Z\" fill=\"#000000\" fill-rule=\"nonzero\" fill-opacity=\"1\" /><path clip-path=\"url(#clip360)\" d=\"M948.115 62.4811 L948.115 31.0924 L956.633 31.0924 L956.633 62.1571 Q956.633 69.5181 959.504 73.2218 Q962.374 76.8792 968.115 76.8792 Q975.013 76.8792 978.994 72.4811 Q983.022 68.083 983.022 60.4904 L983.022 31.0924 L991.54 31.0924 L991.54 82.944 L983.022 82.944 L983.022 74.9811 Q979.92 79.7033 975.8 82.0181 Q971.726 84.2866 966.309 84.2866 Q957.374 84.2866 952.744 78.7311 Q948.115 73.1755 948.115 62.4811 M969.55 29.8424 L969.55 29.8424 Z\" fill=\"#000000\" fill-rule=\"nonzero\" fill-opacity=\"1\" /><path clip-path=\"url(#clip360)\" d=\"M1043.21 56.4164 Q1043.21 47.1572 1039.36 42.0646 Q1035.57 36.972 1028.67 36.972 Q1021.82 36.972 1017.98 42.0646 Q1014.18 47.1572 1014.18 56.4164 Q1014.18 65.6293 1017.98 70.7218 Q1021.82 75.8144 1028.67 75.8144 Q1035.57 75.8144 1039.36 70.7218 Q1043.21 65.6293 1043.21 56.4164 M1051.73 76.5088 Q1051.73 89.7495 1045.85 96.1847 Q1039.97 102.666 1027.84 102.666 Q1023.35 102.666 1019.36 101.972 Q1015.38 101.324 1011.63 99.9346 L1011.63 91.6477 Q1015.38 93.6847 1019.04 94.6569 Q1022.7 95.6291 1026.49 95.6291 Q1034.87 95.6291 1039.04 91.231 Q1043.21 86.8792 1043.21 78.0366 L1043.21 73.8237 Q1040.57 78.407 1036.45 80.6755 Q1032.33 82.944 1026.59 82.944 Q1017.05 82.944 1011.22 75.6755 Q1005.38 68.407 1005.38 56.4164 Q1005.38 44.3794 1011.22 37.1109 Q1017.05 29.8424 1026.59 29.8424 Q1032.33 29.8424 1036.45 32.1109 Q1040.57 34.3794 1043.21 38.9628 L1043.21 31.0924 L1051.73 31.0924 L1051.73 76.5088 Z\" fill=\"#000000\" fill-rule=\"nonzero\" fill-opacity=\"1\" /><path clip-path=\"url(#clip360)\" d=\"M1109.64 41.0461 Q1112.84 35.3054 1117.28 32.5739 Q1121.72 29.8424 1127.74 29.8424 Q1135.85 29.8424 1140.24 35.5368 Q1144.64 41.185 1144.64 51.6479 L1144.64 82.944 L1136.08 82.944 L1136.08 51.9256 Q1136.08 44.472 1133.44 40.8609 Q1130.8 37.2498 1125.38 37.2498 Q1118.76 37.2498 1114.92 41.6479 Q1111.08 46.046 1111.08 53.6386 L1111.08 82.944 L1102.51 82.944 L1102.51 51.9256 Q1102.51 44.4257 1099.87 40.8609 Q1097.23 37.2498 1091.73 37.2498 Q1085.2 37.2498 1081.35 41.6942 Q1077.51 46.0923 1077.51 53.6386 L1077.51 82.944 L1068.95 82.944 L1068.95 31.0924 L1077.51 31.0924 L1077.51 39.1479 Q1080.43 34.3794 1084.5 32.1109 Q1088.58 29.8424 1094.18 29.8424 Q1099.83 29.8424 1103.76 32.7128 Q1107.74 35.5831 1109.64 41.0461 Z\" fill=\"#000000\" fill-rule=\"nonzero\" fill-opacity=\"1\" /><path clip-path=\"url(#clip360)\" d=\"M1205.98 54.8886 L1205.98 59.0552 L1166.82 59.0552 Q1167.37 67.8515 1172.1 72.4811 Q1176.86 77.0644 1185.34 77.0644 Q1190.24 77.0644 1194.83 75.8607 Q1199.46 74.657 1203.99 72.2496 L1203.99 80.3051 Q1199.41 82.2496 1194.59 83.2681 Q1189.78 84.2866 1184.83 84.2866 Q1172.42 84.2866 1165.15 77.0644 Q1157.93 69.8422 1157.93 57.5275 Q1157.93 44.7961 1164.78 37.3424 Q1171.68 29.8424 1183.34 29.8424 Q1193.81 29.8424 1199.87 36.6017 Q1205.98 43.3146 1205.98 54.8886 M1197.47 52.3886 Q1197.37 45.3979 1193.53 41.2313 Q1189.73 37.0646 1183.44 37.0646 Q1176.31 37.0646 1172 41.0924 Q1167.74 45.1201 1167.1 52.4349 L1197.47 52.3886 Z\" fill=\"#000000\" fill-rule=\"nonzero\" fill-opacity=\"1\" /><path clip-path=\"url(#clip360)\" d=\"M1263.07 51.6479 L1263.07 82.944 L1254.55 82.944 L1254.55 51.9256 Q1254.55 44.5646 1251.68 40.9072 Q1248.81 37.2498 1243.07 37.2498 Q1236.17 37.2498 1232.19 41.6479 Q1228.21 46.046 1228.21 53.6386 L1228.21 82.944 L1219.64 82.944 L1219.64 31.0924 L1228.21 31.0924 L1228.21 39.1479 Q1231.26 34.472 1235.38 32.1572 Q1239.55 29.8424 1244.97 29.8424 Q1253.9 29.8424 1258.48 35.398 Q1263.07 40.9072 1263.07 51.6479 Z\" fill=\"#000000\" fill-rule=\"nonzero\" fill-opacity=\"1\" /><path clip-path=\"url(#clip360)\" d=\"M1288.48 16.3703 L1288.48 31.0924 L1306.03 31.0924 L1306.03 37.7128 L1288.48 37.7128 L1288.48 65.8608 Q1288.48 72.2033 1290.2 74.0089 Q1291.96 75.8144 1297.28 75.8144 L1306.03 75.8144 L1306.03 82.944 L1297.28 82.944 Q1287.42 82.944 1283.67 79.2866 Q1279.92 75.5829 1279.92 65.8608 L1279.92 37.7128 L1273.67 37.7128 L1273.67 31.0924 L1279.92 31.0924 L1279.92 16.3703 L1288.48 16.3703 Z\" fill=\"#000000\" fill-rule=\"nonzero\" fill-opacity=\"1\" /><path clip-path=\"url(#clip360)\" d=\"M1340.8 56.8793 Q1330.47 56.8793 1326.49 59.2404 Q1322.51 61.6015 1322.51 67.2959 Q1322.51 71.8329 1325.47 74.5181 Q1328.48 77.157 1333.62 77.157 Q1340.71 77.157 1344.96 72.157 Q1349.27 67.1108 1349.27 58.7775 L1349.27 56.8793 L1340.8 56.8793 M1357.79 53.3608 L1357.79 82.944 L1349.27 82.944 L1349.27 75.0737 Q1346.35 79.7959 1342 82.0644 Q1337.65 84.2866 1331.35 84.2866 Q1323.39 84.2866 1318.67 79.8422 Q1313.99 75.3514 1313.99 67.8515 Q1313.99 59.1015 1319.83 54.6571 Q1325.71 50.2127 1337.33 50.2127 L1349.27 50.2127 L1349.27 49.3794 Q1349.27 43.4998 1345.38 40.3053 Q1341.54 37.0646 1334.55 37.0646 Q1330.1 37.0646 1325.89 38.1294 Q1321.68 39.1942 1317.79 41.3239 L1317.79 33.4535 Q1322.46 31.648 1326.86 30.7684 Q1331.26 29.8424 1335.43 29.8424 Q1346.68 29.8424 1352.23 35.6757 Q1357.79 41.509 1357.79 53.3608 Z\" fill=\"#000000\" fill-rule=\"nonzero\" fill-opacity=\"1\" /><path clip-path=\"url(#clip360)\" d=\"M1383.76 16.3703 L1383.76 31.0924 L1401.31 31.0924 L1401.31 37.7128 L1383.76 37.7128 L1383.76 65.8608 Q1383.76 72.2033 1385.47 74.0089 Q1387.23 75.8144 1392.56 75.8144 L1401.31 75.8144 L1401.31 82.944 L1392.56 82.944 Q1382.7 82.944 1378.95 79.2866 Q1375.2 75.5829 1375.2 65.8608 L1375.2 37.7128 L1368.95 37.7128 L1368.95 31.0924 L1375.2 31.0924 L1375.2 16.3703 L1383.76 16.3703 Z\" fill=\"#000000\" fill-rule=\"nonzero\" fill-opacity=\"1\" /><path clip-path=\"url(#clip360)\" d=\"M1412.51 31.0924 L1421.03 31.0924 L1421.03 82.944 L1412.51 82.944 L1412.51 31.0924 M1412.51 10.9073 L1421.03 10.9073 L1421.03 21.6943 L1412.51 21.6943 L1412.51 10.9073 Z\" fill=\"#000000\" fill-rule=\"nonzero\" fill-opacity=\"1\" /><path clip-path=\"url(#clip360)\" d=\"M1458.95 37.0646 Q1452.09 37.0646 1448.11 42.435 Q1444.13 47.759 1444.13 57.0645 Q1444.13 66.37 1448.07 71.7404 Q1452.05 77.0644 1458.95 77.0644 Q1465.75 77.0644 1469.73 71.6941 Q1473.71 66.3237 1473.71 57.0645 Q1473.71 47.8516 1469.73 42.4813 Q1465.75 37.0646 1458.95 37.0646 M1458.95 29.8424 Q1470.06 29.8424 1476.4 37.0646 Q1482.74 44.2868 1482.74 57.0645 Q1482.74 69.7959 1476.4 77.0644 Q1470.06 84.2866 1458.95 84.2866 Q1447.79 84.2866 1441.45 77.0644 Q1435.15 69.7959 1435.15 57.0645 Q1435.15 44.2868 1441.45 37.0646 Q1447.79 29.8424 1458.95 29.8424 Z\" fill=\"#000000\" fill-rule=\"nonzero\" fill-opacity=\"1\" /><path clip-path=\"url(#clip360)\" d=\"M1539.96 51.6479 L1539.96 82.944 L1531.44 82.944 L1531.44 51.9256 Q1531.44 44.5646 1528.57 40.9072 Q1525.7 37.2498 1519.96 37.2498 Q1513.07 37.2498 1509.08 41.6479 Q1505.1 46.046 1505.1 53.6386 L1505.1 82.944 L1496.54 82.944 L1496.54 31.0924 L1505.1 31.0924 L1505.1 39.1479 Q1508.16 34.472 1512.28 32.1572 Q1516.45 29.8424 1521.86 29.8424 Q1530.8 29.8424 1535.38 35.398 Q1539.96 40.9072 1539.96 51.6479 Z\" fill=\"#000000\" fill-rule=\"nonzero\" fill-opacity=\"1\" /><polyline clip-path=\"url(#clip360)\" style=\"stroke:#000000; stroke-linecap:round; stroke-linejoin:round; stroke-width:4; stroke-opacity:1; fill:none\" points=\"2196.04,1423.18 2196.04,127.244 \"/>\n",
              "<polyline clip-path=\"url(#clip360)\" style=\"stroke:#000000; stroke-linecap:round; stroke-linejoin:round; stroke-width:4; stroke-opacity:1; fill:none\" points=\"2196.04,1423.18 2177.14,1423.18 \"/>\n",
              "<polyline clip-path=\"url(#clip360)\" style=\"stroke:#000000; stroke-linecap:round; stroke-linejoin:round; stroke-width:4; stroke-opacity:1; fill:none\" points=\"2196.04,1042.02 2177.14,1042.02 \"/>\n",
              "<polyline clip-path=\"url(#clip360)\" style=\"stroke:#000000; stroke-linecap:round; stroke-linejoin:round; stroke-width:4; stroke-opacity:1; fill:none\" points=\"2196.04,660.865 2177.14,660.865 \"/>\n",
              "<polyline clip-path=\"url(#clip360)\" style=\"stroke:#000000; stroke-linecap:round; stroke-linejoin:round; stroke-width:4; stroke-opacity:1; fill:none\" points=\"2196.04,279.707 2177.14,279.707 \"/>\n",
              "<path clip-path=\"url(#clip360)\" d=\"M2243.98 1408.98 Q2240.37 1408.98 2238.54 1412.54 Q2236.74 1416.08 2236.74 1423.21 Q2236.74 1430.32 2238.54 1433.89 Q2240.37 1437.43 2243.98 1437.43 Q2247.62 1437.43 2249.42 1433.89 Q2251.25 1430.32 2251.25 1423.21 Q2251.25 1416.08 2249.42 1412.54 Q2247.62 1408.98 2243.98 1408.98 M2243.98 1405.27 Q2249.79 1405.27 2252.85 1409.88 Q2255.93 1414.46 2255.93 1423.21 Q2255.93 1431.94 2252.85 1436.55 Q2249.79 1441.13 2243.98 1441.13 Q2238.17 1441.13 2235.09 1436.55 Q2232.04 1431.94 2232.04 1423.21 Q2232.04 1414.46 2235.09 1409.88 Q2238.17 1405.27 2243.98 1405.27 Z\" fill=\"#000000\" fill-rule=\"nonzero\" fill-opacity=\"1\" /><path clip-path=\"url(#clip360)\" d=\"M2232.71 1055.37 L2240.35 1055.37 L2240.35 1029 L2232.04 1030.67 L2232.04 1026.41 L2240.3 1024.74 L2244.98 1024.74 L2244.98 1055.37 L2252.62 1055.37 L2252.62 1059.3 L2232.71 1059.3 L2232.71 1055.37 Z\" fill=\"#000000\" fill-rule=\"nonzero\" fill-opacity=\"1\" /><path clip-path=\"url(#clip360)\" d=\"M2272.06 1027.82 Q2268.45 1027.82 2266.62 1031.39 Q2264.81 1034.93 2264.81 1042.06 Q2264.81 1049.16 2266.62 1052.73 Q2268.45 1056.27 2272.06 1056.27 Q2275.69 1056.27 2277.5 1052.73 Q2279.33 1049.16 2279.33 1042.06 Q2279.33 1034.93 2277.5 1031.39 Q2275.69 1027.82 2272.06 1027.82 M2272.06 1024.12 Q2277.87 1024.12 2280.93 1028.72 Q2284 1033.31 2284 1042.06 Q2284 1050.78 2280.93 1055.39 Q2277.87 1059.97 2272.06 1059.97 Q2266.25 1059.97 2263.17 1055.39 Q2260.11 1050.78 2260.11 1042.06 Q2260.11 1033.31 2263.17 1028.72 Q2266.25 1024.12 2272.06 1024.12 Z\" fill=\"#000000\" fill-rule=\"nonzero\" fill-opacity=\"1\" /><path clip-path=\"url(#clip360)\" d=\"M2237.66 674.21 L2253.98 674.21 L2253.98 678.145 L2232.04 678.145 L2232.04 674.21 Q2234.7 671.455 2239.28 666.825 Q2243.89 662.173 2245.07 660.83 Q2247.31 658.307 2248.19 656.571 Q2249.1 654.811 2249.1 653.122 Q2249.1 650.367 2247.15 648.631 Q2245.23 646.895 2242.13 646.895 Q2239.93 646.895 2237.48 647.659 Q2235.05 648.423 2232.27 649.974 L2232.27 645.251 Q2235.09 644.117 2237.55 643.538 Q2240 642.96 2242.04 642.96 Q2247.41 642.96 2250.6 645.645 Q2253.8 648.33 2253.8 652.821 Q2253.8 654.95 2252.99 656.872 Q2252.2 658.77 2250.09 661.362 Q2249.51 662.034 2246.41 665.251 Q2243.31 668.446 2237.66 674.21 Z\" fill=\"#000000\" fill-rule=\"nonzero\" fill-opacity=\"1\" /><path clip-path=\"url(#clip360)\" d=\"M2273.8 646.663 Q2270.18 646.663 2268.36 650.228 Q2266.55 653.77 2266.55 660.899 Q2266.55 668.006 2268.36 671.571 Q2270.18 675.112 2273.8 675.112 Q2277.43 675.112 2279.24 671.571 Q2281.06 668.006 2281.06 660.899 Q2281.06 653.77 2279.24 650.228 Q2277.43 646.663 2273.8 646.663 M2273.8 642.96 Q2279.61 642.96 2282.66 647.566 Q2285.74 652.149 2285.74 660.899 Q2285.74 669.626 2282.66 674.233 Q2279.61 678.816 2273.8 678.816 Q2267.99 678.816 2264.91 674.233 Q2261.85 669.626 2261.85 660.899 Q2261.85 652.149 2264.91 647.566 Q2267.99 642.96 2273.8 642.96 Z\" fill=\"#000000\" fill-rule=\"nonzero\" fill-opacity=\"1\" /><path clip-path=\"url(#clip360)\" d=\"M2247.66 278.353 Q2251.02 279.071 2252.89 281.339 Q2254.79 283.608 2254.79 286.941 Q2254.79 292.057 2251.27 294.858 Q2247.75 297.658 2241.27 297.658 Q2239.1 297.658 2236.78 297.219 Q2234.49 296.802 2232.04 295.945 L2232.04 291.432 Q2233.98 292.566 2236.3 293.145 Q2238.61 293.723 2241.13 293.723 Q2245.53 293.723 2247.82 291.987 Q2250.14 290.251 2250.14 286.941 Q2250.14 283.885 2247.99 282.172 Q2245.86 280.436 2242.04 280.436 L2238.01 280.436 L2238.01 276.594 L2242.22 276.594 Q2245.67 276.594 2247.5 275.228 Q2249.33 273.839 2249.33 271.247 Q2249.33 268.584 2247.43 267.172 Q2245.55 265.737 2242.04 265.737 Q2240.12 265.737 2237.92 266.154 Q2235.72 266.571 2233.08 267.45 L2233.08 263.284 Q2235.74 262.543 2238.05 262.172 Q2240.39 261.802 2242.45 261.802 Q2247.78 261.802 2250.88 264.233 Q2253.98 266.64 2253.98 270.76 Q2253.98 273.631 2252.34 275.621 Q2250.69 277.589 2247.66 278.353 Z\" fill=\"#000000\" fill-rule=\"nonzero\" fill-opacity=\"1\" /><path clip-path=\"url(#clip360)\" d=\"M2273.66 265.506 Q2270.05 265.506 2268.22 269.071 Q2266.41 272.612 2266.41 279.742 Q2266.41 286.848 2268.22 290.413 Q2270.05 293.955 2273.66 293.955 Q2277.29 293.955 2279.1 290.413 Q2280.93 286.848 2280.93 279.742 Q2280.93 272.612 2279.1 269.071 Q2277.29 265.506 2273.66 265.506 M2273.66 261.802 Q2279.47 261.802 2282.52 266.409 Q2285.6 270.992 2285.6 279.742 Q2285.6 288.469 2282.52 293.075 Q2279.47 297.658 2273.66 297.658 Q2267.85 297.658 2264.77 293.075 Q2261.71 288.469 2261.71 279.742 Q2261.71 270.992 2264.77 266.409 Q2267.85 261.802 2273.66 261.802 Z\" fill=\"#000000\" fill-rule=\"nonzero\" fill-opacity=\"1\" /><path clip-path=\"url(#clip360)\" d=\"M2331.24 925.65 L2331.24 919.22 L2378.76 919.22 L2378.76 925.65 L2331.24 925.65 Z\" fill=\"#000000\" fill-rule=\"nonzero\" fill-opacity=\"1\" /><path clip-path=\"url(#clip360)\" d=\"M2332.99 900.887 L2343.12 900.887 L2343.12 888.824 L2347.67 888.824 L2347.67 900.887 L2367.02 900.887 Q2371.38 900.887 2372.62 899.709 Q2373.86 898.5 2373.86 894.84 L2373.86 888.824 L2378.76 888.824 L2378.76 894.84 Q2378.76 901.619 2376.25 904.197 Q2373.7 906.775 2367.02 906.775 L2347.67 906.775 L2347.67 911.072 L2343.12 911.072 L2343.12 906.775 L2332.99 906.775 L2332.99 900.887 Z\" fill=\"#000000\" fill-rule=\"nonzero\" fill-opacity=\"1\" /><path clip-path=\"url(#clip360)\" d=\"M2359.48 850.63 L2362.34 850.63 L2362.34 877.557 Q2368.39 877.175 2371.57 873.928 Q2374.72 870.65 2374.72 864.825 Q2374.72 861.451 2373.89 858.3 Q2373.07 855.118 2371.41 851.998 L2376.95 851.998 Q2378.29 855.149 2378.99 858.459 Q2379.69 861.77 2379.69 865.175 Q2379.69 873.705 2374.72 878.702 Q2369.76 883.668 2361.29 883.668 Q2352.54 883.668 2347.41 878.957 Q2342.26 874.215 2342.26 866.194 Q2342.26 859.001 2346.9 854.831 Q2351.52 850.63 2359.48 850.63 M2357.76 856.486 Q2352.95 856.55 2350.09 859.192 Q2347.22 861.801 2347.22 866.13 Q2347.22 871.032 2349.99 873.992 Q2352.76 876.92 2357.79 877.366 L2357.76 856.486 Z\" fill=\"#000000\" fill-rule=\"nonzero\" fill-opacity=\"1\" /><path clip-path=\"url(#clip360)\" d=\"M2348.59 820.361 Q2348.02 821.347 2347.76 822.525 Q2347.48 823.671 2347.48 825.071 Q2347.48 830.037 2350.72 832.71 Q2353.94 835.352 2359.99 835.352 L2378.76 835.352 L2378.76 841.24 L2343.12 841.24 L2343.12 835.352 L2348.65 835.352 Q2345.41 833.506 2343.85 830.546 Q2342.26 827.586 2342.26 823.353 Q2342.26 822.748 2342.35 822.016 Q2342.42 821.284 2342.57 820.393 L2348.59 820.361 Z\" fill=\"#000000\" fill-rule=\"nonzero\" fill-opacity=\"1\" /><path clip-path=\"url(#clip360)\" d=\"M2360.84 798.017 Q2360.84 805.115 2362.47 807.852 Q2364.09 810.589 2368.01 810.589 Q2371.12 810.589 2372.97 808.552 Q2374.79 806.484 2374.79 802.951 Q2374.79 798.081 2371.35 795.153 Q2367.88 792.192 2362.15 792.192 L2360.84 792.192 L2360.84 798.017 M2358.43 786.336 L2378.76 786.336 L2378.76 792.192 L2373.35 792.192 Q2376.6 794.198 2378.16 797.19 Q2379.69 800.181 2379.69 804.51 Q2379.69 809.985 2376.63 813.231 Q2373.54 816.446 2368.39 816.446 Q2362.37 816.446 2359.32 812.435 Q2356.26 808.393 2356.26 800.404 L2356.26 792.192 L2355.69 792.192 Q2351.65 792.192 2349.45 794.866 Q2347.22 797.508 2347.22 802.314 Q2347.22 805.37 2347.95 808.266 Q2348.69 811.162 2350.15 813.836 L2344.74 813.836 Q2343.5 810.621 2342.89 807.598 Q2342.26 804.574 2342.26 801.709 Q2342.26 793.975 2346.27 790.155 Q2350.28 786.336 2358.43 786.336 Z\" fill=\"#000000\" fill-rule=\"nonzero\" fill-opacity=\"1\" /><path clip-path=\"url(#clip360)\" d=\"M2332.99 768.48 L2343.12 768.48 L2343.12 756.417 L2347.67 756.417 L2347.67 768.48 L2367.02 768.48 Q2371.38 768.48 2372.62 767.303 Q2373.86 766.093 2373.86 762.433 L2373.86 756.417 L2378.76 756.417 L2378.76 762.433 Q2378.76 769.212 2376.25 771.79 Q2373.7 774.369 2367.02 774.369 L2347.67 774.369 L2347.67 778.665 L2343.12 778.665 L2343.12 774.369 L2332.99 774.369 L2332.99 768.48 Z\" fill=\"#000000\" fill-rule=\"nonzero\" fill-opacity=\"1\" /><path clip-path=\"url(#clip360)\" d=\"M2343.12 748.715 L2343.12 742.858 L2378.76 742.858 L2378.76 748.715 L2343.12 748.715 M2329.24 748.715 L2329.24 742.858 L2336.65 742.858 L2336.65 748.715 L2329.24 748.715 Z\" fill=\"#000000\" fill-rule=\"nonzero\" fill-opacity=\"1\" /><path clip-path=\"url(#clip360)\" d=\"M2347.22 716.791 Q2347.22 721.501 2350.91 724.239 Q2354.57 726.976 2360.97 726.976 Q2367.37 726.976 2371.06 724.27 Q2374.72 721.533 2374.72 716.791 Q2374.72 712.112 2371.03 709.375 Q2367.34 706.637 2360.97 706.637 Q2354.64 706.637 2350.95 709.375 Q2347.22 712.112 2347.22 716.791 M2342.26 716.791 Q2342.26 709.152 2347.22 704.791 Q2352.19 700.431 2360.97 700.431 Q2369.72 700.431 2374.72 704.791 Q2379.69 709.152 2379.69 716.791 Q2379.69 724.461 2374.72 728.822 Q2369.72 733.151 2360.97 733.151 Q2352.19 733.151 2347.22 728.822 Q2342.26 724.461 2342.26 716.791 Z\" fill=\"#000000\" fill-rule=\"nonzero\" fill-opacity=\"1\" /><path clip-path=\"url(#clip360)\" d=\"M2357.25 661.091 L2378.76 661.091 L2378.76 666.947 L2357.44 666.947 Q2352.38 666.947 2349.86 668.921 Q2347.35 670.894 2347.35 674.841 Q2347.35 679.583 2350.37 682.32 Q2353.4 685.058 2358.62 685.058 L2378.76 685.058 L2378.76 690.946 L2343.12 690.946 L2343.12 685.058 L2348.65 685.058 Q2345.44 682.957 2343.85 680.124 Q2342.26 677.26 2342.26 673.536 Q2342.26 667.393 2346.08 664.242 Q2349.86 661.091 2357.25 661.091 Z\" fill=\"#000000\" fill-rule=\"nonzero\" fill-opacity=\"1\" /><path clip-path=\"url(#clip360)\" d=\"M2344.17 626.684 L2349.7 626.684 Q2348.43 629.167 2347.79 631.84 Q2347.16 634.514 2347.16 637.379 Q2347.16 641.739 2348.49 643.935 Q2349.83 646.1 2352.51 646.1 Q2354.54 646.1 2355.72 644.54 Q2356.87 642.98 2357.92 638.27 L2358.36 636.265 Q2359.7 630.026 2362.15 627.416 Q2364.57 624.774 2368.93 624.774 Q2373.89 624.774 2376.79 628.721 Q2379.69 632.636 2379.69 639.511 Q2379.69 642.376 2379.11 645.495 Q2378.57 648.582 2377.46 652.02 L2371.41 652.02 Q2373.1 648.773 2373.96 645.622 Q2374.79 642.471 2374.79 639.384 Q2374.79 635.246 2373.38 633.018 Q2371.95 630.79 2369.37 630.79 Q2366.99 630.79 2365.71 632.413 Q2364.44 634.005 2363.26 639.447 L2362.79 641.484 Q2361.64 646.927 2359.28 649.346 Q2356.9 651.765 2352.76 651.765 Q2347.73 651.765 2344.99 648.2 Q2342.26 644.635 2342.26 638.079 Q2342.26 634.832 2342.73 631.968 Q2343.21 629.103 2344.17 626.684 Z\" fill=\"#000000\" fill-rule=\"nonzero\" fill-opacity=\"1\" /><path clip-path=\"url(#clip362)\" d=\"M275.796 644.865 L259.796 660.865 L275.796 676.865 L291.796 660.865 L275.796 644.865 Z\" fill=\"#008000\" fill-rule=\"evenodd\" fill-opacity=\"1\" stroke=\"#000000\" stroke-opacity=\"1\" stroke-width=\"3.2\"/>\n",
              "<path clip-path=\"url(#clip362)\" d=\"M373.917 644.865 L357.917 660.865 L373.917 676.865 L389.917 660.865 L373.917 644.865 Z\" fill=\"#008000\" fill-rule=\"evenodd\" fill-opacity=\"1\" stroke=\"#000000\" stroke-opacity=\"1\" stroke-width=\"3.2\"/>\n",
              "<path clip-path=\"url(#clip362)\" d=\"M472.039 454.286 L456.039 470.286 L472.039 486.286 L488.039 470.286 L472.039 454.286 Z\" fill=\"#008000\" fill-rule=\"evenodd\" fill-opacity=\"1\" stroke=\"#000000\" stroke-opacity=\"1\" stroke-width=\"3.2\"/>\n",
              "<path clip-path=\"url(#clip362)\" d=\"M570.161 568.633 L554.161 584.633 L570.161 600.633 L586.161 584.633 L570.161 568.633 Z\" fill=\"#008000\" fill-rule=\"evenodd\" fill-opacity=\"1\" stroke=\"#000000\" stroke-opacity=\"1\" stroke-width=\"3.2\"/>\n",
              "<path clip-path=\"url(#clip362)\" d=\"M668.282 721.096 L652.282 737.096 L668.282 753.096 L684.282 737.096 L668.282 721.096 Z\" fill=\"#008000\" fill-rule=\"evenodd\" fill-opacity=\"1\" stroke=\"#000000\" stroke-opacity=\"1\" stroke-width=\"3.2\"/>\n",
              "<path clip-path=\"url(#clip362)\" d=\"M766.404 759.212 L750.404 775.212 L766.404 791.212 L782.404 775.212 L766.404 759.212 Z\" fill=\"#008000\" fill-rule=\"evenodd\" fill-opacity=\"1\" stroke=\"#000000\" stroke-opacity=\"1\" stroke-width=\"3.2\"/>\n",
              "<path clip-path=\"url(#clip362)\" d=\"M864.526 606.749 L848.526 622.749 L864.526 638.749 L880.526 622.749 L864.526 606.749 Z\" fill=\"#008000\" fill-rule=\"evenodd\" fill-opacity=\"1\" stroke=\"#000000\" stroke-opacity=\"1\" stroke-width=\"3.2\"/>\n",
              "<path clip-path=\"url(#clip362)\" d=\"M962.647 378.054 L946.647 394.054 L962.647 410.054 L978.647 394.054 L962.647 378.054 Z\" fill=\"#008000\" fill-rule=\"evenodd\" fill-opacity=\"1\" stroke=\"#000000\" stroke-opacity=\"1\" stroke-width=\"3.2\"/>\n",
              "<path clip-path=\"url(#clip362)\" d=\"M1060.77 644.865 L1044.77 660.865 L1060.77 676.865 L1076.77 660.865 L1060.77 644.865 Z\" fill=\"#008000\" fill-rule=\"evenodd\" fill-opacity=\"1\" stroke=\"#000000\" stroke-opacity=\"1\" stroke-width=\"3.2\"/>\n",
              "<path clip-path=\"url(#clip362)\" d=\"M1158.89 530.517 L1142.89 546.517 L1158.89 562.517 L1174.89 546.517 L1158.89 530.517 Z\" fill=\"#008000\" fill-rule=\"evenodd\" fill-opacity=\"1\" stroke=\"#000000\" stroke-opacity=\"1\" stroke-width=\"3.2\"/>\n",
              "<path clip-path=\"url(#clip362)\" d=\"M1257.01 149.36 L1241.01 165.36 L1257.01 181.36 L1273.01 165.36 L1257.01 149.36 Z\" fill=\"#008000\" fill-rule=\"evenodd\" fill-opacity=\"1\" stroke=\"#000000\" stroke-opacity=\"1\" stroke-width=\"3.2\"/>\n",
              "<path clip-path=\"url(#clip362)\" d=\"M1355.13 339.939 L1339.13 355.939 L1355.13 371.939 L1371.13 355.939 L1355.13 339.939 Z\" fill=\"#008000\" fill-rule=\"evenodd\" fill-opacity=\"1\" stroke=\"#000000\" stroke-opacity=\"1\" stroke-width=\"3.2\"/>\n",
              "<path clip-path=\"url(#clip362)\" d=\"M1453.26 339.939 L1437.26 355.939 L1453.26 371.939 L1469.26 355.939 L1453.26 339.939 Z\" fill=\"#008000\" fill-rule=\"evenodd\" fill-opacity=\"1\" stroke=\"#000000\" stroke-opacity=\"1\" stroke-width=\"3.2\"/>\n",
              "<path clip-path=\"url(#clip362)\" d=\"M1551.38 187.476 L1535.38 203.476 L1551.38 219.476 L1567.38 203.476 L1551.38 187.476 Z\" fill=\"#008000\" fill-rule=\"evenodd\" fill-opacity=\"1\" stroke=\"#000000\" stroke-opacity=\"1\" stroke-width=\"3.2\"/>\n",
              "<path clip-path=\"url(#clip362)\" d=\"M1649.5 530.517 L1633.5 546.517 L1649.5 562.517 L1665.5 546.517 L1649.5 530.517 Z\" fill=\"#008000\" fill-rule=\"evenodd\" fill-opacity=\"1\" stroke=\"#000000\" stroke-opacity=\"1\" stroke-width=\"3.2\"/>\n",
              "<path clip-path=\"url(#clip362)\" d=\"M1747.62 606.749 L1731.62 622.749 L1747.62 638.749 L1763.62 622.749 L1747.62 606.749 Z\" fill=\"#008000\" fill-rule=\"evenodd\" fill-opacity=\"1\" stroke=\"#000000\" stroke-opacity=\"1\" stroke-width=\"3.2\"/>\n",
              "<path clip-path=\"url(#clip362)\" d=\"M1845.74 149.36 L1829.74 165.36 L1845.74 181.36 L1861.74 165.36 L1845.74 149.36 Z\" fill=\"#008000\" fill-rule=\"evenodd\" fill-opacity=\"1\" stroke=\"#000000\" stroke-opacity=\"1\" stroke-width=\"3.2\"/>\n",
              "<path clip-path=\"url(#clip362)\" d=\"M1943.86 454.286 L1927.86 470.286 L1943.86 486.286 L1959.86 470.286 L1943.86 454.286 Z\" fill=\"#008000\" fill-rule=\"evenodd\" fill-opacity=\"1\" stroke=\"#000000\" stroke-opacity=\"1\" stroke-width=\"3.2\"/>\n",
              "<path clip-path=\"url(#clip362)\" d=\"M2041.99 492.402 L2025.99 508.402 L2041.99 524.402 L2057.99 508.402 L2041.99 492.402 Z\" fill=\"#008000\" fill-rule=\"evenodd\" fill-opacity=\"1\" stroke=\"#000000\" stroke-opacity=\"1\" stroke-width=\"3.2\"/>\n",
              "<path clip-path=\"url(#clip362)\" d=\"M2140.11 530.517 L2124.11 546.517 L2140.11 562.517 L2156.11 546.517 L2140.11 530.517 Z\" fill=\"#008000\" fill-rule=\"evenodd\" fill-opacity=\"1\" stroke=\"#000000\" stroke-opacity=\"1\" stroke-width=\"3.2\"/>\n",
              "<path clip-path=\"url(#clip360)\" d=\"M1723.95 1215.83 L2140.39 1215.83 L2140.39 1112.15 L1723.95 1112.15  Z\" fill=\"#ffffff\" fill-rule=\"evenodd\" fill-opacity=\"1\"/>\n",
              "<polyline clip-path=\"url(#clip360)\" style=\"stroke:#000000; stroke-linecap:round; stroke-linejoin:round; stroke-width:4; stroke-opacity:1; fill:none\" points=\"1723.95,1215.83 2140.39,1215.83 2140.39,1112.15 1723.95,1112.15 1723.95,1215.83 \"/>\n",
              "<path clip-path=\"url(#clip360)\" d=\"M1811.78 1141.24 L1789.03 1163.99 L1811.78 1186.75 L1834.54 1163.99 L1811.78 1141.24 Z\" fill=\"#008000\" fill-rule=\"evenodd\" fill-opacity=\"1\" stroke=\"#000000\" stroke-opacity=\"1\" stroke-width=\"4.55111\"/>\n",
              "<path clip-path=\"url(#clip360)\" d=\"M1899.61 1146.71 L1904.29 1146.71 L1904.29 1181.27 L1899.61 1181.27 L1899.61 1146.71 Z\" fill=\"#000000\" fill-rule=\"nonzero\" fill-opacity=\"1\" /><path clip-path=\"url(#clip360)\" d=\"M1917.62 1147.99 L1917.62 1155.35 L1926.39 1155.35 L1926.39 1158.66 L1917.62 1158.66 L1917.62 1172.73 Q1917.62 1175.9 1918.48 1176.81 Q1919.36 1177.71 1922.02 1177.71 L1926.39 1177.71 L1926.39 1181.27 L1922.02 1181.27 Q1917.09 1181.27 1915.21 1179.44 Q1913.34 1177.59 1913.34 1172.73 L1913.34 1158.66 L1910.21 1158.66 L1910.21 1155.35 L1913.34 1155.35 L1913.34 1147.99 L1917.62 1147.99 Z\" fill=\"#000000\" fill-rule=\"nonzero\" fill-opacity=\"1\" /><path clip-path=\"url(#clip360)\" d=\"M1954.17 1167.24 L1954.17 1169.33 L1934.59 1169.33 Q1934.87 1173.73 1937.23 1176.04 Q1939.61 1178.33 1943.85 1178.33 Q1946.3 1178.33 1948.59 1177.73 Q1950.91 1177.13 1953.18 1175.93 L1953.18 1179.95 Q1950.88 1180.93 1948.48 1181.43 Q1946.07 1181.94 1943.59 1181.94 Q1937.39 1181.94 1933.75 1178.33 Q1930.14 1174.72 1930.14 1168.56 Q1930.14 1162.2 1933.57 1158.47 Q1937.02 1154.72 1942.85 1154.72 Q1948.08 1154.72 1951.12 1158.1 Q1954.17 1161.46 1954.17 1167.24 M1949.91 1165.99 Q1949.87 1162.5 1947.94 1160.42 Q1946.05 1158.33 1942.9 1158.33 Q1939.33 1158.33 1937.18 1160.35 Q1935.05 1162.36 1934.73 1166.02 L1949.91 1165.99 Z\" fill=\"#000000\" fill-rule=\"nonzero\" fill-opacity=\"1\" /><path clip-path=\"url(#clip360)\" d=\"M1976.18 1159.33 Q1975.47 1158.91 1974.61 1158.73 Q1973.78 1158.52 1972.76 1158.52 Q1969.15 1158.52 1967.2 1160.88 Q1965.28 1163.22 1965.28 1167.62 L1965.28 1181.27 L1961 1181.27 L1961 1155.35 L1965.28 1155.35 L1965.28 1159.37 Q1966.62 1157.01 1968.78 1155.88 Q1970.93 1154.72 1974.01 1154.72 Q1974.45 1154.72 1974.98 1154.79 Q1975.51 1154.84 1976.16 1154.95 L1976.18 1159.33 Z\" fill=\"#000000\" fill-rule=\"nonzero\" fill-opacity=\"1\" /><path clip-path=\"url(#clip360)\" d=\"M1992.43 1168.24 Q1987.27 1168.24 1985.28 1169.42 Q1983.29 1170.6 1983.29 1173.45 Q1983.29 1175.72 1984.77 1177.06 Q1986.28 1178.38 1988.85 1178.38 Q1992.39 1178.38 1994.52 1175.88 Q1996.67 1173.36 1996.67 1169.19 L1996.67 1168.24 L1992.43 1168.24 M2000.93 1166.48 L2000.93 1181.27 L1996.67 1181.27 L1996.67 1177.34 Q1995.21 1179.7 1993.04 1180.83 Q1990.86 1181.94 1987.71 1181.94 Q1983.73 1181.94 1981.37 1179.72 Q1979.03 1177.48 1979.03 1173.73 Q1979.03 1169.35 1981.95 1167.13 Q1984.89 1164.91 1990.7 1164.91 L1996.67 1164.91 L1996.67 1164.49 Q1996.67 1161.55 1994.73 1159.95 Q1992.8 1158.33 1989.31 1158.33 Q1987.09 1158.33 1984.98 1158.87 Q1982.87 1159.4 1980.93 1160.46 L1980.93 1156.53 Q1983.27 1155.62 1985.47 1155.18 Q1987.67 1154.72 1989.75 1154.72 Q1995.37 1154.72 1998.15 1157.64 Q2000.93 1160.56 2000.93 1166.48 Z\" fill=\"#000000\" fill-rule=\"nonzero\" fill-opacity=\"1\" /><path clip-path=\"url(#clip360)\" d=\"M2013.92 1147.99 L2013.92 1155.35 L2022.69 1155.35 L2022.69 1158.66 L2013.92 1158.66 L2013.92 1172.73 Q2013.92 1175.9 2014.77 1176.81 Q2015.65 1177.71 2018.31 1177.71 L2022.69 1177.71 L2022.69 1181.27 L2018.31 1181.27 Q2013.38 1181.27 2011.51 1179.44 Q2009.63 1177.59 2009.63 1172.73 L2009.63 1158.66 L2006.51 1158.66 L2006.51 1155.35 L2009.63 1155.35 L2009.63 1147.99 L2013.92 1147.99 Z\" fill=\"#000000\" fill-rule=\"nonzero\" fill-opacity=\"1\" /><path clip-path=\"url(#clip360)\" d=\"M2028.29 1155.35 L2032.55 1155.35 L2032.55 1181.27 L2028.29 1181.27 L2028.29 1155.35 M2028.29 1145.25 L2032.55 1145.25 L2032.55 1150.65 L2028.29 1150.65 L2028.29 1145.25 Z\" fill=\"#000000\" fill-rule=\"nonzero\" fill-opacity=\"1\" /><path clip-path=\"url(#clip360)\" d=\"M2051.51 1158.33 Q2048.08 1158.33 2046.09 1161.02 Q2044.1 1163.68 2044.1 1168.33 Q2044.1 1172.99 2046.07 1175.67 Q2048.06 1178.33 2051.51 1178.33 Q2054.91 1178.33 2056.9 1175.65 Q2058.89 1172.96 2058.89 1168.33 Q2058.89 1163.73 2056.9 1161.04 Q2054.91 1158.33 2051.51 1158.33 M2051.51 1154.72 Q2057.06 1154.72 2060.24 1158.33 Q2063.41 1161.94 2063.41 1168.33 Q2063.41 1174.7 2060.24 1178.33 Q2057.06 1181.94 2051.51 1181.94 Q2045.93 1181.94 2042.76 1178.33 Q2039.61 1174.7 2039.61 1168.33 Q2039.61 1161.94 2042.76 1158.33 Q2045.93 1154.72 2051.51 1154.72 Z\" fill=\"#000000\" fill-rule=\"nonzero\" fill-opacity=\"1\" /><path clip-path=\"url(#clip360)\" d=\"M2092.02 1165.62 L2092.02 1181.27 L2087.76 1181.27 L2087.76 1165.76 Q2087.76 1162.08 2086.32 1160.25 Q2084.89 1158.43 2082.02 1158.43 Q2078.57 1158.43 2076.58 1160.62 Q2074.59 1162.82 2074.59 1166.62 L2074.59 1181.27 L2070.3 1181.27 L2070.3 1155.35 L2074.59 1155.35 L2074.59 1159.37 Q2076.11 1157.04 2078.17 1155.88 Q2080.26 1154.72 2082.97 1154.72 Q2087.43 1154.72 2089.73 1157.5 Q2092.02 1160.25 2092.02 1165.62 Z\" fill=\"#000000\" fill-rule=\"nonzero\" fill-opacity=\"1\" /><path clip-path=\"url(#clip360)\" d=\"M2117.04 1156.11 L2117.04 1160.14 Q2115.23 1159.21 2113.29 1158.75 Q2111.35 1158.29 2109.26 1158.29 Q2106.09 1158.29 2104.49 1159.26 Q2102.92 1160.23 2102.92 1162.18 Q2102.92 1163.66 2104.05 1164.51 Q2105.19 1165.35 2108.61 1166.11 L2110.07 1166.43 Q2114.61 1167.41 2116.51 1169.19 Q2118.43 1170.95 2118.43 1174.12 Q2118.43 1177.73 2115.56 1179.84 Q2112.71 1181.94 2107.71 1181.94 Q2105.63 1181.94 2103.36 1181.53 Q2101.11 1181.13 2098.61 1180.32 L2098.61 1175.93 Q2100.98 1177.15 2103.27 1177.78 Q2105.56 1178.38 2107.8 1178.38 Q2110.81 1178.38 2112.43 1177.36 Q2114.05 1176.32 2114.05 1174.44 Q2114.05 1172.71 2112.87 1171.78 Q2111.72 1170.86 2107.76 1170 L2106.28 1169.65 Q2102.32 1168.82 2100.56 1167.11 Q2098.8 1165.37 2098.8 1162.36 Q2098.8 1158.7 2101.39 1156.71 Q2103.98 1154.72 2108.75 1154.72 Q2111.11 1154.72 2113.2 1155.07 Q2115.28 1155.42 2117.04 1156.11 Z\" fill=\"#000000\" fill-rule=\"nonzero\" fill-opacity=\"1\" /></svg>\n"
            ]
          },
          "metadata": {},
          "output_type": "display_data"
        }
      ],
      "source": [
        "function plot_augmentation(Y_feasible, Y_augmented, I_augmented, T_augmented)\n",
        "    plt = plot(;\n",
        "        plot_title = \"Augmentation\",\n",
        "    )\n",
        "\n",
        "    plot!(\n",
        "        plt, Y_feasible;\n",
        "        label       = \"Initial\",\n",
        "        color       = :blue,\n",
        "        markershape = :square,\n",
        "    )\n",
        "    plot!(\n",
        "        plt, Y_augmented;\n",
        "        label       = \"Augmented\",\n",
        "        color       = :orange,\n",
        "        markershape = :square,\n",
        "        ylabel      = \"Objective Value\",\n",
        "        xlabel      = \"Solutions\",\n",
        "        legend      = (0.1, 0.2),\n",
        "    )\n",
        "\n",
        "    scatter!(\n",
        "        twinx(plt), I_augmented;\n",
        "        label       = \"Iterations\",\n",
        "        color       = :green,\n",
        "        legend      = (0.85, 0.2),\n",
        "        markershape = :diamond,\n",
        "        ylabel      = \"Iterations\",\n",
        "        ylims       = (0, maximum(I_augmented) + 1),\n",
        "    )\n",
        "\n",
        "    return plt\n",
        "end\n",
        "\n",
        "plot_augmentation(Y_feasible, Y_augmented, I_augmented, T_augmented)"
      ]
    },
    {
      "attachments": {},
      "cell_type": "markdown",
      "metadata": {},
      "source": [
        "# References\n",
        "\n",
        "- [Julia Colab Notebook Template](https://colab.research.google.com/github/ageron/julia_notebooks/blob/master/Julia_Colab_Notebook_Template.ipynb)\n",
        "- [QuIPML22](https://github.com/bernalde/QuIPML22/blob/main/notebooks/Notebook%201%20-%20LP%20and%20IP.ipynb)"
      ]
    },
    {
      "attachments": {},
      "cell_type": "markdown",
      "metadata": {},
      "source": [
        "<a name=\"installation\" id=\"installation\"></a>\n",
        "\n",
        "# Installation\n",
        "\n",
        "## Colab Instructions\n",
        "\n",
        "If not in a Colab notebook, continue to the next section.\n",
        "\n",
        "1. Work on a copy of this notebook: _File_ > _Save a copy in Drive_ (you will need a Google account). Alternatively, you can download the notebook using _File_ > _Download .ipynb_, then upload it to [Colab](https://colab.research.google.com/).\n",
        "2. Execute the following cell (click on it and press Ctrl+Enter) to install Julia, IJulia and other required packages. This can take a couple of minutes.\n",
        "3. Reload this page (press Ctrl+R, or ⌘+R, or the F5 key) and continue to the next section.\n",
        "\n",
        "If your Colab Runtime gets reset (e.g., due to inactivity), repeat steps 2 and 3."
      ]
    },
    {
      "cell_type": "code",
      "execution_count": 18,
      "metadata": {},
      "outputs": [
        {
          "ename": "ErrorException",
          "evalue": "syntax: \"%\" is not a unary operator",
          "output_type": "error",
          "traceback": [
            "syntax: \"%\" is not a unary operator\n",
            "\n",
            "Stacktrace:\n",
            " [1] top-level scope\n",
            "   @ /mnt/c/Users/Pedro/gits/QUBO-notebooks/notebooks/3-GAMA.ipynb:1"
          ]
        }
      ],
      "source": [
        "%%shell\n",
        "\n",
        "bash <(curl -s \"https://raw.githubusercontent.com/pedromxavier/QUBO-notebooks/main/scripts/install-colab-julia.sh\")"
      ]
    },
    {
      "attachments": {},
      "cell_type": "markdown",
      "metadata": {},
      "source": [
        "## Validate Installation"
      ]
    },
    {
      "cell_type": "code",
      "execution_count": 19,
      "metadata": {},
      "outputs": [
        {
          "name": "stdout",
          "output_type": "stream",
          "text": [
            "Julia Version 1.9.1\n",
            "Commit 147bdf428cd (2023-06-07 08:27 UTC)\n",
            "Platform Info:\n",
            "  OS: Linux (x86_64-linux-gnu)\n",
            "  CPU: 16 × Intel(R) Core(TM) i7-10700F CPU @ 2.90GHz\n",
            "  WORD_SIZE: 64\n",
            "  LIBM: libopenlibm\n",
            "  LLVM: libLLVM-14.0.6 (ORCJIT, skylake)\n",
            "  Threads: 1 on 16 virtual cores\n",
            "Environment:\n",
            "  JULIA_NUM_THREADS = \n"
          ]
        }
      ],
      "source": [
        "versioninfo()"
      ]
    },
    {
      "attachments": {},
      "cell_type": "markdown",
      "metadata": {},
      "source": [
        "## Local Installation Instructions\n",
        "\n",
        "If you don't have a Julia installation yet, consider using [juliaup](https://github.com/JuliaLang/juliaup).\n",
        "Otherwise, run the next cell to install the necessary packages.\n",
        "\n",
        "### Install Julia Packages"
      ]
    },
    {
      "cell_type": "code",
      "execution_count": 20,
      "metadata": {},
      "outputs": [
        {
          "name": "stderr",
          "output_type": "stream",
          "text": [
            "\u001b[32m\u001b[1m  Activating\u001b[22m\u001b[39m project at `/mnt/c/Users/Pedro/gits/QUBO-notebooks/notebooks`\n"
          ]
        },
        {
          "name": "stderr",
          "output_type": "stream",
          "text": [
            "\u001b[32m\u001b[1m  No Changes\u001b[22m\u001b[39m to `/mnt/c/Users/Pedro/gits/QUBO-notebooks/notebooks/Project.toml`\n",
            "\u001b[32m\u001b[1m  No Changes\u001b[22m\u001b[39m to `/mnt/c/Users/Pedro/gits/QUBO-notebooks/notebooks/Manifest.toml`\n"
          ]
        }
      ],
      "source": [
        "import Pkg\n",
        "\n",
        "Pkg.activate(@__DIR__)\n",
        "Pkg.resolve()\n",
        "Pkg.instantiate(;io = devnull) # Suppress Output"
      ]
    },
    {
      "attachments": {},
      "cell_type": "markdown",
      "metadata": {},
      "source": [
        "<div align=\"center\">\n",
        "    <a href=\"#top\">🔝 Go back to the top 🔝</a>\n",
        "</div>"
      ]
    }
  ],
  "metadata": {
    "colab": {
      "include_colab_link": true,
      "provenance": []
    },
    "gpuClass": "standard",
    "kernelspec": {
      "display_name": "Julia 1.9.1",
      "language": "julia",
      "name": "julia-1.9"
    },
    "language_info": {
      "file_extension": ".jl",
      "mimetype": "application/julia",
      "name": "julia",
      "version": "1.9.1"
    }
  },
  "nbformat": 4,
  "nbformat_minor": 0
}
