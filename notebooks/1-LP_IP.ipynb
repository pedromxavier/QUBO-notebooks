{
  "cells": [
    {
      "attachments": {},
      "cell_type": "markdown",
      "metadata": {
        "colab_type": "text",
        "id": "view-in-github"
      },
      "source": [
        "# Linear and Integer Programming\n",
        "\n",
        "<div align=\"center\">\n",
        "    <img src=\"https://raw.githubusercontent.com/psrenergy/QUBO.jl/master/docs/src/assets/logo.svg\" width=\"400px\" alt=\"QUBO.jl\">\n",
        "    <br>\n",
        "    <a href=\"#installation\">⚙️ Installation Instructions ⚙️<a>\n",
        "    <br>\n",
        "    <br>\n",
        "    <a href=\"https://colab.research.google.com/github/pedromxavier/QUBO-notebooks/blob/main/julia-template.ipynb\" target=\"_parent\">\n",
        "        <img src=\"https://colab.research.google.com/assets/colab-badge.svg\" alt=\"Open In Colab\"/>\n",
        "    </a>\n",
        "</div>"
      ]
    },
    {
      "attachments": {},
      "cell_type": "markdown",
      "metadata": {},
      "source": [
        "## Introduction to Mathematical Programming\n",
        "\n",
        "### Modeling\n",
        "The solution to optimization problems requires the development of a mathematical model. Here we will model an example given in the lecture and see how an integer program can be solved practically.\n",
        "This example will use as modeling language **[JuMP](http://jump.dev/)**.\n",
        "This open-source Julia package provides flexible access to different solvers and a general modeling framework for linear and nonlinear integer programs.\n",
        "The examples solved here will make use of open-source solvers **[GLPK](https://www.gnu.org/software/glpk/)** and **[CLP/CBC](https://projects.coin-or.org/Cbc)** for linear and mixed-integer linear programming, **[IPOPT](https://coin-or.github.io/Ipopt/)** for interior point (non)linear programming, **[BONMIN](https://www.coin-or.org/Bonmin/)** for convex integer nonlinear programming, and **[COUENNE](https://projects.coin-or.org/Couenne)** for nonconvex (global) integer nonlinear programming."
      ]
    },
    {
      "attachments": {},
      "cell_type": "markdown",
      "metadata": {},
      "source": [
        "#### Problem statement\n",
        "\n",
        "Suppose there is a company that produces two different products, A and B, which can be sold at different values, \\$5.5 and \\$2.1 per unit, respectively.\n",
        "The company only counts with a single machine with electricity usage of at most 17kW/day. Producing each A and B consumes 8kW/day and 2kW/day, respectively.\n",
        "Besides, the company can only produce at most 2 more units of B than A per day."
      ]
    },
    {
      "attachments": {},
      "cell_type": "markdown",
      "metadata": {},
      "source": [
        "### Linear Programming\n",
        "This is a valid model, but it would be easier to solve if we had a mathematical representation.\n",
        "Assuming the units produced of A are $x_1$ and of B are $x_2$ we have\n",
        "\n",
        "$$\n",
        "\\begin{array}{rl}\n",
        "    \\displaystyle%\n",
        "    \\max_{x_1, x_2} & 5.5x_1 + 2.1x_2 \\\\\n",
        "    \\textrm{s.t.}   & x_2 \\le x_1 + 2 \\\\\n",
        "                    & 8x_1 + 2x_2 \\le 17 \\\\\n",
        "                    & x_1, x_2 \\ge 0\n",
        "\\end{array}\n",
        "$$"
      ]
    },
    {
      "cell_type": "code",
      "execution_count": null,
      "metadata": {},
      "outputs": [],
      "source": [
        "using JuMP"
      ]
    },
    {
      "cell_type": "code",
      "execution_count": null,
      "metadata": {},
      "outputs": [],
      "source": [
        "# Define empty model\n",
        "lp_model = Model()\n",
        "\n",
        "# Define the variables\n",
        "@variable(lp_model, x[1:2] >= 0)\n",
        "\n",
        "# Define the objective function\n",
        "@objective(lp_model, Max, 5.5x[1] + 2.1x[2])\n",
        "\n",
        "# Define the constraints\n",
        "@constraint(lp_model, c1, x[2] <= x[1] + 2)\n",
        "\n",
        "@constraint(lp_model, c2, 8x[1] + 2x[2] <= 17)\n",
        "\n",
        "# Print the model\n",
        "print(lp_model)"
      ]
    },
    {
      "cell_type": "code",
      "execution_count": null,
      "metadata": {},
      "outputs": [],
      "source": [
        "using GLPK"
      ]
    },
    {
      "cell_type": "code",
      "execution_count": null,
      "metadata": {},
      "outputs": [],
      "source": [
        "# Here we solve the optimization problem with GLPK\n",
        "set_optimizer(lp_model, GLPK.Optimizer)\n",
        "\n",
        "set_silent(lp_model)\n",
        "\n",
        "optimize!(lp_model)\n",
        "\n",
        "# Display solution of the problem\n",
        "print(solution_summary(lp_model))\n",
        "\n",
        "# Retrieve solution value for \"x\"\n",
        "x_lp = value.(x)"
      ]
    },
    {
      "attachments": {},
      "cell_type": "markdown",
      "metadata": {},
      "source": [
        "We observe that the optimal solution of this problem is $x_1 = 1.3$, $x_2 = 3.3$, leading to a profit of $14.08$."
      ]
    },
    {
      "cell_type": "code",
      "execution_count": null,
      "metadata": {},
      "outputs": [],
      "source": [
        "using Cbc"
      ]
    },
    {
      "cell_type": "code",
      "execution_count": null,
      "metadata": {},
      "outputs": [],
      "source": [
        "# Now with Cbc\n",
        "set_optimizer(lp_model, Cbc.Optimizer)\n",
        "\n",
        "set_silent(lp_model)\n",
        "\n",
        "optimize!(lp_model)\n",
        "\n",
        "# Display solution of the problem\n",
        "print(solution_summary(lp_model))\n",
        "\n",
        "# Retrieve solution value for \"x\"\n",
        "x_lp = value.(x)"
      ]
    },
    {
      "cell_type": "code",
      "execution_count": null,
      "metadata": {},
      "outputs": [],
      "source": [
        "using Plots"
      ]
    },
    {
      "cell_type": "code",
      "execution_count": null,
      "metadata": {},
      "outputs": [],
      "source": [
        "# Generate the feasible region plot of this problem\n",
        "x1 = x2 = range(-0.5, 3.5, 1_000)\n",
        "\n",
        "# Constraints\n",
        "c(x1, x2) = (x1 >= 0)      && # Bound: x1 ≥ 0\n",
        "            (x2 >= 0)      && # Bound: x2 ≥ 0\n",
        "            (x2 <= x1 + 2) && # Constraint 1: x₂ ≤ x₁ + 2\n",
        "            (8x1 + 2x2 <= 17) # Constraint 2: 8 x₁ + 2 x₂ ≤ 17\n",
        "\n",
        "# Objective: min 7.3x₁ + 2.1x₂\n",
        "z(x1, x2) = 7.3x1 + 2.1x2\n",
        "\n",
        "# Plot feasible region\n",
        "plt = heatmap(\n",
        "    x1,\n",
        "    x2,\n",
        "    (x1, x2) -> c(x1, x2) ? z(x1, x2) : NaN;\n",
        "    legend=:topright,\n",
        "    xlims=extrema(x1),\n",
        "    ylims=extrema(x2),\n",
        "    xlabel=raw\"$ x_1 $\",\n",
        "    ylabel=raw\"$ x_2 $\",\n",
        ")\n",
        "\n",
        "# Make plots of constraints\n",
        "plot!(plt, x1, (x1) -> x1 + 2;\n",
        "    label=raw\"$ x_2 \\leq x_1 + 2 $\",\n",
        "    color=:green,\n",
        ")\n",
        "plot!(plt, x1, (x1) -> (17 - 8x1) / 2;\n",
        "    label=raw\"$ 8 x_1 + 2 x_2 \\leq 17 $\",\n",
        "    color=:blue,\n",
        ")\n",
        "\n",
        "# Nonnegativitivy constraints\n",
        "plot!(plt, zeros(n), x2;\n",
        "    label=raw\"$ x_1 \\geq 0 $\",\n",
        "    color=:purple,\n",
        ")\n",
        "plot!(plt, x1, zeros(n);\n",
        "    label=raw\"$ x_2 \\geq 0 $\",\n",
        "    color=:red,\n",
        ")\n",
        "\n",
        "# Optimal solution LP\n",
        "scatter!(plt, [x_lp[1]], [x_lp[2]];\n",
        "    label=raw\"$ (x_1^\\ast, x_2^\\ast) $\",\n",
        "    color=:gold\n",
        ")"
      ]
    },
    {
      "attachments": {},
      "cell_type": "markdown",
      "metadata": {},
      "source": [
        "The solvers GLPK and CLP implement the simplex method (with many improvements) by default, but we can also use an interior point method through the solver IPOPT (interior point optimizer). IPOPT is able to solve not only linear but also nonlinear problems."
      ]
    },
    {
      "cell_type": "code",
      "execution_count": null,
      "metadata": {},
      "outputs": [],
      "source": [
        "using Ipopt"
      ]
    },
    {
      "cell_type": "code",
      "execution_count": null,
      "metadata": {},
      "outputs": [],
      "source": [
        "# Using Ipopt for an interior point method\n",
        "set_optimizer(lp_model, Ipopt.Optimizer)\n",
        "set_silent(lp_model)\n",
        "\n",
        "optimize!(lp_model)\n",
        "\n",
        "print(solution_summary(lp_model))\n",
        "\n",
        "x_lp = value.(x)"
      ]
    },
    {
      "attachments": {},
      "cell_type": "markdown",
      "metadata": {},
      "source": [
        "We obtain the same result as previously, but notice that the interior point method reports a solution subject to a certain tolerance, given by its convergence properties when it can get infinitesimally close (but not directly at) the boundary of the feasible region."
      ]
    },
    {
      "attachments": {},
      "cell_type": "markdown",
      "metadata": {},
      "source": [
        "## Let's go back to the slides"
      ]
    },
    {
      "attachments": {},
      "cell_type": "markdown",
      "metadata": {},
      "source": [
        "### Integer Programming\n",
        "\n",
        "Now let's consider that only integer units of each product can be produced, namely\n",
        "\n",
        "$$\n",
        "\\begin{array}{rl}\n",
        "    \\displaystyle%\n",
        "    \\max_{x_1, x_2} & 5.5x_1 + 2.1x_2 \\\\\n",
        "    \\textrm{s.t.}   & x_2 \\leq x_1 + 2 \\\\\n",
        "                    & 8x_1 + 2x_2 \\leq 17 \\\\\n",
        "                    & x_1, x_2 \\geq 0 \\\\\n",
        "                    & x_1, x_2 \\in \\mathbb{Z}\n",
        "\\end{array}\n",
        "$$"
      ]
    },
    {
      "cell_type": "code",
      "execution_count": null,
      "metadata": {},
      "outputs": [],
      "source": [
        "# Define the model\n",
        "ilp_model = copy(lp_model)\n",
        "\n",
        "# Retrieve variable reference\n",
        "x = ilp_model[:x]\n",
        "\n",
        "# x₁, x₂ ≥ 0; x₁, x₂ ∈ ℤ\n",
        "@constraint(ilp_model, [i=1:2], x[i] in MOI.Integer())\n",
        "\n",
        "# Print the model\n",
        "print(ilp_model)"
      ]
    },
    {
      "cell_type": "code",
      "execution_count": null,
      "metadata": {},
      "outputs": [],
      "source": [
        "set_optimizer(ilp_model, Cbc.Optimizer)\n",
        "set_silent(ilp_model)\n",
        "\n",
        "optimize!(ilp_model)\n",
        "\n",
        "print(solution_summary(ilp_model))\n",
        "\n",
        "x_ilp = value.(x)"
      ]
    },
    {
      "attachments": {},
      "cell_type": "markdown",
      "metadata": {},
      "source": [
        "Here the solution becomes $x_1 = 1, x_2 = 3$ with an objective of $11.8$."
      ]
    },
    {
      "cell_type": "code",
      "execution_count": null,
      "metadata": {},
      "outputs": [],
      "source": [
        "xi1 = xi2 = 0:4\n",
        "\n",
        "# Plot relaxed feasible region\n",
        "plt = heatmap(\n",
        "    x1,\n",
        "    x2,\n",
        "    (x1, x2) -> c(x1, x2) ? z(x1, x2) : NaN;\n",
        "    legend=:topright,\n",
        "    xlims=extrema(x1),\n",
        "    ylims=extrema(x2),\n",
        "    xlabel=raw\"$ x_1 $\",\n",
        "    ylabel=raw\"$ x_2 $\",\n",
        ")\n",
        "\n",
        "# Make plots of constraints\n",
        "plot!(plt, x1, (x1) -> x1 + 2;\n",
        "    label=raw\"$ x_2 \\leq x_1 + 2 $\",\n",
        "    color=:green,\n",
        ")\n",
        "plot!(plt, x1, (x1) -> (17 - 8x1) / 2;\n",
        "    label=raw\"$ 8 x_1 + 2 x_2 \\leq 17 $\",\n",
        "    color=:blue,\n",
        ")\n",
        "\n",
        "# Nonnegativitivy constraints\n",
        "plot!(plt, zeros(n), x2;\n",
        "    label=raw\"$ x_1 \\geq 0 $\",\n",
        "    color=:purple,\n",
        ")\n",
        "plot!(plt, x1, zeros(n);\n",
        "    label=raw\"$ x_2 \\geq 0 $\",\n",
        "    color=:red,\n",
        ")\n",
        "\n",
        "# Feasible solutions\n",
        "scatter!(plt,\n",
        "    [xi1[i] for i = 1:5 for j = 1:5 if c(xi1[i], xi2[j])],\n",
        "    [xi2[j] for i = 1:5 for j = 1:5 if c(xi1[i], xi2[j])];\n",
        "    label=raw\"$ (x_1, x_2) \\in \\mathbb{Z}^2 $\",\n",
        "    color=:white,\n",
        ")\n",
        "\n",
        "# Optimal solution LP\n",
        "scatter!(plt, [x_ilp[1]], [x_ilp[2]];\n",
        "    label=raw\"$ (x_1^\\ast, x_2^\\ast) $\",\n",
        "    color=:gold,\n",
        ")"
      ]
    },
    {
      "attachments": {},
      "cell_type": "markdown",
      "metadata": {},
      "source": [
        "## Let's go back to the slides\n",
        "\n",
        "#### Enumeration\n",
        "Enumerating all the possible solutions in this problem might be very efficient (there are only 8 feasible solutions), this we only know from the plot. Assuming that we had as upper bounds for the variables 4, the possible solutions would be 16. With a larger number of variables, the enumeration turns to be impractical. For $n$ binary variables (we can always \"binarize\" the integer variables), the number of possible solutions is $2^n$.\n",
        "\n",
        "In many other applications, the possible solutions come from permutations of the integer variables (e.g., assignment problems), which grow as $n!$ with the size of the input.\n",
        "\n",
        "This growth makes the problem grow out of control relatively quickly."
      ]
    },
    {
      "cell_type": "code",
      "execution_count": null,
      "metadata": {},
      "outputs": [],
      "source": [
        "import SpecialFunctions"
      ]
    },
    {
      "cell_type": "code",
      "execution_count": null,
      "metadata": {},
      "outputs": [],
      "source": [
        "i = 1:100\n",
        "\n",
        "plt = plot(;\n",
        "    title=raw\"Orders of Magnitude for $ n! $ and $ 2^n $\",\n",
        "    xlabel=raw\"$ n $\",\n",
        "    legend=:topleft,\n",
        "    yscale=:log10,\n",
        ")\n",
        "\n",
        "plot!(plt, i, (i) -> 2.0^i; label=raw\"$ 2^n $\", color=:blue)\n",
        "plot!(plt, i, SpecialFunctions.gamma; label=raw\"$ n! $\", color=:red)\n",
        "\n",
        "plot!(plt, i, (i) -> 3.154E16; color=:gray, label = nothing)\n",
        "annotate!(plt, first(i), 3.154E16, text(\"ns in a year\", :gray, :left, :bottom, 7))\n",
        "\n",
        "plot!(plt, i, (i) -> 4.3E26; color=:gray, label = nothing)\n",
        "annotate!(plt, first(i), 4.3E26, text(\"age of the universe in ns\", :gray, :left, :bottom, 7))\n",
        "\n",
        "plot!(plt, i, (i) -> 6E79; color=:gray, label = nothing)\n",
        "annotate!(plt, first(i), 6E79, text(\"atoms in the universe\", :gray, :left, :bottom, 7))"
      ]
    },
    {
      "attachments": {},
      "cell_type": "markdown",
      "metadata": {},
      "source": [
        "## Let's go back to the slides\n",
        "\n",
        "### Integer convex nonlinear programming\n",
        "\n",
        "The following constraint: \"the production of B minus 1, squared, can only be smaller than 2 minus the production of A\" can be incorporated  in the following convex integer nonlinear program, \n",
        "\n",
        "$$\n",
        "\\begin{array}{rl}\n",
        "    \\displaystyle%\n",
        "    \\max_{x_1, x_2} & 5.5x_1 + 2.1x_2        \\\\\n",
        "    \\textrm{s.t.}   & x_2 \\leq x_1 + 2       \\\\\n",
        "                    & 8x_1 + 2x_2 \\leq 17    \\\\\n",
        "                    & (x_2-1)^2 \\leq 2 - x_1 \\\\\n",
        "                    & x_1, x_2 \\geq 0        \\\\\n",
        "                    & x_1, x_2 \\in \\mathbb{Z}\n",
        "\\end{array}\n",
        "$$"
      ]
    },
    {
      "cell_type": "code",
      "execution_count": null,
      "metadata": {},
      "outputs": [],
      "source": [
        "# Define the model\n",
        "cvxnl_model = copy(ilp_model)\n",
        "\n",
        "# Retrieve variable reference\n",
        "x = cvxnl_model[:x]\n",
        "\n",
        "# (x₂ - 1)² ≤ 2 - x₁\n",
        "@constraint(cvxnl_model, c3, (x[2] - 1)^2 <= 2 - x[1])\n",
        "\n",
        "# Print the model\n",
        "print(cvxnl_model)"
      ]
    },
    {
      "cell_type": "code",
      "execution_count": null,
      "metadata": {},
      "outputs": [],
      "source": [
        "using AmplNLWriter\n",
        "using Bonmin_jll\n",
        "\n",
        "const Bonmin_Optimizer = () -> AmplNLWriter.Optimizer(Bonmin_jll.amplexe);"
      ]
    },
    {
      "cell_type": "code",
      "execution_count": null,
      "metadata": {},
      "outputs": [],
      "source": [
        "set_optimizer(cvxnl_model, Bonmin_Optimizer)\n",
        "\n",
        "optimize!(cvxnl_model)\n",
        "\n",
        "print(solution_summary(cvxnl_model))\n",
        "\n",
        "x_cvxnl = value.(x)"
      ]
    },
    {
      "cell_type": "code",
      "execution_count": null,
      "metadata": {},
      "outputs": [],
      "source": [
        "χ(x1, x2) = c(x1, x2) && ((x2 - 1)^2 <= 2 - x1) # Constraint 3: (x₂ - 1)² ≤ 2 - x₁\n",
        "\n",
        "# Generate the feasible region plot of this problem\n",
        "n = 1_000\n",
        "\n",
        "xi1 = xi2 = 0:4\n",
        "\n",
        "# Plot relaxed feasible region\n",
        "plt = heatmap(\n",
        "    x1,\n",
        "    x2,\n",
        "    (x1, x2) -> χ(x1, x2) ? z(x1, x2) : NaN;\n",
        "    legend=:topright,\n",
        "    xlims=extrema(x1),\n",
        "    ylims=extrema(x2),\n",
        "    xlabel=raw\"$ x_1 $\",\n",
        "    ylabel=raw\"$ x_2 $\",\n",
        ")\n",
        "\n",
        "# Make plots of constraints\n",
        "plot!(plt, x1, (x1) -> x1 + 2;\n",
        "    label=raw\"$ x_2 \\leq x_1 + 2 $\",\n",
        "    color=:green,\n",
        ")\n",
        "plot!(plt, x1, (x1) -> (17 - 8x1) / 2;\n",
        "    label=raw\"$ 8 x_1 + 2 x_2 \\leq 17 $\",\n",
        "    color=:blue,\n",
        ")\n",
        "plot!(plt, 2 .- (x1 .- 1) .^ 2, x1,;\n",
        "    label=raw\"$ (x_2 - 1)^2 \\leq 2 - x_1 $\",\n",
        "    color=:orange,\n",
        ")\n",
        "\n",
        "# Nonnegativitivy constraints\n",
        "plot!(plt, zeros(n), x2;\n",
        "    label=raw\"$ x_1 \\geq 0 $\",\n",
        "    color=:purple,\n",
        ")\n",
        "plot!(plt, x1, zeros(n);\n",
        "    label=raw\"$ x_2 \\geq 0 $\",\n",
        "    color=:red,\n",
        ")\n",
        "\n",
        "# Feasible solutions\n",
        "scatter!(plt,\n",
        "    [xi1[i] for i = 1:5 for j = 1:5 if χ(xi1[i], xi2[j])],\n",
        "    [xi2[j] for i = 1:5 for j = 1:5 if χ(xi1[i], xi2[j])];\n",
        "    label=raw\"$ (x_1, x_2) \\in \\mathbb{Z}^2 $\",\n",
        "    color=:white,\n",
        ")\n",
        "\n",
        "# Optimal solution LP\n",
        "scatter!(plt, [x_cvxnl[1]], [x_cvxnl[2]];\n",
        "    label=raw\"$ (x_1^\\ast, x_2^\\ast) $\",\n",
        "    color=:gold,\n",
        ")"
      ]
    },
    {
      "attachments": {},
      "cell_type": "markdown",
      "metadata": {},
      "source": [
        "In this case the optimal solution becomes $x_1 = 1, x_2 = 2$ with an objective of $9.7$."
      ]
    },
    {
      "attachments": {},
      "cell_type": "markdown",
      "metadata": {},
      "source": [
        "### Integer non-convex programming\n",
        "\n",
        "The last constraint \"the production of B minus 1 squared can only be greater than the production of A plus one half\" can be incorporated  in the following convex integer nonlinear program\n",
        "\n",
        "$$\n",
        "\\begin{array}{rl}\n",
        "    \\displaystyle%\n",
        "    \\max_{x_1, x_2} & 5.5x_1 + 2.1x_2 \\\\\n",
        "    \\textrm{s.t.}   & x_2 \\leq x_1 + 2 \\\\\n",
        "                    & 8x_1 + 2x_2 \\leq 17 \\\\\n",
        "                    & (x_2-1)^2 \\leq 2-x_1\\\\\n",
        "                    & (x_2-1)^2 \\geq \\frac{1}{2} +x_1\\\\\n",
        "                    & x_1, x_2 \\geq 0 \\\\\n",
        "                    & x_1, x_2 \\in \\mathbb{Z}\n",
        "\\end{array}\n",
        "$$"
      ]
    },
    {
      "cell_type": "code",
      "execution_count": null,
      "metadata": {},
      "outputs": [],
      "source": [
        "# Define the model\n",
        "ncvxnl_model = copy(cvxnl_model)\n",
        "\n",
        "# Retrieve variable reference\n",
        "x = ncvxnl_model[:x]\n",
        "\n",
        "# (x₂ - 1)² ≥ 1/2 + x₁\n",
        "@constraint(ncvxnl_model, c4, (x[2] - 1)^2 >= 1/2 + x[1])\n",
        "\n",
        "# Print the model\n",
        "print(ncvxnl_model)"
      ]
    },
    {
      "cell_type": "code",
      "execution_count": null,
      "metadata": {},
      "outputs": [],
      "source": [
        "# Trying to solve the problem with BONMIN we might obtain the optimal solution,\n",
        "# but we have no guarantees\n",
        "set_optimizer(ncvxnl_model, Bonmin_Optimizer)\n",
        "\n",
        "optimize!(ncvxnl_model)\n",
        "\n",
        "print(solution_summary(ncvxnl_model))\n",
        "\n",
        "if result_count(ncvxnl_model) > 0\n",
        "    x_ncvxnl = value.(x)\n",
        "end"
      ]
    },
    {
      "cell_type": "code",
      "execution_count": null,
      "metadata": {},
      "outputs": [],
      "source": [
        "using Couenne_jll\n",
        "\n",
        "const Couenne_Optimizer = () -> AmplNLWriter.Optimizer(Couenne_jll.amplexe);"
      ]
    },
    {
      "cell_type": "code",
      "execution_count": null,
      "metadata": {},
      "outputs": [],
      "source": [
        "# Trying to solve the problem with global MINLP solver COUENNE\n",
        "set_optimizer(ncvxnl_model, Couenne_Optimizer)\n",
        "\n",
        "optimize!(ncvxnl_model)\n",
        "\n",
        "print(solution_summary(ncvxnl_model))\n",
        "\n",
        "if result_count(ncvxnl_model) > 0\n",
        "    x_ncvxnl = value.(x)\n",
        "end"
      ]
    },
    {
      "cell_type": "code",
      "execution_count": null,
      "metadata": {},
      "outputs": [],
      "source": [
        "ξ(x1, x2) = χ(x1, x2) && ((x2 - 1)^2 >= 1/2 + x1) # Constraint 4: (x₂ - 1)² ≤ 1/2 + x₁\n",
        "\n",
        "# Generate the feasible region plot of this problem\n",
        "n = 1_000\n",
        "\n",
        "xi1 = xi2 = 0:4\n",
        "\n",
        "# Plot relaxed feasible region\n",
        "plt = heatmap(\n",
        "    x1,\n",
        "    x2,\n",
        "    (x1, x2) -> ξ(x1, x2) ? z(x1, x2) : NaN;\n",
        "    legend=:topright,\n",
        "    xlims=extrema(x1),\n",
        "    ylims=extrema(x2),\n",
        "    xlabel=raw\"$ x_1 $\",\n",
        "    ylabel=raw\"$ x_2 $\",\n",
        ")\n",
        "\n",
        "# Make plots of constraints\n",
        "plot!(plt, x1, (x1) -> x1 + 2;\n",
        "    label=raw\"$ x_2 \\leq x_1 + 2 $\",\n",
        "    color=:green,\n",
        ")\n",
        "plot!(plt, x1, (x1) -> (17 - 8x1) / 2;\n",
        "    label=raw\"$ 8 x_1 + 2 x_2 \\leq 17 $\",\n",
        "    color=:blue,\n",
        ")\n",
        "plot!(plt, 2 .- (x1 .- 1) .^ 2, x1,;\n",
        "    label=raw\"$ (x_2 - 1)^2 \\leq 2 - x_1 $\",\n",
        "    color=:orange,\n",
        ")\n",
        "plot!(plt, -1/2 .+ (x1 .- 1) .^ 2, x1,;\n",
        "    label=raw\"$ (x_2 - 1)^2 \\leq \\frac{1}{2} + x_1 $\",\n",
        "    color=:magenta,\n",
        ")\n",
        "\n",
        "# Nonnegativitivy constraints\n",
        "plot!(plt, zeros(n), x2;\n",
        "    label=raw\"$ x_1 \\geq 0 $\",\n",
        "    color=:purple,\n",
        ")\n",
        "plot!(plt, x1, zeros(n);\n",
        "    label=raw\"$ x_2 \\geq 0 $\",\n",
        "    color=:red,\n",
        ")\n",
        "\n",
        "# Feasible solutions\n",
        "scatter!(plt,\n",
        "    [xi1[i] for i = 1:5 for j = 1:5 if ξ(xi1[i], xi2[j])],\n",
        "    [xi2[j] for i = 1:5 for j = 1:5 if ξ(xi1[i], xi2[j])];\n",
        "    label=raw\"$ (x_1, x_2) \\in \\mathbb{Z}^2 $\",\n",
        "    color=:white,\n",
        ")\n",
        "\n",
        "# Optimal solution LP\n",
        "scatter!(plt, [x_ncvxnl[1]], [x_ncvxnl[2]];\n",
        "    label=raw\"$ (x_1^\\ast, x_2^\\ast) $\",\n",
        "    color=:gold,\n",
        ")"
      ]
    },
    {
      "attachments": {},
      "cell_type": "markdown",
      "metadata": {},
      "source": [
        "We are able to solve non-convex MINLP problems. However, the complexity of these problems leads to significant computational challenges that need to be tackled."
      ]
    },
    {
      "attachments": {},
      "cell_type": "markdown",
      "metadata": {},
      "source": [
        "### Powerful commercial solver installation\n",
        "\n",
        "#### Gurobi Installation\n",
        "\n",
        "Gurobi is one of the most powerful LP and MIP solvers available today. They provide free academic licenses. In order to install the software, visit their **[Website](https://www.gurobi.com/)**, create an account (preferably with your CMU email), and obtain a license. Once you do that, you can download and use the software.\n",
        "\n",
        "#### BARON Installation\n",
        "\n",
        "BARON is one of the most powerful MINLP solvers available today. CMU students are given a free license given by the association of BARON's developer (Prof. Nick Sahinidis) to CMU. In order to install the software, visit their **[Website](https://www.minlp.com/home)**, create an account (with your CMU email), and obtain a license. Once you do that you can download and use the software."
      ]
    },
    {
      "attachments": {},
      "cell_type": "markdown",
      "metadata": {},
      "source": [
        "# References\n",
        "\n",
        "- [Julia Colab Notebook Template](https://colab.research.google.com/github/ageron/julia_notebooks/blob/master/Julia_Colab_Notebook_Template.ipynb)\n",
        "- [QuIPML22](https://github.com/bernalde/QuIPML22/blob/main/notebooks/Notebook%201%20-%20LP%20and%20IP.ipynb)"
      ]
    },
    {
      "attachments": {},
      "cell_type": "markdown",
      "metadata": {},
      "source": [
        "# Installation\n",
        "\n",
        "## Colab Instructions\n",
        "\n",
        "1. Work on a copy of this notebook: _File_ > _Save a copy in Drive_ (you will need a Google account). Alternatively, you can download the notebook using _File_ > _Download .ipynb_, then upload it to [Colab](https://colab.research.google.com/).\n",
        "2. Execute the following cell (click on it and press Ctrl+Enter) to install Julia and IJulia. This can take a couple of minutes.\n",
        "3. Reload this page (press Ctrl+R, or ⌘+R, or the F5 key) and continue to the next section.\n",
        "\n",
        "If your Colab Runtime gets reset (e.g., due to inactivity), repeat steps 2 and 3."
      ]
    },
    {
      "cell_type": "code",
      "execution_count": null,
      "metadata": {},
      "outputs": [],
      "source": [
        "%%shell\n",
        "\n",
        "bash <(curl -s \"https://github.com/pedromxavier/QUBO-notebooks/blob/main/scripts/install-colab-julia.sh\")"
      ]
    },
    {
      "attachments": {},
      "cell_type": "markdown",
      "metadata": {},
      "source": [
        "### Validate Installation"
      ]
    },
    {
      "cell_type": "code",
      "execution_count": null,
      "metadata": {},
      "outputs": [],
      "source": [
        "versioninfo()"
      ]
    },
    {
      "attachments": {},
      "cell_type": "markdown",
      "metadata": {},
      "source": [
        "## Julia Packages"
      ]
    },
    {
      "cell_type": "code",
      "execution_count": null,
      "metadata": {},
      "outputs": [],
      "source": [
        "import Pkg\n",
        "\n",
        "Pkg.activate(; temp=true)\n",
        "\n",
        "Pkg.add.([\n",
        "    \"JuMP\",\n",
        "    \"GLPK\",\n",
        "    \"Cbc\",\n",
        "    \"Ipopt\",\n",
        "    \"AmplNLWriter\",\n",
        "    \"Bonmin_jll\",\n",
        "    \"Couenne_jll\",\n",
        "    \"Plots\",\n",
        "    \"SpecialFunctions\",\n",
        "]; io=devnull); # Suppress Output"
      ]
    },
    {
      "attachments": {},
      "cell_type": "markdown",
      "metadata": {},
      "source": [
        "<div align=\"center\">\n",
        "    <a href=\"#\">🔝 Go back to the top 🔝</a>\n",
        "</div>"
      ]
    }
  ],
  "metadata": {
    "colab": {
      "include_colab_link": true,
      "provenance": []
    },
    "gpuClass": "standard",
    "kernelspec": {
      "display_name": "Julia 1.9.1",
      "language": "julia",
      "name": "julia-1.9"
    },
    "language_info": {
      "file_extension": ".jl",
      "mimetype": "application/julia",
      "name": "julia",
      "version": "1.9.1"
    }
  },
  "nbformat": 4,
  "nbformat_minor": 0
}
