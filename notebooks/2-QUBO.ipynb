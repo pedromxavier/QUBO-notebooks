{
  "cells": [
    {
      "attachments": {},
      "cell_type": "markdown",
      "metadata": {},
      "source": [
        "<a name=\"top\" id=\"top\"></a>\n",
        "\n",
        "<div align=\"center\">\n",
        "    <h1>QUBO &amp; Ising Models</h1>\n",
        "    <a href=\"https://github.com/bernalde\">David E. Bernal Neira</a>\n",
        "    <br>\n",
        "    <i>Davidson School of Chemical Engineering, Purdue University</i>\n",
        "    <br>\n",
        "    <i>Universities Space Research Association</i>\n",
        "    <br>\n",
        "    <i>NASA QuAIL</i>\n",
        "    <br>\n",
        "    <br>\n",
        "    <a href=\"https://github.com/pedromxavier\">Pedro Maciel Xavier</a>\n",
        "    <br>\n",
        "    <i>Computer Science &amp; Systems Engineering Program, Federal University of Rio de Janeiro</i>\n",
        "    <br>\n",
        "    <i>PSR Energy Consulting &amp; Analytics</i>\n",
        "    <br>\n",
        "    <br>\n",
        "    <a href=\"https://colab.research.google.com/github/pedromxavier/QUBO-notebooks/blob/main/notebooks/2-QUBO.ipynb\" target=\"_parent\">\n",
        "        <img src=\"https://colab.research.google.com/assets/colab-badge.svg\" alt=\"Open In Colab\"/>\n",
        "    </a>\n",
        "    <a href=\"#installation\">\n",
        "        <img src=\"https://img.shields.io/badge/⚙️-Installation_Instructions-blue\" alt=\"Installation Instructions\"/>\n",
        "    </a>\n",
        "    <a href=\"https://bernalde.github.io/\">\n",
        "        <img src=\"https://img.shields.io/badge/⚗️-Bernal_Lab-blue\" alt=\"Bernal Lab\"/>\n",
        "    </a>\n",
        "</div>"
      ]
    },
    {
      "attachments": {},
      "cell_type": "markdown",
      "metadata": {},
      "source": [
        "### Activate Environment"
      ]
    },
    {
      "cell_type": "code",
      "execution_count": null,
      "metadata": {},
      "outputs": [],
      "source": [
        "import Pkg; Pkg.activate(@__DIR__) # Here we go!"
      ]
    },
    {
      "attachments": {},
      "cell_type": "markdown",
      "metadata": {},
      "source": [
        "## Quadratic Unconstrained Binary Optimization\n",
        "\n",
        "This notebook will explain the basics of the QUBO modeling.\n",
        "In order to implement the different QUBO formulations we will use **[JuMP](https://jump.dev)**, and then solve them using **[neal](https://github.com/dwavesystems/dwave-neal)**'s implementation of simulated annealing.\n",
        "We will also leverage the use of **[QUBO.jl](https://github.com/psrenergy/QUBO.jl)** to translate constraint satisfaction problems to QUBOs.\n",
        "Finally, for we will use **[Graphs.jl](https://github.com/JuliaGraphs/Graphs.jl)** for network models/graphs."
      ]
    },
    {
      "attachments": {},
      "cell_type": "markdown",
      "metadata": {},
      "source": [
        "## Problem statement\n",
        "\n",
        "We define a QUBO as the following optimization problem:\n",
        "\n",
        "$$\n",
        "\\min_{x \\in \\{0,1 \\}^n} \\sum_{(ij) \\in E(G)} Q_{ij}x_i x_j + \\sum_{i \\in V(G)}Q_{ii}x_i + \\beta = \\min_{x \\in \\{0,1 \\}^n}  \\mathbf{x}' \\mathbf{Q} \\mathbf{x} + \\beta\n",
        "$$\n",
        "\n",
        "where we optimize over binary variables $x \\in \\{ 0,1 \\}^n$, on a constrained graph $G(V,E)$ defined by a weighted adjacency matrix $\\mathbf{Q}$.\n",
        "We also include an arbitrary offset  $\\beta$."
      ]
    },
    {
      "attachments": {},
      "cell_type": "markdown",
      "metadata": {},
      "source": [
        "### Example\n",
        "\n",
        "Suppose we want to solve the following problem via QUBO\n",
        "\n",
        "$$\n",
        "\\begin{array}{rl}\n",
        "\\displaystyle%\n",
        "\\min_{\\mathbf{x}} & 2x_0+4x_1+4x_2+4x_3+4x_4+4x_5+5x_6+4x_7+5x_8+6x_9+5x_{10} \\\\\n",
        "\\textrm{s.t.}     & \\begin{bmatrix}\n",
        "1 & 0 & 0 & 1 & 1 & 1 & 0 & 1 & 1 & 1 & 1\\\\\n",
        "0 & 1 & 0 & 1 & 0 & 1 & 1 & 0 & 1 & 1 & 1\\\\\n",
        "0 & 0 & 1 & 0 & 1 & 0 & 1 & 1 & 1 & 1 & 1\n",
        "\\end{bmatrix}\\mathbf{x}=\n",
        "\\begin{bmatrix}\n",
        "1\\\\\n",
        "1\\\\\n",
        "1\n",
        "\\end{bmatrix} \\\\\n",
        "~ & \\mathbf{x} \\in \\{0,1 \\}^{11}\n",
        "\\end{array}\n",
        "$$"
      ]
    },
    {
      "attachments": {},
      "cell_type": "markdown",
      "metadata": {},
      "source": [
        "First we would write this problem as a an unconstrained one by penalizing the linear constraints as quadratics in the objective.\n",
        "Let's first define the problem parameters."
      ]
    },
    {
      "cell_type": "code",
      "execution_count": null,
      "metadata": {},
      "outputs": [],
      "source": [
        "A = [\n",
        "    1 0 0 1 1 1 0 1 1 1 1\n",
        "    0 1 0 1 0 1 1 0 1 1 1\n",
        "    0 0 1 0 1 0 1 1 1 1 1\n",
        "]\n",
        "b = [1, 1, 1]\n",
        "c = [2, 4, 4, 4, 4, 4, 5, 4, 5, 6, 5];"
      ]
    },
    {
      "attachments": {},
      "cell_type": "markdown",
      "metadata": {},
      "source": [
        "In order to define the $\\mathbf{Q}$ matrix, we first write the problem\n",
        "\n",
        "$$\n",
        "\\begin{array}{rl}\n",
        "    \\displaystyle%\n",
        "    \\min_{\\mathbf{x}} &\\mathbf{c}' \\mathbf{x} \\\\\n",
        "    \\textrm{s.t.}     & \\mathbf{A}\\mathbf{x} = \\mathbf{b} \\\\\n",
        "    ~                 & \\mathbf{x} \\in \\{0,1 \\}^{11}\n",
        "\\end{array}\n",
        "$$\n",
        "\n",
        "as follows:\n",
        "\n",
        "$$\n",
        "\\begin{array}{rl}\n",
        "    \\displaystyle%\n",
        "    \\min_{\\mathbf{x}} & \\mathbf{c}' \\mathbf{x} + \\rho (\\mathbf{A}\\mathbf{x}-\\mathbf{b})' (\\mathbf{A}\\mathbf{x}-\\mathbf{b}) \\\\\n",
        "    \\textrm{s.t.}     & \\mathbf{x} \\in \\{0,1 \\}^{11}\n",
        "\\end{array}\n",
        "$$\n",
        "\n",
        "Exploiting the fact that $x^2=x$ for $x \\in \\{0,1\\}$, we can make the linear terms appear in the diagonal of the $\\mathbf{Q}$ matrix.\n",
        "\n",
        "$$\n",
        "\\rho(\\mathbf{A}\\mathbf{x}-\\mathbf{b})'(\\mathbf{A}\\mathbf{x}-\\mathbf{b}) = \\rho( \\mathbf{x}'(\\mathbf{A}'\\mathbf{A}) \\mathbf{x} - 2(\\mathbf{A}'\\mathbf{b}) \\mathbf{x} + \\mathbf{b}'\\mathbf{b} )\n",
        "$$\n",
        "\n",
        "For this problem in particular, one can prove that a reasonable penalization factor is given by $\\rho = \\sum_{i=1}^n |c_i| + \\epsilon$ with $\\epsilon > 0$."
      ]
    },
    {
      "cell_type": "code",
      "execution_count": null,
      "metadata": {},
      "outputs": [],
      "source": [
        "using LinearAlgebra"
      ]
    },
    {
      "cell_type": "code",
      "execution_count": null,
      "metadata": {},
      "outputs": [],
      "source": [
        "ϵ = 1\n",
        "ρ = sum(abs, c) + ϵ\n",
        "Q = diagm(c) + ρ * (A'A - 2 * diagm(A'b))\n",
        "β = ρ * b'b\n",
        "\n",
        "display(Q)\n",
        "println(β)"
      ]
    },
    {
      "attachments": {},
      "cell_type": "markdown",
      "metadata": {},
      "source": [
        "We can visualize the graph that defines this instance using the Q matrix as the adjacency matrix of a graph."
      ]
    },
    {
      "cell_type": "code",
      "execution_count": null,
      "metadata": {},
      "outputs": [],
      "source": [
        "using Graphs"
      ]
    },
    {
      "cell_type": "code",
      "execution_count": null,
      "metadata": {},
      "outputs": [],
      "source": [
        "G = SimpleGraph(Q)"
      ]
    },
    {
      "cell_type": "code",
      "execution_count": null,
      "metadata": {},
      "outputs": [],
      "source": [
        "using Karnak"
      ]
    },
    {
      "cell_type": "code",
      "execution_count": null,
      "metadata": {},
      "outputs": [],
      "source": [
        "@drawsvg(\n",
        "    begin\n",
        "        sethue(\"black\")\n",
        "        background(\"white\")\n",
        "        drawgraph(\n",
        "            G;\n",
        "            margin=70,\n",
        "            vertexlabels = 1:11,\n",
        "        )\n",
        "    end,\n",
        ")"
      ]
    },
    {
      "attachments": {},
      "cell_type": "markdown",
      "metadata": {},
      "source": [
        "Let's define a QUBO model and then solve it using enumeration and D-Wave's simulated annealing (eventually with Quantum annealling too!)."
      ]
    },
    {
      "cell_type": "code",
      "execution_count": null,
      "metadata": {},
      "outputs": [],
      "source": [
        "using JuMP"
      ]
    },
    {
      "cell_type": "code",
      "execution_count": null,
      "metadata": {},
      "outputs": [],
      "source": [
        "# Define empty model\n",
        "qubo_model = Model()\n",
        "\n",
        "# Define the variables\n",
        "@variable(qubo_model, x[1:11], Bin)\n",
        "\n",
        "# Define the objective function\n",
        "@objective(qubo_model, Min, x' * Q * x + β)\n",
        "\n",
        "# Print the model\n",
        "print(qubo_model)"
      ]
    },
    {
      "attachments": {},
      "cell_type": "markdown",
      "metadata": {},
      "source": [
        "Since the problem is relatively small ($11$ variables, $2^{11}=2048$ combinations), we can afford to enumerate all the solutions."
      ]
    },
    {
      "cell_type": "code",
      "execution_count": null,
      "metadata": {},
      "outputs": [],
      "source": [
        "using QUBO"
      ]
    },
    {
      "cell_type": "code",
      "execution_count": null,
      "metadata": {},
      "outputs": [],
      "source": [
        "# Here we solve the optimization problem with GLPK\n",
        "set_optimizer(qubo_model, ExactSampler.Optimizer)\n",
        "\n",
        "optimize!(qubo_model)\n",
        "\n",
        "qubo_x = round.(Int, value.(x))\n",
        "\n",
        "# Display solution of the problem\n",
        "println(solution_summary(qubo_model))\n",
        "println(\"* x = $qubo_x\")"
      ]
    },
    {
      "cell_type": "code",
      "execution_count": null,
      "metadata": {},
      "outputs": [],
      "source": [
        "using Plots"
      ]
    },
    {
      "cell_type": "code",
      "execution_count": null,
      "metadata": {},
      "outputs": [],
      "source": [
        "QUBOTools.sampleset(unsafe_backend(qubo_model)) |> plot"
      ]
    },
    {
      "attachments": {},
      "cell_type": "markdown",
      "metadata": {},
      "source": [
        "Let's now solve this QUBO via traditional Integer Programming."
      ]
    },
    {
      "cell_type": "code",
      "execution_count": null,
      "metadata": {},
      "outputs": [],
      "source": [
        "qubo_ilp_model = Model()\n",
        "\n",
        "@variable(qubo_ilp_model, x[1:11], Bin)\n",
        "@variable(qubo_ilp_model, y[1:11, 1:11], Bin)\n",
        "\n",
        "@objective(\n",
        "    qubo_ilp_model,\n",
        "    Min,\n",
        "    sum(Q[i,j] * (i == j ? x[i] : y[i,j]) for i=1:11, j=1:11) +  β\n",
        ")\n",
        "\n",
        "@constraint(qubo_ilp_model, c1[i=1:11,j=1:11;i!=j], y[i,j] >= x[i] + x[j] - 1)\n",
        "@constraint(qubo_ilp_model, c2[i=1:11,j=1:11;i!=j], y[i,j] <= x[i])\n",
        "@constraint(qubo_ilp_model, c3[i=1:11,j=1:11;i!=j], y[i,j] <= x[j])\n",
        "\n",
        "println(qubo_ilp_model)"
      ]
    },
    {
      "cell_type": "code",
      "execution_count": null,
      "metadata": {},
      "outputs": [],
      "source": [
        "using GLPK"
      ]
    },
    {
      "cell_type": "code",
      "execution_count": null,
      "metadata": {},
      "outputs": [],
      "source": [
        "set_optimizer(qubo_ilp_model, GLPK.Optimizer)\n",
        "\n",
        "optimize!(qubo_ilp_model)\n",
        "\n",
        "qubo_ilp_x = round.(Int, value.(x))\n",
        "\n",
        "println(solution_summary(qubo_ilp_model))\n",
        "println(\"* x = $qubo_ilp_x\")"
      ]
    },
    {
      "attachments": {},
      "cell_type": "markdown",
      "metadata": {},
      "source": [
        "We observe that the optimal solution of this problem is $x_{9} = 1, 0$ otherwise, leading to an objective value of $5$.\n",
        "Notice that this problem has a degenerate optimal solution given that $x_{11} = 1, 0$ otherwise also leads to the same solution."
      ]
    },
    {
      "attachments": {},
      "cell_type": "markdown",
      "metadata": {},
      "source": [
        "## Ising model\n",
        "\n",
        "This notebook will explain the basics of the Ising model.\n",
        "In order to implement the different Ising Models we will use **[JuMP](https://jump.dev)** and D-Wave's **[neal](https://github.com/dwavesystems/dwave-neal)**, for defining the Ising model and solving it with simulated annealing, respectively.\n",
        "When posing the problems as Integer programs, we will model using **[JuMP](https://jump.dev/)**, an open-source Julia package, which provides a flexible access to different solvers and a general modeling framework for linear and nonlinear integer programs.\n",
        "The examples solved here will make use of open-source solver **[GLPK](https://www.gnu.org/software/glpk/)** for mixed-integer linear programming."
      ]
    },
    {
      "attachments": {},
      "cell_type": "markdown",
      "metadata": {},
      "source": [
        "### Problem statement\n",
        "\n",
        "We pose the Ising problem as the following optimization problem:\n",
        "\n",
        "$$\n",
        "\\min_{s \\in \\{ \\pm 1 \\}^n} H(s) = \\min_{s \\in \\{ \\pm 1 \\}^n} \\sum_{(ij) \\in E(G)} J_{i,j}s_is_j + \\sum_{i \\in V(G)} h_is_i + \\beta\n",
        "$$\n",
        "\n",
        "where we optimize over spins $s \\in \\{ \\pm 1 \\}^n$, on a constrained graph $G(V,E)$, where the quadratic coefficients are $J_{i,j}$ and the linear coefficients are $h_i$.\n",
        "We also include an arbitrary offset of the Ising model $\\beta$."
      ]
    },
    {
      "attachments": {},
      "cell_type": "markdown",
      "metadata": {},
      "source": [
        "### Example\n",
        "\n",
        "Suppose we have an Ising model defined from\n",
        "\n",
        "$$\n",
        "h = \\begin{bmatrix}\n",
        "145.0 \\\\ 122.0 \\\\ 122.0 \\\\ 266.0 \\\\ 266.0 \\\\ 266.0 \\\\ 242.5 \\\\ 266.0 \\\\ 386.5 \\\\ 387.0 \\\\ 386.5\n",
        "\\end{bmatrix},\n",
        "J = \\begin{bmatrix}\n",
        "0 & 0 & 0 & 24 & 24 & 24 & 24 & 24 & 24 & 24 & 24\\\\\n",
        "0 & 0 & 0 & 24 & 0 & 24 & 24 & 24 & 24 & 24 & 24\\\\\n",
        "0 & 0 & 0 & 0 & 24 & 0 & 24 & 24 & 24 & 24 & 24\\\\\n",
        "0 & 0 & 0 & 0 & 24 & 48 & 24 & 24 & 48 & 48 & 48\\\\\n",
        "0 & 0 & 0 & 0 & 0 & 24 & 24 & 48 & 48 & 48 & 48\\\\\n",
        "0 & 0 & 0 & 0 & 0 & 0 & 24 & 24 & 48 & 48 & 48\\\\\n",
        "0 & 0 & 0 & 0 & 0 & 0 & 0 & 24 & 48 & 48 & 48\\\\\n",
        "0 & 0 & 0 & 0 & 0 & 0 & 0 & 0 & 48 & 48 & 48\\\\\n",
        "0 & 0 & 0 & 0 & 0 & 0 & 0 & 0 & 0 & 72 & 72\\\\\n",
        "0 & 0 & 0 & 0 & 0 & 0 & 0 & 0 & 0 & 0 & 72\\\\\n",
        "0 & 0 & 0 & 0 & 0 & 0 & 0 & 0 & 0 & 0 & 0\\\\\n",
        "\\end{bmatrix} \\text{ and }\n",
        "\\beta = 1319.5\n",
        "$$\n",
        "Let's solve this problem"
      ]
    },
    {
      "cell_type": "code",
      "execution_count": null,
      "metadata": {},
      "outputs": [],
      "source": [
        "h = [\n",
        "    145.0,\n",
        "    122.0,\n",
        "    122.0,\n",
        "    266.0,\n",
        "    266.0,\n",
        "    266.0,\n",
        "    242.5,\n",
        "    266.0,\n",
        "    386.5,\n",
        "    387.0,\n",
        "    386.5,\n",
        "]\n",
        "\n",
        "J = [\n",
        "    0  0  0 24 24 24 24 24 24 24 24\n",
        "    0  0  0 24  0 24 24 24 24 24 24\n",
        "    0  0  0  0 24  0 24 24 24 24 24\n",
        "    0  0  0  0 24 48 24 24 48 48 48\n",
        "    0  0  0  0  0 24 24 48 48 48 48\n",
        "    0  0  0  0  0  0 24 24 48 48 48\n",
        "    0  0  0  0  0  0  0 24 48 48 48\n",
        "    0  0  0  0  0  0  0  0 48 48 48\n",
        "    0  0  0  0  0  0  0  0  0 72 72\n",
        "    0  0  0  0  0  0  0  0  0  0 72\n",
        "    0  0  0  0  0  0  0  0  0  0  0\n",
        "]\n",
        "\n",
        "β = 1319.5\n",
        "\n",
        "ising_model = Model()\n",
        "\n",
        "@variable(ising_model, s[1:11], Spin)\n",
        "\n",
        "@objective(ising_model, Min, s' * J * s + h' * s + β)\n",
        "\n",
        "println(ising_model)"
      ]
    },
    {
      "cell_type": "code",
      "execution_count": null,
      "metadata": {},
      "outputs": [],
      "source": [
        "set_optimizer(ising_model, ExactSampler.Optimizer)\n",
        "\n",
        "optimize!(ising_model)\n",
        "\n",
        "ising_s = round.(Int, value.(s))\n",
        "\n",
        "# Display solution of the problem\n",
        "println(solution_summary(ising_model))\n",
        "println(\"* s = $ising_s\")"
      ]
    },
    {
      "cell_type": "code",
      "execution_count": null,
      "metadata": {},
      "outputs": [],
      "source": [
        "QUBOTools.sampleset(unsafe_backend(ising_model)) |> plot"
      ]
    },
    {
      "cell_type": "code",
      "execution_count": null,
      "metadata": {},
      "outputs": [],
      "source": [
        "Q, α, β = QUBOTools.qubo(unsafe_backend(ising_model), Matrix)"
      ]
    },
    {
      "cell_type": "code",
      "execution_count": null,
      "metadata": {},
      "outputs": [],
      "source": [
        "ising_ilp_model = Model()\n",
        "\n",
        "@variable(ising_ilp_model, x[1:11], Bin)\n",
        "@variable(ising_ilp_model, y[1:11, 1:11], Bin)\n",
        "\n",
        "@objective(\n",
        "    ising_ilp_model,\n",
        "    Min,\n",
        "    sum(Q[i,j] * (i == j ? x[i] : y[i,j]) for i=1:11, j=1:11) +  β\n",
        ")\n",
        "\n",
        "@constraint(ising_ilp_model, c1[i=1:11,j=1:11;i!=j], y[i,j] >= x[i] + x[j] - 1)\n",
        "@constraint(ising_ilp_model, c2[i=1:11,j=1:11;i!=j], y[i,j] <= x[i])\n",
        "@constraint(ising_ilp_model, c3[i=1:11,j=1:11;i!=j], y[i,j] <= x[j])\n",
        "\n",
        "println(ising_ilp_model)"
      ]
    },
    {
      "cell_type": "code",
      "execution_count": null,
      "metadata": {},
      "outputs": [],
      "source": [
        "set_optimizer(ising_ilp_model, GLPK.Optimizer)\n",
        "\n",
        "optimize!(ising_ilp_model)\n",
        "\n",
        "ising_ilp_x = round.(Int, value.(x))\n",
        "\n",
        "println(solution_summary(ising_ilp_model))\n",
        "println(\"* x = $ising_ilp_x\")"
      ]
    },
    {
      "attachments": {},
      "cell_type": "markdown",
      "metadata": {},
      "source": [
        "We observe that the optimal solution of this problem is $x_{1} = x_{2} = x_{3} = 1, 0$ otherwise, leading to an objective of $-38$."
      ]
    },
    {
      "attachments": {},
      "cell_type": "markdown",
      "metadata": {},
      "source": [
        "## Let's go back to the slides"
      ]
    },
    {
      "attachments": {},
      "cell_type": "markdown",
      "metadata": {},
      "source": [
        "Let's now solve the QUBO problem using Simulated Annealing"
      ]
    },
    {
      "cell_type": "code",
      "execution_count": null,
      "metadata": {},
      "outputs": [],
      "source": [
        "using DWaveNeal"
      ]
    },
    {
      "cell_type": "code",
      "execution_count": null,
      "metadata": {},
      "outputs": [],
      "source": [
        "set_optimizer(qubo_model, DWaveNeal.Optimizer)\n",
        "\n",
        "set_optimizer_attribute(qubo_model, \"num_reads\", 1_000)\n",
        "\n",
        "optimize!(qubo_model)\n",
        "\n",
        "x = qubo_model[:x]\n",
        "\n",
        "qubo_x = round.(Int, value.(x))\n",
        "\n",
        "println(solution_summary(qubo_model))\n",
        "println(\"* x = $qubo_x\")"
      ]
    },
    {
      "cell_type": "code",
      "execution_count": null,
      "metadata": {},
      "outputs": [],
      "source": [
        "QUBOTools.sampleset(unsafe_backend(qubo_model)) |> plot"
      ]
    },
    {
      "attachments": {},
      "cell_type": "markdown",
      "metadata": {},
      "source": [
        "Notice that this is the same example we have been solving earlier (via Integer Programming in the Quiz 1 and Ising model above)."
      ]
    },
    {
      "attachments": {},
      "cell_type": "markdown",
      "metadata": {},
      "source": [
        "## Let's go back to the slides"
      ]
    },
    {
      "attachments": {},
      "cell_type": "markdown",
      "metadata": {},
      "source": [
        "Let's solve the graph coloring problem in the slides using QUBO.\n",
        "\n",
        "#### Vertex $k$-coloring of graphs\n",
        "\n",
        "Given a graph $G(V, E)$, where $V$ is the set of vertices and $E$ is the set of edges of $G$, and a positive integer $k$, we ask if it is possible to assign a color to every vertex from $V$, such that adjacent vertices have different colors assigned.\n",
        "\n",
        "$G(V, E)$ has $12$ vertices and $23$ edges.\n",
        "We ask if the graph is $3$–colorable.\n",
        "Let’s first encode $V$ and $E$ using Julia’s built–in data structures:"
      ]
    },
    {
      "attachments": {},
      "cell_type": "markdown",
      "metadata": {},
      "source": [
        "**Note:** This second tutorial is heavily inspired in D-Wave's Map coloring of Canada found **[here](https://docs.ocean.dwavesys.com/en/stable/examples/map_coloring.html)**."
      ]
    },
    {
      "cell_type": "code",
      "execution_count": null,
      "metadata": {},
      "outputs": [],
      "source": [
        "V = 1:12\n",
        "E = [\n",
        "    (1,2), (1,4), (1,6), (1,12),\n",
        "    (2,3), (2,5), (2,7),\n",
        "    (3,8), (3,10),\n",
        "    (4,9), (4,11),\n",
        "    (5,6), (5,9), (5,12),\n",
        "    (6,7), (6,10),\n",
        "    (7,8), (7,11),\n",
        "    (8,9), (8,12),\n",
        "    (9,10),\n",
        "    (10,11),\n",
        "    (11,12),\n",
        "]\n",
        "\n",
        "G = SimpleGraph(Edge.(E))"
      ]
    },
    {
      "cell_type": "code",
      "execution_count": null,
      "metadata": {},
      "outputs": [],
      "source": [
        "graph_layout = Vector{Point}(undef, 12)\n",
        "\n",
        "graph_layout[1] = Point(-1.5,-1.5)\n",
        "graph_layout[2] = Point(1.5,-1.5)\n",
        "graph_layout[3] = Point(1.5,1.5)\n",
        "graph_layout[4] = Point(-1.5,1.5)\n",
        "\n",
        "for i in 5:12\n",
        "    graph_layout[i] = Point(cos((2i+1) * π/8), -sin((2i+1) * π/8))\n",
        "end\n",
        "\n",
        "@drawsvg(\n",
        "    begin\n",
        "        sethue(\"black\")\n",
        "        background(\"white\")\n",
        "        drawgraph(\n",
        "            G;\n",
        "            layout=100 * graph_layout,\n",
        "            vertexlabels = V,\n",
        "        )\n",
        "    end,\n",
        ")"
      ]
    },
    {
      "cell_type": "code",
      "execution_count": null,
      "metadata": {},
      "outputs": [],
      "source": [
        "# Valid configurations for the constraint that each node select a single color, in this case we want to use 3 colors\n",
        "color_model = Model()\n",
        "\n",
        "@variable(color_model, c[1:12,1:3], Bin)\n",
        "\n",
        "# Each node must be colored with exactly one color\n",
        "@constraint(color_model, unique[i=1:12], sum(c[i,:]) == 1)\n",
        "\n",
        "# Add constraint that each pair of nodes with a shared edge not both select one color\n",
        "@constraint(color_model, neigh[(i,j) ∈ E, k=1:3], c[i, k] * c[j,k] == 0)"
      ]
    },
    {
      "cell_type": "code",
      "execution_count": null,
      "metadata": {},
      "outputs": [],
      "source": [
        "set_optimizer(color_model, () -> ToQUBO.Optimizer(DWaveNeal.Optimizer))\n",
        "\n",
        "optimize!(color_model)\n",
        "\n",
        "color_ρ = get_optimizer_attribute.(neigh, ToQUBO.Attributes.ConstraintEncodingPenalty())\n",
        "\n",
        "color_c = round.(Int, value.(c))\n",
        "\n",
        "println(solution_summary(color_model))\n",
        "println(\"* c = $color_c\")\n",
        "println(\"* ρ = $color_ρ\")"
      ]
    },
    {
      "cell_type": "code",
      "execution_count": null,
      "metadata": {},
      "outputs": [],
      "source": [
        "QUBOTools.sampleset(unsafe_backend(color_model).optimizer) |> plot"
      ]
    },
    {
      "cell_type": "code",
      "execution_count": null,
      "metadata": {},
      "outputs": [],
      "source": [
        "@drawsvg(\n",
        "    begin\n",
        "        sethue(\"black\")\n",
        "        background(\"white\")\n",
        "        drawgraph(\n",
        "            G;\n",
        "            layout=100 * graph_layout,\n",
        "            vertexlabels = V,\n",
        "            vertexfillcolors = (v) -> begin\n",
        "                if color_c[v,1] > 0\n",
        "                    return colorant\"red\"\n",
        "                elseif color_c[v,2] > 0\n",
        "                    return colorant\"blue\"\n",
        "                elseif color_c[v,3] > 0\n",
        "                    return colorant\"green\"\n",
        "                else\n",
        "                    return colorant\"white\"\n",
        "                end\n",
        "            end\n",
        "        )\n",
        "    end,\n",
        ")"
      ]
    },
    {
      "attachments": {},
      "cell_type": "markdown",
      "metadata": {},
      "source": [
        "# References\n",
        "\n",
        "- [Julia Colab Notebook Template](https://colab.research.google.com/github/ageron/julia_notebooks/blob/master/Julia_Colab_Notebook_Template.ipynb)\n",
        "- [QuIPML22](https://github.com/bernalde/QuIPML22/blob/main/notebooks/Notebook%202%20-%20QUBO%20and%20Ising.ipynb)"
      ]
    },
    {
      "attachments": {},
      "cell_type": "markdown",
      "metadata": {},
      "source": [
        "<a name=\"installation\" id=\"installation\"></a>\n",
        "\n",
        "# Installation\n",
        "\n",
        "## Colab Instructions\n",
        "\n",
        "If not in a Colab notebook, continue to the next section.\n",
        "\n",
        "1. Work on a copy of this notebook: _File_ > _Save a copy in Drive_ (you will need a Google account). Alternatively, you can download the notebook using _File_ > _Download .ipynb_, then upload it to [Colab](https://colab.research.google.com/).\n",
        "2. Execute the following cell (click on it and press Ctrl+Enter) to install Julia, IJulia and other required packages. This can take a couple of minutes.\n",
        "3. Reload this page (press Ctrl+R, or ⌘+R, or the F5 key) and continue to the next section.\n",
        "\n",
        "If your Colab Runtime gets reset (e.g., due to inactivity), repeat steps 2 and 3."
      ]
    },
    {
      "cell_type": "code",
      "execution_count": null,
      "metadata": {},
      "outputs": [],
      "source": [
        "%%shell\n",
        "\n",
        "bash <(curl -s \"https://raw.githubusercontent.com/pedromxavier/QUBO-notebooks/main/scripts/install-colab-julia.sh\")"
      ]
    },
    {
      "attachments": {},
      "cell_type": "markdown",
      "metadata": {},
      "source": [
        "## Validate Installation"
      ]
    },
    {
      "cell_type": "code",
      "execution_count": null,
      "metadata": {},
      "outputs": [],
      "source": [
        "versioninfo()"
      ]
    },
    {
      "attachments": {},
      "cell_type": "markdown",
      "metadata": {},
      "source": [
        "## Local Installation Instructions\n",
        "\n",
        "If you don't have a Julia installation yet, consider using [juliaup](https://github.com/JuliaLang/juliaup).\n",
        "Otherwise, run the next cell to install the necessary packages.\n",
        "\n",
        "### Install Julia Packages"
      ]
    },
    {
      "cell_type": "code",
      "execution_count": null,
      "metadata": {},
      "outputs": [],
      "source": [
        "import Pkg\n",
        "\n",
        "Pkg.activate(@__DIR__)\n",
        "Pkg.instantiate(;io = devnull) # Suppress Output"
      ]
    },
    {
      "attachments": {},
      "cell_type": "markdown",
      "metadata": {},
      "source": [
        "<div align=\"center\">\n",
        "    <a href=\"#top\">🔝 Go back to the top 🔝</a>\n",
        "</div>"
      ]
    }
  ],
  "metadata": {
    "colab": {
      "include_colab_link": true,
      "provenance": []
    },
    "gpuClass": "standard",
    "kernelspec": {
      "display_name": "Julia 1.9.1",
      "language": "julia",
      "name": "julia-1.9"
    },
    "language_info": {
      "file_extension": ".jl",
      "mimetype": "application/julia",
      "name": "julia",
      "version": "1.9.1"
    }
  },
  "nbformat": 4,
  "nbformat_minor": 0
}
